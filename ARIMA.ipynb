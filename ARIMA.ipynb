{
  "nbformat": 4,
  "nbformat_minor": 0,
  "metadata": {
    "colab": {
      "name": "ARIMA.ipynb",
      "provenance": [],
      "collapsed_sections": [],
      "authorship_tag": "ABX9TyNpR9CVD1eEWWV/4fVHhPBe",
      "include_colab_link": true
    },
    "kernelspec": {
      "name": "python3",
      "display_name": "Python 3"
    }
  },
  "cells": [
    {
      "cell_type": "markdown",
      "metadata": {
        "id": "view-in-github",
        "colab_type": "text"
      },
      "source": [
        "<a href=\"https://colab.research.google.com/github/kdwang1808/2020-MCM/blob/master/ARIMA.ipynb\" target=\"_parent\"><img src=\"https://colab.research.google.com/assets/colab-badge.svg\" alt=\"Open In Colab\"/></a>"
      ]
    },
    {
      "cell_type": "code",
      "metadata": {
        "id": "BNwY1mI6b81P",
        "colab_type": "code",
        "colab": {
          "base_uri": "https://localhost:8080/",
          "height": 50
        },
        "outputId": "d086cc33-5020-45a6-b367-4170b42a4994"
      },
      "source": [
        "!apt-get install -y -qq software-properties-common python-software-properties module-init-tools\n",
        "!add-apt-repository -y ppa:alessandro-strada/ppa 2>&1 > /dev/null\n",
        "!apt-get update -qq 2>&1 > /dev/null\n",
        "!apt-get -y install -qq google-drive-ocamlfuse fuse\n",
        "from google.colab import auth\n",
        "auth.authenticate_user()\n",
        "from oauth2client.client import GoogleCredentials\n",
        "creds = GoogleCredentials.get_application_default()\n",
        "import getpass\n",
        "!google-drive-ocamlfuse -headless -id={creds.client_id} -secret={creds.client_secret} < /dev/null 2>&1 | grep URL\n",
        "vcode = getpass.getpass()\n",
        "!echo {vcode} | google-drive-ocamlfuse -headless -id={creds.client_id} -secret={creds.client_secret}"
      ],
      "execution_count": 5,
      "outputs": [
        {
          "output_type": "stream",
          "text": [
            "E: Package 'python-software-properties' has no installation candidate\n",
            "··········\n"
          ],
          "name": "stdout"
        }
      ]
    },
    {
      "cell_type": "code",
      "metadata": {
        "id": "7SYjmoa0cIMT",
        "colab_type": "code",
        "colab": {}
      },
      "source": [
        "!mkdir -p drive\n",
        "!google-drive-ocamlfuse drive\n",
        "import os\n",
        "import sys\n",
        "os.chdir('drive/Colab Notebooks/2020MCM_PC')"
      ],
      "execution_count": 0,
      "outputs": []
    },
    {
      "cell_type": "code",
      "metadata": {
        "id": "eI4eWglxcaca",
        "colab_type": "code",
        "colab": {
          "base_uri": "https://localhost:8080/",
          "height": 67
        },
        "outputId": "0135eab2-a1bf-4aba-b7f3-4726c133be3c"
      },
      "source": [
        "import numpy as np\n",
        "import pandas as pd\n",
        "import seaborn as sns\n",
        "import tqdm as tqdm\n",
        "import matplotlib.pyplot as plt\n",
        "%matplotlib inline\n",
        "! pip install plotly\n",
        "import chart_studio.plotly as ply\n",
        "from statsmodels.tsa.seasonal import seasonal_decompose"
      ],
      "execution_count": 2,
      "outputs": [
        {
          "output_type": "stream",
          "text": [
            "Requirement already satisfied: plotly in /usr/local/lib/python3.6/dist-packages (4.4.1)\n",
            "Requirement already satisfied: six in /usr/local/lib/python3.6/dist-packages (from plotly) (1.12.0)\n",
            "Requirement already satisfied: retrying>=1.3.3 in /usr/local/lib/python3.6/dist-packages (from plotly) (1.3.3)\n"
          ],
          "name": "stdout"
        }
      ]
    },
    {
      "cell_type": "code",
      "metadata": {
        "id": "_KTAdgxHc48-",
        "colab_type": "code",
        "colab": {
          "base_uri": "https://localhost:8080/",
          "height": 507
        },
        "outputId": "4e2d2354-be47-46e0-9ed6-684a0b67425f"
      },
      "source": [
        "! pip install pyramid-arima\n",
        "from pyramid.arima import auto_arima"
      ],
      "execution_count": 3,
      "outputs": [
        {
          "output_type": "stream",
          "text": [
            "Requirement already satisfied: pyramid-arima in /usr/local/lib/python3.6/dist-packages (0.9.0)\n",
            "Requirement already satisfied: scipy>=0.9 in /usr/local/lib/python3.6/dist-packages (from pyramid-arima) (1.4.1)\n",
            "Requirement already satisfied: pandas>=0.19 in /usr/local/lib/python3.6/dist-packages (from pyramid-arima) (0.25.3)\n",
            "Requirement already satisfied: Cython>=0.23 in /usr/local/lib/python3.6/dist-packages (from pyramid-arima) (0.29.15)\n",
            "Requirement already satisfied: statsmodels>=0.9.0 in /usr/local/lib/python3.6/dist-packages (from pyramid-arima) (0.10.2)\n",
            "Requirement already satisfied: numpy>=1.10 in /usr/local/lib/python3.6/dist-packages (from pyramid-arima) (1.17.5)\n",
            "Requirement already satisfied: scikit-learn>=0.17 in /usr/local/lib/python3.6/dist-packages (from pyramid-arima) (0.22.1)\n",
            "Requirement already satisfied: pytz>=2017.2 in /usr/local/lib/python3.6/dist-packages (from pandas>=0.19->pyramid-arima) (2018.9)\n",
            "Requirement already satisfied: python-dateutil>=2.6.1 in /usr/local/lib/python3.6/dist-packages (from pandas>=0.19->pyramid-arima) (2.6.1)\n",
            "Requirement already satisfied: patsy>=0.4.0 in /usr/local/lib/python3.6/dist-packages (from statsmodels>=0.9.0->pyramid-arima) (0.5.1)\n",
            "Requirement already satisfied: joblib>=0.11 in /usr/local/lib/python3.6/dist-packages (from scikit-learn>=0.17->pyramid-arima) (0.14.1)\n",
            "Requirement already satisfied: six>=1.5 in /usr/local/lib/python3.6/dist-packages (from python-dateutil>=2.6.1->pandas>=0.19->pyramid-arima) (1.12.0)\n"
          ],
          "name": "stdout"
        },
        {
          "output_type": "stream",
          "text": [
            "/usr/local/lib/python3.6/dist-packages/sklearn/externals/six.py:31: FutureWarning: The module is deprecated in version 0.21 and will be removed in version 0.23 since we've dropped support for Python 2.7. Please rely on the official version of six (https://pypi.org/project/six/).\n",
            "  \"(https://pypi.org/project/six/).\", FutureWarning)\n",
            "/usr/local/lib/python3.6/dist-packages/sklearn/externals/joblib/__init__.py:15: FutureWarning: sklearn.externals.joblib is deprecated in 0.21 and will be removed in 0.23. Please import this functionality directly from joblib, which can be installed with: pip install joblib. If this warning is raised when loading pickled models, you may need to re-serialize those models with scikit-learn 0.21+.\n",
            "  warnings.warn(msg, category=FutureWarning)\n",
            "/usr/local/lib/python3.6/dist-packages/pyramid/__init__.py:68: UserWarning: \n",
            "    The 'pyramid' package will be migrating to a new namespace beginning in \n",
            "    version 1.0.0: 'pmdarima'. This is due to a package name collision with the\n",
            "    Pyramid web framework. For more information, see Issue #34:\n",
            "    \n",
            "        https://github.com/tgsmith61591/pyramid/issues/34\n",
            "        \n",
            "    The package will subsequently be installable via the name 'pmdarima'; the\n",
            "    only functional change to the user will be the import name. All imports\n",
            "    from 'pyramid' will change to 'pmdarima'.\n",
            "    \n",
            "  \"\"\", UserWarning)\n"
          ],
          "name": "stderr"
        }
      ]
    },
    {
      "cell_type": "code",
      "metadata": {
        "id": "PkPubQdRdxrA",
        "colab_type": "code",
        "colab": {}
      },
      "source": [
        "hair_11 = pd.read_csv(\"for_mcm/hair/11.csv\")"
      ],
      "execution_count": 0,
      "outputs": []
    },
    {
      "cell_type": "code",
      "metadata": {
        "id": "fca94zkbefow",
        "colab_type": "code",
        "colab": {
          "base_uri": "https://localhost:8080/",
          "height": 284
        },
        "outputId": "1bcdc0de-8989-4b37-a74e-09dd42b43526"
      },
      "source": [
        "hair_11.head(8)"
      ],
      "execution_count": 13,
      "outputs": [
        {
          "output_type": "execute_result",
          "data": {
            "text/html": [
              "<div>\n",
              "<style scoped>\n",
              "    .dataframe tbody tr th:only-of-type {\n",
              "        vertical-align: middle;\n",
              "    }\n",
              "\n",
              "    .dataframe tbody tr th {\n",
              "        vertical-align: top;\n",
              "    }\n",
              "\n",
              "    .dataframe thead th {\n",
              "        text-align: right;\n",
              "    }\n",
              "</style>\n",
              "<table border=\"1\" class=\"dataframe\">\n",
              "  <thead>\n",
              "    <tr style=\"text-align: right;\">\n",
              "      <th></th>\n",
              "      <th>Unnamed: 0</th>\n",
              "      <th>time</th>\n",
              "      <th>cnt</th>\n",
              "      <th>ave_score</th>\n",
              "      <th>useful_vote</th>\n",
              "    </tr>\n",
              "  </thead>\n",
              "  <tbody>\n",
              "    <tr>\n",
              "      <th>0</th>\n",
              "      <td>0</td>\n",
              "      <td>2008/1</td>\n",
              "      <td>0</td>\n",
              "      <td>0.0</td>\n",
              "      <td>0.0</td>\n",
              "    </tr>\n",
              "    <tr>\n",
              "      <th>1</th>\n",
              "      <td>1</td>\n",
              "      <td>2008/2</td>\n",
              "      <td>0</td>\n",
              "      <td>0.0</td>\n",
              "      <td>0.0</td>\n",
              "    </tr>\n",
              "    <tr>\n",
              "      <th>2</th>\n",
              "      <td>2</td>\n",
              "      <td>2008/3</td>\n",
              "      <td>1</td>\n",
              "      <td>5.0</td>\n",
              "      <td>1.0</td>\n",
              "    </tr>\n",
              "    <tr>\n",
              "      <th>3</th>\n",
              "      <td>3</td>\n",
              "      <td>2008/4</td>\n",
              "      <td>0</td>\n",
              "      <td>0.0</td>\n",
              "      <td>0.0</td>\n",
              "    </tr>\n",
              "    <tr>\n",
              "      <th>4</th>\n",
              "      <td>4</td>\n",
              "      <td>2008/5</td>\n",
              "      <td>0</td>\n",
              "      <td>0.0</td>\n",
              "      <td>0.0</td>\n",
              "    </tr>\n",
              "    <tr>\n",
              "      <th>5</th>\n",
              "      <td>5</td>\n",
              "      <td>2008/6</td>\n",
              "      <td>1</td>\n",
              "      <td>4.0</td>\n",
              "      <td>1.0</td>\n",
              "    </tr>\n",
              "    <tr>\n",
              "      <th>6</th>\n",
              "      <td>6</td>\n",
              "      <td>2008/7</td>\n",
              "      <td>0</td>\n",
              "      <td>0.0</td>\n",
              "      <td>0.0</td>\n",
              "    </tr>\n",
              "    <tr>\n",
              "      <th>7</th>\n",
              "      <td>7</td>\n",
              "      <td>2008/8</td>\n",
              "      <td>2</td>\n",
              "      <td>5.0</td>\n",
              "      <td>0.5</td>\n",
              "    </tr>\n",
              "  </tbody>\n",
              "</table>\n",
              "</div>"
            ],
            "text/plain": [
              "   Unnamed: 0    time  cnt  ave_score  useful_vote\n",
              "0           0  2008/1    0        0.0          0.0\n",
              "1           1  2008/2    0        0.0          0.0\n",
              "2           2  2008/3    1        5.0          1.0\n",
              "3           3  2008/4    0        0.0          0.0\n",
              "4           4  2008/5    0        0.0          0.0\n",
              "5           5  2008/6    1        4.0          1.0\n",
              "6           6  2008/7    0        0.0          0.0\n",
              "7           7  2008/8    2        5.0          0.5"
            ]
          },
          "metadata": {
            "tags": []
          },
          "execution_count": 13
        }
      ]
    },
    {
      "cell_type": "code",
      "metadata": {
        "id": "GbaBqQnFf2Gz",
        "colab_type": "code",
        "colab": {
          "base_uri": "https://localhost:8080/",
          "height": 323
        },
        "outputId": "3351ae5d-9341-4b73-d983-850fd483759c"
      },
      "source": [
        "hair_11.index = pd.to_datetime(hair_11[\"time\"])\n",
        "hair_11 = hair_11.drop(['Unnamed: 0'], axis=1)"
      ],
      "execution_count": 27,
      "outputs": [
        {
          "output_type": "error",
          "ename": "KeyError",
          "evalue": "ignored",
          "traceback": [
            "\u001b[0;31m---------------------------------------------------------------------------\u001b[0m",
            "\u001b[0;31mKeyError\u001b[0m                                  Traceback (most recent call last)",
            "\u001b[0;32m<ipython-input-27-decc41074a6a>\u001b[0m in \u001b[0;36m<module>\u001b[0;34m()\u001b[0m\n\u001b[1;32m      1\u001b[0m \u001b[0mhair_11\u001b[0m\u001b[0;34m.\u001b[0m\u001b[0mindex\u001b[0m \u001b[0;34m=\u001b[0m \u001b[0mpd\u001b[0m\u001b[0;34m.\u001b[0m\u001b[0mto_datetime\u001b[0m\u001b[0;34m(\u001b[0m\u001b[0mhair_11\u001b[0m\u001b[0;34m[\u001b[0m\u001b[0;34m\"time\"\u001b[0m\u001b[0;34m]\u001b[0m\u001b[0;34m,\u001b[0m \u001b[0mformat\u001b[0m\u001b[0;34m=\u001b[0m\u001b[0;34m'%Y/%m'\u001b[0m\u001b[0;34m)\u001b[0m\u001b[0;34m\u001b[0m\u001b[0;34m\u001b[0m\u001b[0m\n\u001b[0;32m----> 2\u001b[0;31m \u001b[0mhair_11\u001b[0m \u001b[0;34m=\u001b[0m \u001b[0mhair_11\u001b[0m\u001b[0;34m.\u001b[0m\u001b[0mdrop\u001b[0m\u001b[0;34m(\u001b[0m\u001b[0;34m[\u001b[0m\u001b[0;34m'Unnamed: 0'\u001b[0m\u001b[0;34m]\u001b[0m\u001b[0;34m,\u001b[0m \u001b[0maxis\u001b[0m\u001b[0;34m=\u001b[0m\u001b[0;36m1\u001b[0m\u001b[0;34m)\u001b[0m\u001b[0;34m\u001b[0m\u001b[0;34m\u001b[0m\u001b[0m\n\u001b[0m",
            "\u001b[0;32m/usr/local/lib/python3.6/dist-packages/pandas/core/frame.py\u001b[0m in \u001b[0;36mdrop\u001b[0;34m(self, labels, axis, index, columns, level, inplace, errors)\u001b[0m\n\u001b[1;32m   4115\u001b[0m             \u001b[0mlevel\u001b[0m\u001b[0;34m=\u001b[0m\u001b[0mlevel\u001b[0m\u001b[0;34m,\u001b[0m\u001b[0;34m\u001b[0m\u001b[0;34m\u001b[0m\u001b[0m\n\u001b[1;32m   4116\u001b[0m             \u001b[0minplace\u001b[0m\u001b[0;34m=\u001b[0m\u001b[0minplace\u001b[0m\u001b[0;34m,\u001b[0m\u001b[0;34m\u001b[0m\u001b[0;34m\u001b[0m\u001b[0m\n\u001b[0;32m-> 4117\u001b[0;31m             \u001b[0merrors\u001b[0m\u001b[0;34m=\u001b[0m\u001b[0merrors\u001b[0m\u001b[0;34m,\u001b[0m\u001b[0;34m\u001b[0m\u001b[0;34m\u001b[0m\u001b[0m\n\u001b[0m\u001b[1;32m   4118\u001b[0m         )\n\u001b[1;32m   4119\u001b[0m \u001b[0;34m\u001b[0m\u001b[0m\n",
            "\u001b[0;32m/usr/local/lib/python3.6/dist-packages/pandas/core/generic.py\u001b[0m in \u001b[0;36mdrop\u001b[0;34m(self, labels, axis, index, columns, level, inplace, errors)\u001b[0m\n\u001b[1;32m   3912\u001b[0m         \u001b[0;32mfor\u001b[0m \u001b[0maxis\u001b[0m\u001b[0;34m,\u001b[0m \u001b[0mlabels\u001b[0m \u001b[0;32min\u001b[0m \u001b[0maxes\u001b[0m\u001b[0;34m.\u001b[0m\u001b[0mitems\u001b[0m\u001b[0;34m(\u001b[0m\u001b[0;34m)\u001b[0m\u001b[0;34m:\u001b[0m\u001b[0;34m\u001b[0m\u001b[0;34m\u001b[0m\u001b[0m\n\u001b[1;32m   3913\u001b[0m             \u001b[0;32mif\u001b[0m \u001b[0mlabels\u001b[0m \u001b[0;32mis\u001b[0m \u001b[0;32mnot\u001b[0m \u001b[0;32mNone\u001b[0m\u001b[0;34m:\u001b[0m\u001b[0;34m\u001b[0m\u001b[0;34m\u001b[0m\u001b[0m\n\u001b[0;32m-> 3914\u001b[0;31m                 \u001b[0mobj\u001b[0m \u001b[0;34m=\u001b[0m \u001b[0mobj\u001b[0m\u001b[0;34m.\u001b[0m\u001b[0m_drop_axis\u001b[0m\u001b[0;34m(\u001b[0m\u001b[0mlabels\u001b[0m\u001b[0;34m,\u001b[0m \u001b[0maxis\u001b[0m\u001b[0;34m,\u001b[0m \u001b[0mlevel\u001b[0m\u001b[0;34m=\u001b[0m\u001b[0mlevel\u001b[0m\u001b[0;34m,\u001b[0m \u001b[0merrors\u001b[0m\u001b[0;34m=\u001b[0m\u001b[0merrors\u001b[0m\u001b[0;34m)\u001b[0m\u001b[0;34m\u001b[0m\u001b[0;34m\u001b[0m\u001b[0m\n\u001b[0m\u001b[1;32m   3915\u001b[0m \u001b[0;34m\u001b[0m\u001b[0m\n\u001b[1;32m   3916\u001b[0m         \u001b[0;32mif\u001b[0m \u001b[0minplace\u001b[0m\u001b[0;34m:\u001b[0m\u001b[0;34m\u001b[0m\u001b[0;34m\u001b[0m\u001b[0m\n",
            "\u001b[0;32m/usr/local/lib/python3.6/dist-packages/pandas/core/generic.py\u001b[0m in \u001b[0;36m_drop_axis\u001b[0;34m(self, labels, axis, level, errors)\u001b[0m\n\u001b[1;32m   3944\u001b[0m                 \u001b[0mnew_axis\u001b[0m \u001b[0;34m=\u001b[0m \u001b[0maxis\u001b[0m\u001b[0;34m.\u001b[0m\u001b[0mdrop\u001b[0m\u001b[0;34m(\u001b[0m\u001b[0mlabels\u001b[0m\u001b[0;34m,\u001b[0m \u001b[0mlevel\u001b[0m\u001b[0;34m=\u001b[0m\u001b[0mlevel\u001b[0m\u001b[0;34m,\u001b[0m \u001b[0merrors\u001b[0m\u001b[0;34m=\u001b[0m\u001b[0merrors\u001b[0m\u001b[0;34m)\u001b[0m\u001b[0;34m\u001b[0m\u001b[0;34m\u001b[0m\u001b[0m\n\u001b[1;32m   3945\u001b[0m             \u001b[0;32melse\u001b[0m\u001b[0;34m:\u001b[0m\u001b[0;34m\u001b[0m\u001b[0;34m\u001b[0m\u001b[0m\n\u001b[0;32m-> 3946\u001b[0;31m                 \u001b[0mnew_axis\u001b[0m \u001b[0;34m=\u001b[0m \u001b[0maxis\u001b[0m\u001b[0;34m.\u001b[0m\u001b[0mdrop\u001b[0m\u001b[0;34m(\u001b[0m\u001b[0mlabels\u001b[0m\u001b[0;34m,\u001b[0m \u001b[0merrors\u001b[0m\u001b[0;34m=\u001b[0m\u001b[0merrors\u001b[0m\u001b[0;34m)\u001b[0m\u001b[0;34m\u001b[0m\u001b[0;34m\u001b[0m\u001b[0m\n\u001b[0m\u001b[1;32m   3947\u001b[0m             \u001b[0mresult\u001b[0m \u001b[0;34m=\u001b[0m \u001b[0mself\u001b[0m\u001b[0;34m.\u001b[0m\u001b[0mreindex\u001b[0m\u001b[0;34m(\u001b[0m\u001b[0;34m**\u001b[0m\u001b[0;34m{\u001b[0m\u001b[0maxis_name\u001b[0m\u001b[0;34m:\u001b[0m \u001b[0mnew_axis\u001b[0m\u001b[0;34m}\u001b[0m\u001b[0;34m)\u001b[0m\u001b[0;34m\u001b[0m\u001b[0;34m\u001b[0m\u001b[0m\n\u001b[1;32m   3948\u001b[0m \u001b[0;34m\u001b[0m\u001b[0m\n",
            "\u001b[0;32m/usr/local/lib/python3.6/dist-packages/pandas/core/indexes/base.py\u001b[0m in \u001b[0;36mdrop\u001b[0;34m(self, labels, errors)\u001b[0m\n\u001b[1;32m   5338\u001b[0m         \u001b[0;32mif\u001b[0m \u001b[0mmask\u001b[0m\u001b[0;34m.\u001b[0m\u001b[0many\u001b[0m\u001b[0;34m(\u001b[0m\u001b[0;34m)\u001b[0m\u001b[0;34m:\u001b[0m\u001b[0;34m\u001b[0m\u001b[0;34m\u001b[0m\u001b[0m\n\u001b[1;32m   5339\u001b[0m             \u001b[0;32mif\u001b[0m \u001b[0merrors\u001b[0m \u001b[0;34m!=\u001b[0m \u001b[0;34m\"ignore\"\u001b[0m\u001b[0;34m:\u001b[0m\u001b[0;34m\u001b[0m\u001b[0;34m\u001b[0m\u001b[0m\n\u001b[0;32m-> 5340\u001b[0;31m                 \u001b[0;32mraise\u001b[0m \u001b[0mKeyError\u001b[0m\u001b[0;34m(\u001b[0m\u001b[0;34m\"{} not found in axis\"\u001b[0m\u001b[0;34m.\u001b[0m\u001b[0mformat\u001b[0m\u001b[0;34m(\u001b[0m\u001b[0mlabels\u001b[0m\u001b[0;34m[\u001b[0m\u001b[0mmask\u001b[0m\u001b[0;34m]\u001b[0m\u001b[0;34m)\u001b[0m\u001b[0;34m)\u001b[0m\u001b[0;34m\u001b[0m\u001b[0;34m\u001b[0m\u001b[0m\n\u001b[0m\u001b[1;32m   5341\u001b[0m             \u001b[0mindexer\u001b[0m \u001b[0;34m=\u001b[0m \u001b[0mindexer\u001b[0m\u001b[0;34m[\u001b[0m\u001b[0;34m~\u001b[0m\u001b[0mmask\u001b[0m\u001b[0;34m]\u001b[0m\u001b[0;34m\u001b[0m\u001b[0;34m\u001b[0m\u001b[0m\n\u001b[1;32m   5342\u001b[0m         \u001b[0;32mreturn\u001b[0m \u001b[0mself\u001b[0m\u001b[0;34m.\u001b[0m\u001b[0mdelete\u001b[0m\u001b[0;34m(\u001b[0m\u001b[0mindexer\u001b[0m\u001b[0;34m)\u001b[0m\u001b[0;34m\u001b[0m\u001b[0;34m\u001b[0m\u001b[0m\n",
            "\u001b[0;31mKeyError\u001b[0m: \"['Unnamed: 0'] not found in axis\""
          ]
        }
      ]
    },
    {
      "cell_type": "code",
      "metadata": {
        "id": "enXdCsbpgGsJ",
        "colab_type": "code",
        "colab": {
          "base_uri": "https://localhost:8080/",
          "height": 314
        },
        "outputId": "c12a1787-abd9-41ae-f627-cfdff9b7b6c0"
      },
      "source": [
        "hair_11.tail(8)"
      ],
      "execution_count": 61,
      "outputs": [
        {
          "output_type": "execute_result",
          "data": {
            "text/html": [
              "<div>\n",
              "<style scoped>\n",
              "    .dataframe tbody tr th:only-of-type {\n",
              "        vertical-align: middle;\n",
              "    }\n",
              "\n",
              "    .dataframe tbody tr th {\n",
              "        vertical-align: top;\n",
              "    }\n",
              "\n",
              "    .dataframe thead th {\n",
              "        text-align: right;\n",
              "    }\n",
              "</style>\n",
              "<table border=\"1\" class=\"dataframe\">\n",
              "  <thead>\n",
              "    <tr style=\"text-align: right;\">\n",
              "      <th></th>\n",
              "      <th>time</th>\n",
              "      <th>cnt</th>\n",
              "      <th>ave_score</th>\n",
              "      <th>useful_vote</th>\n",
              "    </tr>\n",
              "    <tr>\n",
              "      <th>time</th>\n",
              "      <th></th>\n",
              "      <th></th>\n",
              "      <th></th>\n",
              "      <th></th>\n",
              "    </tr>\n",
              "  </thead>\n",
              "  <tbody>\n",
              "    <tr>\n",
              "      <th>2015-01-01</th>\n",
              "      <td>2015/1</td>\n",
              "      <td>20</td>\n",
              "      <td>3.950000</td>\n",
              "      <td>0.300000</td>\n",
              "    </tr>\n",
              "    <tr>\n",
              "      <th>2015-02-01</th>\n",
              "      <td>2015/2</td>\n",
              "      <td>18</td>\n",
              "      <td>4.388889</td>\n",
              "      <td>0.166667</td>\n",
              "    </tr>\n",
              "    <tr>\n",
              "      <th>2015-03-01</th>\n",
              "      <td>2015/3</td>\n",
              "      <td>13</td>\n",
              "      <td>4.384615</td>\n",
              "      <td>0.000000</td>\n",
              "    </tr>\n",
              "    <tr>\n",
              "      <th>2015-04-01</th>\n",
              "      <td>2015/4</td>\n",
              "      <td>9</td>\n",
              "      <td>4.111111</td>\n",
              "      <td>0.111111</td>\n",
              "    </tr>\n",
              "    <tr>\n",
              "      <th>2015-05-01</th>\n",
              "      <td>2015/5</td>\n",
              "      <td>12</td>\n",
              "      <td>4.666667</td>\n",
              "      <td>0.000000</td>\n",
              "    </tr>\n",
              "    <tr>\n",
              "      <th>2015-06-01</th>\n",
              "      <td>2015/6</td>\n",
              "      <td>19</td>\n",
              "      <td>4.789474</td>\n",
              "      <td>0.315789</td>\n",
              "    </tr>\n",
              "    <tr>\n",
              "      <th>2015-07-01</th>\n",
              "      <td>2015/7</td>\n",
              "      <td>17</td>\n",
              "      <td>3.764706</td>\n",
              "      <td>0.058824</td>\n",
              "    </tr>\n",
              "    <tr>\n",
              "      <th>2015-08-01</th>\n",
              "      <td>2015/8</td>\n",
              "      <td>14</td>\n",
              "      <td>3.714286</td>\n",
              "      <td>0.071429</td>\n",
              "    </tr>\n",
              "  </tbody>\n",
              "</table>\n",
              "</div>"
            ],
            "text/plain": [
              "              time  cnt  ave_score  useful_vote\n",
              "time                                           \n",
              "2015-01-01  2015/1   20   3.950000     0.300000\n",
              "2015-02-01  2015/2   18   4.388889     0.166667\n",
              "2015-03-01  2015/3   13   4.384615     0.000000\n",
              "2015-04-01  2015/4    9   4.111111     0.111111\n",
              "2015-05-01  2015/5   12   4.666667     0.000000\n",
              "2015-06-01  2015/6   19   4.789474     0.315789\n",
              "2015-07-01  2015/7   17   3.764706     0.058824\n",
              "2015-08-01  2015/8   14   3.714286     0.071429"
            ]
          },
          "metadata": {
            "tags": []
          },
          "execution_count": 61
        }
      ]
    },
    {
      "cell_type": "code",
      "metadata": {
        "id": "etljpLalgjR_",
        "colab_type": "code",
        "colab": {
          "base_uri": "https://localhost:8080/",
          "height": 609
        },
        "outputId": "1896be41-f403-47ae-866b-408d1a95677a"
      },
      "source": [
        "sns.set_style(\"darkgrid\")\n",
        "plt.figure(figsize=(16,10))\n",
        "plt.plot(hair_11.index, hair_11['cnt'], lw=2)\n",
        "plt.bar(hair_11.index, hair_11['ave_score'], edgecolor='y')"
      ],
      "execution_count": 45,
      "outputs": [
        {
          "output_type": "execute_result",
          "data": {
            "text/plain": [
              "<BarContainer object of 92 artists>"
            ]
          },
          "metadata": {
            "tags": []
          },
          "execution_count": 45
        },
        {
          "output_type": "display_data",
          "data": {
            "image/png": "[encoded data removed]",
            "text/plain": [
              "<Figure size 1152x720 with 1 Axes>"
            ]
          },
          "metadata": {
            "tags": []
          }
        }
      ]
    },
    {
      "cell_type": "code",
      "metadata": {
        "id": "3GqQl0NSilqX",
        "colab_type": "code",
        "colab": {
          "base_uri": "https://localhost:8080/",
          "height": 424
        },
        "outputId": "c347000b-3d67-47e6-c421-10118e129a2c"
      },
      "source": [
        "from chart_studio.plotly import plot_mpl\n",
        "result = seasonal_decompose(hair_11['cnt']+1, model = 'multiplicative')\n",
        "plot_mpl(result.plot())"
      ],
      "execution_count": 46,
      "outputs": [
        {
          "output_type": "stream",
          "text": [
            "/usr/local/lib/python3.6/dist-packages/plotly/matplotlylib/mpltools.py:368: MatplotlibDeprecationWarning:\n",
            "\n",
            "\n",
            "The is_frame_like function was deprecated in Matplotlib 3.1 and will be removed in 3.3.\n",
            "\n"
          ],
          "name": "stderr"
        },
        {
          "output_type": "error",
          "ename": "PlotlyRequestError",
          "evalue": "ignored",
          "traceback": [
            "\u001b[0;31m---------------------------------------------------------------------------\u001b[0m",
            "\u001b[0;31mPlotlyRequestError\u001b[0m                        Traceback (most recent call last)",
            "\u001b[0;32m<ipython-input-46-74a45090f483>\u001b[0m in \u001b[0;36m<module>\u001b[0;34m()\u001b[0m\n\u001b[1;32m      1\u001b[0m \u001b[0;32mfrom\u001b[0m \u001b[0mchart_studio\u001b[0m\u001b[0;34m.\u001b[0m\u001b[0mplotly\u001b[0m \u001b[0;32mimport\u001b[0m \u001b[0mplot_mpl\u001b[0m\u001b[0;34m\u001b[0m\u001b[0;34m\u001b[0m\u001b[0m\n\u001b[1;32m      2\u001b[0m \u001b[0mresult\u001b[0m \u001b[0;34m=\u001b[0m \u001b[0mseasonal_decompose\u001b[0m\u001b[0;34m(\u001b[0m\u001b[0mhair_11\u001b[0m\u001b[0;34m[\u001b[0m\u001b[0;34m'cnt'\u001b[0m\u001b[0;34m]\u001b[0m\u001b[0;34m+\u001b[0m\u001b[0;36m1\u001b[0m\u001b[0;34m,\u001b[0m \u001b[0mmodel\u001b[0m \u001b[0;34m=\u001b[0m \u001b[0;34m'multiplicative'\u001b[0m\u001b[0;34m)\u001b[0m\u001b[0;34m\u001b[0m\u001b[0;34m\u001b[0m\u001b[0m\n\u001b[0;32m----> 3\u001b[0;31m \u001b[0mplot_mpl\u001b[0m\u001b[0;34m(\u001b[0m\u001b[0mresult\u001b[0m\u001b[0;34m.\u001b[0m\u001b[0mplot\u001b[0m\u001b[0;34m(\u001b[0m\u001b[0;34m)\u001b[0m\u001b[0;34m)\u001b[0m\u001b[0;34m\u001b[0m\u001b[0;34m\u001b[0m\u001b[0m\n\u001b[0m",
            "\u001b[0;32m/usr/local/lib/python3.6/dist-packages/chart_studio/plotly/plotly.py\u001b[0m in \u001b[0;36mplot_mpl\u001b[0;34m(fig, resize, strip_style, update, **plot_options)\u001b[0m\n\u001b[1;32m    366\u001b[0m             \u001b[0;34m\"object. Run 'help(plotly.graph_objs.Figure)' for more info.\"\u001b[0m\u001b[0;34m\u001b[0m\u001b[0;34m\u001b[0m\u001b[0m\n\u001b[1;32m    367\u001b[0m         )\n\u001b[0;32m--> 368\u001b[0;31m     \u001b[0;32mreturn\u001b[0m \u001b[0mplot\u001b[0m\u001b[0;34m(\u001b[0m\u001b[0mfig\u001b[0m\u001b[0;34m,\u001b[0m \u001b[0;34m**\u001b[0m\u001b[0mplot_options\u001b[0m\u001b[0;34m)\u001b[0m\u001b[0;34m\u001b[0m\u001b[0;34m\u001b[0m\u001b[0m\n\u001b[0m\u001b[1;32m    369\u001b[0m \u001b[0;34m\u001b[0m\u001b[0m\n\u001b[1;32m    370\u001b[0m \u001b[0;34m\u001b[0m\u001b[0m\n",
            "\u001b[0;32m/usr/local/lib/python3.6/dist-packages/chart_studio/plotly/plotly.py\u001b[0m in \u001b[0;36mplot\u001b[0;34m(figure_or_data, validate, **plot_options)\u001b[0m\n\u001b[1;32m    278\u001b[0m             \u001b[0mfilename\u001b[0m\u001b[0;34m=\u001b[0m\u001b[0mgrid_filename\u001b[0m\u001b[0;34m,\u001b[0m\u001b[0;34m\u001b[0m\u001b[0;34m\u001b[0m\u001b[0m\n\u001b[1;32m    279\u001b[0m             \u001b[0mworld_readable\u001b[0m\u001b[0;34m=\u001b[0m\u001b[0mpayload\u001b[0m\u001b[0;34m[\u001b[0m\u001b[0;34m\"world_readable\"\u001b[0m\u001b[0;34m]\u001b[0m\u001b[0;34m,\u001b[0m\u001b[0;34m\u001b[0m\u001b[0;34m\u001b[0m\u001b[0m\n\u001b[0;32m--> 280\u001b[0;31m             \u001b[0mauto_open\u001b[0m\u001b[0;34m=\u001b[0m\u001b[0;32mFalse\u001b[0m\u001b[0;34m,\u001b[0m\u001b[0;34m\u001b[0m\u001b[0;34m\u001b[0m\u001b[0m\n\u001b[0m\u001b[1;32m    281\u001b[0m         )\n\u001b[1;32m    282\u001b[0m \u001b[0;34m\u001b[0m\u001b[0m\n",
            "\u001b[0;32m/usr/local/lib/python3.6/dist-packages/chart_studio/plotly/plotly.py\u001b[0m in \u001b[0;36mupload\u001b[0;34m(cls, grid, filename, world_readable, auto_open, meta)\u001b[0m\n\u001b[1;32m   1085\u001b[0m                 \u001b[0mpayload\u001b[0m\u001b[0;34m[\u001b[0m\u001b[0;34m\"parent_path\"\u001b[0m\u001b[0;34m]\u001b[0m \u001b[0;34m=\u001b[0m \u001b[0mparent_path\u001b[0m\u001b[0;34m\u001b[0m\u001b[0;34m\u001b[0m\u001b[0m\n\u001b[1;32m   1086\u001b[0m \u001b[0;34m\u001b[0m\u001b[0m\n\u001b[0;32m-> 1087\u001b[0;31m         \u001b[0mfile_info\u001b[0m \u001b[0;34m=\u001b[0m \u001b[0m_create_or_overwrite_grid\u001b[0m\u001b[0;34m(\u001b[0m\u001b[0mpayload\u001b[0m\u001b[0;34m)\u001b[0m\u001b[0;34m\u001b[0m\u001b[0;34m\u001b[0m\u001b[0m\n\u001b[0m\u001b[1;32m   1088\u001b[0m \u001b[0;34m\u001b[0m\u001b[0m\n\u001b[1;32m   1089\u001b[0m         \u001b[0mcols\u001b[0m \u001b[0;34m=\u001b[0m \u001b[0mfile_info\u001b[0m\u001b[0;34m[\u001b[0m\u001b[0;34m\"cols\"\u001b[0m\u001b[0;34m]\u001b[0m\u001b[0;34m\u001b[0m\u001b[0;34m\u001b[0m\u001b[0m\n",
            "\u001b[0;32m/usr/local/lib/python3.6/dist-packages/chart_studio/plotly/plotly.py\u001b[0m in \u001b[0;36m_create_or_overwrite_grid\u001b[0;34m(data, max_retries)\u001b[0m\n\u001b[1;32m   1548\u001b[0m     \u001b[0;31m# Create file\u001b[0m\u001b[0;34m\u001b[0m\u001b[0;34m\u001b[0m\u001b[0;34m\u001b[0m\u001b[0m\n\u001b[1;32m   1549\u001b[0m     \u001b[0;32mtry\u001b[0m\u001b[0;34m:\u001b[0m\u001b[0;34m\u001b[0m\u001b[0;34m\u001b[0m\u001b[0m\n\u001b[0;32m-> 1550\u001b[0;31m         \u001b[0mres\u001b[0m \u001b[0;34m=\u001b[0m \u001b[0mapi_module\u001b[0m\u001b[0;34m.\u001b[0m\u001b[0mcreate\u001b[0m\u001b[0;34m(\u001b[0m\u001b[0mdata\u001b[0m\u001b[0;34m)\u001b[0m\u001b[0;34m\u001b[0m\u001b[0;34m\u001b[0m\u001b[0m\n\u001b[0m\u001b[1;32m   1551\u001b[0m     \u001b[0;32mexcept\u001b[0m \u001b[0mexceptions\u001b[0m\u001b[0;34m.\u001b[0m\u001b[0mPlotlyRequestError\u001b[0m \u001b[0;32mas\u001b[0m \u001b[0me\u001b[0m\u001b[0;34m:\u001b[0m\u001b[0;34m\u001b[0m\u001b[0;34m\u001b[0m\u001b[0m\n\u001b[1;32m   1552\u001b[0m         \u001b[0;32mif\u001b[0m \u001b[0mmax_retries\u001b[0m \u001b[0;34m>\u001b[0m \u001b[0;36m0\u001b[0m \u001b[0;32mand\u001b[0m \u001b[0;34m\"already exists\"\u001b[0m \u001b[0;32min\u001b[0m \u001b[0me\u001b[0m\u001b[0;34m.\u001b[0m\u001b[0mmessage\u001b[0m\u001b[0;34m:\u001b[0m\u001b[0;34m\u001b[0m\u001b[0;34m\u001b[0m\u001b[0m\n",
            "\u001b[0;32m/usr/local/lib/python3.6/dist-packages/chart_studio/api/v2/grids.py\u001b[0m in \u001b[0;36mcreate\u001b[0;34m(body)\u001b[0m\n\u001b[1;32m     16\u001b[0m     \"\"\"\n\u001b[1;32m     17\u001b[0m     \u001b[0murl\u001b[0m \u001b[0;34m=\u001b[0m \u001b[0mbuild_url\u001b[0m\u001b[0;34m(\u001b[0m\u001b[0mRESOURCE\u001b[0m\u001b[0;34m)\u001b[0m\u001b[0;34m\u001b[0m\u001b[0;34m\u001b[0m\u001b[0m\n\u001b[0;32m---> 18\u001b[0;31m     \u001b[0;32mreturn\u001b[0m \u001b[0mrequest\u001b[0m\u001b[0;34m(\u001b[0m\u001b[0;34m\"post\"\u001b[0m\u001b[0;34m,\u001b[0m \u001b[0murl\u001b[0m\u001b[0;34m,\u001b[0m \u001b[0mjson\u001b[0m\u001b[0;34m=\u001b[0m\u001b[0mbody\u001b[0m\u001b[0;34m)\u001b[0m\u001b[0;34m\u001b[0m\u001b[0;34m\u001b[0m\u001b[0m\n\u001b[0m\u001b[1;32m     19\u001b[0m \u001b[0;34m\u001b[0m\u001b[0m\n\u001b[1;32m     20\u001b[0m \u001b[0;34m\u001b[0m\u001b[0m\n",
            "\u001b[0;32m/usr/local/lib/python3.6/dist-packages/retrying.py\u001b[0m in \u001b[0;36mwrapped_f\u001b[0;34m(*args, **kw)\u001b[0m\n\u001b[1;32m     47\u001b[0m             \u001b[0;34m@\u001b[0m\u001b[0msix\u001b[0m\u001b[0;34m.\u001b[0m\u001b[0mwraps\u001b[0m\u001b[0;34m(\u001b[0m\u001b[0mf\u001b[0m\u001b[0;34m)\u001b[0m\u001b[0;34m\u001b[0m\u001b[0;34m\u001b[0m\u001b[0m\n\u001b[1;32m     48\u001b[0m             \u001b[0;32mdef\u001b[0m \u001b[0mwrapped_f\u001b[0m\u001b[0;34m(\u001b[0m\u001b[0;34m*\u001b[0m\u001b[0margs\u001b[0m\u001b[0;34m,\u001b[0m \u001b[0;34m**\u001b[0m\u001b[0mkw\u001b[0m\u001b[0;34m)\u001b[0m\u001b[0;34m:\u001b[0m\u001b[0;34m\u001b[0m\u001b[0;34m\u001b[0m\u001b[0m\n\u001b[0;32m---> 49\u001b[0;31m                 \u001b[0;32mreturn\u001b[0m \u001b[0mRetrying\u001b[0m\u001b[0;34m(\u001b[0m\u001b[0;34m*\u001b[0m\u001b[0mdargs\u001b[0m\u001b[0;34m,\u001b[0m \u001b[0;34m**\u001b[0m\u001b[0mdkw\u001b[0m\u001b[0;34m)\u001b[0m\u001b[0;34m.\u001b[0m\u001b[0mcall\u001b[0m\u001b[0;34m(\u001b[0m\u001b[0mf\u001b[0m\u001b[0;34m,\u001b[0m \u001b[0;34m*\u001b[0m\u001b[0margs\u001b[0m\u001b[0;34m,\u001b[0m \u001b[0;34m**\u001b[0m\u001b[0mkw\u001b[0m\u001b[0;34m)\u001b[0m\u001b[0;34m\u001b[0m\u001b[0;34m\u001b[0m\u001b[0m\n\u001b[0m\u001b[1;32m     50\u001b[0m \u001b[0;34m\u001b[0m\u001b[0m\n\u001b[1;32m     51\u001b[0m             \u001b[0;32mreturn\u001b[0m \u001b[0mwrapped_f\u001b[0m\u001b[0;34m\u001b[0m\u001b[0;34m\u001b[0m\u001b[0m\n",
            "\u001b[0;32m/usr/local/lib/python3.6/dist-packages/retrying.py\u001b[0m in \u001b[0;36mcall\u001b[0;34m(self, fn, *args, **kwargs)\u001b[0m\n\u001b[1;32m    204\u001b[0m \u001b[0;34m\u001b[0m\u001b[0m\n\u001b[1;32m    205\u001b[0m             \u001b[0;32mif\u001b[0m \u001b[0;32mnot\u001b[0m \u001b[0mself\u001b[0m\u001b[0;34m.\u001b[0m\u001b[0mshould_reject\u001b[0m\u001b[0;34m(\u001b[0m\u001b[0mattempt\u001b[0m\u001b[0;34m)\u001b[0m\u001b[0;34m:\u001b[0m\u001b[0;34m\u001b[0m\u001b[0;34m\u001b[0m\u001b[0m\n\u001b[0;32m--> 206\u001b[0;31m                 \u001b[0;32mreturn\u001b[0m \u001b[0mattempt\u001b[0m\u001b[0;34m.\u001b[0m\u001b[0mget\u001b[0m\u001b[0;34m(\u001b[0m\u001b[0mself\u001b[0m\u001b[0;34m.\u001b[0m\u001b[0m_wrap_exception\u001b[0m\u001b[0;34m)\u001b[0m\u001b[0;34m\u001b[0m\u001b[0;34m\u001b[0m\u001b[0m\n\u001b[0m\u001b[1;32m    207\u001b[0m \u001b[0;34m\u001b[0m\u001b[0m\n\u001b[1;32m    208\u001b[0m             \u001b[0mdelay_since_first_attempt_ms\u001b[0m \u001b[0;34m=\u001b[0m \u001b[0mint\u001b[0m\u001b[0;34m(\u001b[0m\u001b[0mround\u001b[0m\u001b[0;34m(\u001b[0m\u001b[0mtime\u001b[0m\u001b[0;34m.\u001b[0m\u001b[0mtime\u001b[0m\u001b[0;34m(\u001b[0m\u001b[0;34m)\u001b[0m \u001b[0;34m*\u001b[0m \u001b[0;36m1000\u001b[0m\u001b[0;34m)\u001b[0m\u001b[0;34m)\u001b[0m \u001b[0;34m-\u001b[0m \u001b[0mstart_time\u001b[0m\u001b[0;34m\u001b[0m\u001b[0;34m\u001b[0m\u001b[0m\n",
            "\u001b[0;32m/usr/local/lib/python3.6/dist-packages/retrying.py\u001b[0m in \u001b[0;36mget\u001b[0;34m(self, wrap_exception)\u001b[0m\n\u001b[1;32m    245\u001b[0m                 \u001b[0;32mraise\u001b[0m \u001b[0mRetryError\u001b[0m\u001b[0;34m(\u001b[0m\u001b[0mself\u001b[0m\u001b[0;34m)\u001b[0m\u001b[0;34m\u001b[0m\u001b[0;34m\u001b[0m\u001b[0m\n\u001b[1;32m    246\u001b[0m             \u001b[0;32melse\u001b[0m\u001b[0;34m:\u001b[0m\u001b[0;34m\u001b[0m\u001b[0;34m\u001b[0m\u001b[0m\n\u001b[0;32m--> 247\u001b[0;31m                 \u001b[0msix\u001b[0m\u001b[0;34m.\u001b[0m\u001b[0mreraise\u001b[0m\u001b[0;34m(\u001b[0m\u001b[0mself\u001b[0m\u001b[0;34m.\u001b[0m\u001b[0mvalue\u001b[0m\u001b[0;34m[\u001b[0m\u001b[0;36m0\u001b[0m\u001b[0;34m]\u001b[0m\u001b[0;34m,\u001b[0m \u001b[0mself\u001b[0m\u001b[0;34m.\u001b[0m\u001b[0mvalue\u001b[0m\u001b[0;34m[\u001b[0m\u001b[0;36m1\u001b[0m\u001b[0;34m]\u001b[0m\u001b[0;34m,\u001b[0m \u001b[0mself\u001b[0m\u001b[0;34m.\u001b[0m\u001b[0mvalue\u001b[0m\u001b[0;34m[\u001b[0m\u001b[0;36m2\u001b[0m\u001b[0;34m]\u001b[0m\u001b[0;34m)\u001b[0m\u001b[0;34m\u001b[0m\u001b[0;34m\u001b[0m\u001b[0m\n\u001b[0m\u001b[1;32m    248\u001b[0m         \u001b[0;32melse\u001b[0m\u001b[0;34m:\u001b[0m\u001b[0;34m\u001b[0m\u001b[0;34m\u001b[0m\u001b[0m\n\u001b[1;32m    249\u001b[0m             \u001b[0;32mreturn\u001b[0m \u001b[0mself\u001b[0m\u001b[0;34m.\u001b[0m\u001b[0mvalue\u001b[0m\u001b[0;34m\u001b[0m\u001b[0;34m\u001b[0m\u001b[0m\n",
            "\u001b[0;32m/usr/local/lib/python3.6/dist-packages/six.py\u001b[0m in \u001b[0;36mreraise\u001b[0;34m(tp, value, tb)\u001b[0m\n\u001b[1;32m    691\u001b[0m             \u001b[0;32mif\u001b[0m \u001b[0mvalue\u001b[0m\u001b[0;34m.\u001b[0m\u001b[0m__traceback__\u001b[0m \u001b[0;32mis\u001b[0m \u001b[0;32mnot\u001b[0m \u001b[0mtb\u001b[0m\u001b[0;34m:\u001b[0m\u001b[0;34m\u001b[0m\u001b[0;34m\u001b[0m\u001b[0m\n\u001b[1;32m    692\u001b[0m                 \u001b[0;32mraise\u001b[0m \u001b[0mvalue\u001b[0m\u001b[0;34m.\u001b[0m\u001b[0mwith_traceback\u001b[0m\u001b[0;34m(\u001b[0m\u001b[0mtb\u001b[0m\u001b[0;34m)\u001b[0m\u001b[0;34m\u001b[0m\u001b[0;34m\u001b[0m\u001b[0m\n\u001b[0;32m--> 693\u001b[0;31m             \u001b[0;32mraise\u001b[0m \u001b[0mvalue\u001b[0m\u001b[0;34m\u001b[0m\u001b[0;34m\u001b[0m\u001b[0m\n\u001b[0m\u001b[1;32m    694\u001b[0m         \u001b[0;32mfinally\u001b[0m\u001b[0;34m:\u001b[0m\u001b[0;34m\u001b[0m\u001b[0;34m\u001b[0m\u001b[0m\n\u001b[1;32m    695\u001b[0m             \u001b[0mvalue\u001b[0m \u001b[0;34m=\u001b[0m \u001b[0;32mNone\u001b[0m\u001b[0;34m\u001b[0m\u001b[0;34m\u001b[0m\u001b[0m\n",
            "\u001b[0;32m/usr/local/lib/python3.6/dist-packages/retrying.py\u001b[0m in \u001b[0;36mcall\u001b[0;34m(self, fn, *args, **kwargs)\u001b[0m\n\u001b[1;32m    198\u001b[0m         \u001b[0;32mwhile\u001b[0m \u001b[0;32mTrue\u001b[0m\u001b[0;34m:\u001b[0m\u001b[0;34m\u001b[0m\u001b[0;34m\u001b[0m\u001b[0m\n\u001b[1;32m    199\u001b[0m             \u001b[0;32mtry\u001b[0m\u001b[0;34m:\u001b[0m\u001b[0;34m\u001b[0m\u001b[0;34m\u001b[0m\u001b[0m\n\u001b[0;32m--> 200\u001b[0;31m                 \u001b[0mattempt\u001b[0m \u001b[0;34m=\u001b[0m \u001b[0mAttempt\u001b[0m\u001b[0;34m(\u001b[0m\u001b[0mfn\u001b[0m\u001b[0;34m(\u001b[0m\u001b[0;34m*\u001b[0m\u001b[0margs\u001b[0m\u001b[0;34m,\u001b[0m \u001b[0;34m**\u001b[0m\u001b[0mkwargs\u001b[0m\u001b[0;34m)\u001b[0m\u001b[0;34m,\u001b[0m \u001b[0mattempt_number\u001b[0m\u001b[0;34m,\u001b[0m \u001b[0;32mFalse\u001b[0m\u001b[0;34m)\u001b[0m\u001b[0;34m\u001b[0m\u001b[0;34m\u001b[0m\u001b[0m\n\u001b[0m\u001b[1;32m    201\u001b[0m             \u001b[0;32mexcept\u001b[0m\u001b[0;34m:\u001b[0m\u001b[0;34m\u001b[0m\u001b[0;34m\u001b[0m\u001b[0m\n\u001b[1;32m    202\u001b[0m                 \u001b[0mtb\u001b[0m \u001b[0;34m=\u001b[0m \u001b[0msys\u001b[0m\u001b[0;34m.\u001b[0m\u001b[0mexc_info\u001b[0m\u001b[0;34m(\u001b[0m\u001b[0;34m)\u001b[0m\u001b[0;34m\u001b[0m\u001b[0;34m\u001b[0m\u001b[0m\n",
            "\u001b[0;32m/usr/local/lib/python3.6/dist-packages/chart_studio/api/v2/utils.py\u001b[0m in \u001b[0;36mrequest\u001b[0;34m(method, url, **kwargs)\u001b[0m\n\u001b[1;32m    178\u001b[0m         \u001b[0mcontent\u001b[0m \u001b[0;34m=\u001b[0m \u001b[0mresponse\u001b[0m\u001b[0;34m.\u001b[0m\u001b[0mcontent\u001b[0m \u001b[0;32mif\u001b[0m \u001b[0mresponse\u001b[0m \u001b[0;32melse\u001b[0m \u001b[0;34m\"No content\"\u001b[0m\u001b[0;34m\u001b[0m\u001b[0;34m\u001b[0m\u001b[0m\n\u001b[1;32m    179\u001b[0m         \u001b[0;32mraise\u001b[0m \u001b[0mexceptions\u001b[0m\u001b[0;34m.\u001b[0m\u001b[0mPlotlyRequestError\u001b[0m\u001b[0;34m(\u001b[0m\u001b[0mmessage\u001b[0m\u001b[0;34m,\u001b[0m \u001b[0mstatus_code\u001b[0m\u001b[0;34m,\u001b[0m \u001b[0mcontent\u001b[0m\u001b[0;34m)\u001b[0m\u001b[0;34m\u001b[0m\u001b[0;34m\u001b[0m\u001b[0m\n\u001b[0;32m--> 180\u001b[0;31m     \u001b[0mvalidate_response\u001b[0m\u001b[0;34m(\u001b[0m\u001b[0mresponse\u001b[0m\u001b[0;34m)\u001b[0m\u001b[0;34m\u001b[0m\u001b[0;34m\u001b[0m\u001b[0m\n\u001b[0m\u001b[1;32m    181\u001b[0m     \u001b[0;32mreturn\u001b[0m \u001b[0mresponse\u001b[0m\u001b[0;34m\u001b[0m\u001b[0;34m\u001b[0m\u001b[0m\n",
            "\u001b[0;32m/usr/local/lib/python3.6/dist-packages/chart_studio/api/v2/utils.py\u001b[0m in \u001b[0;36mvalidate_response\u001b[0;34m(response)\u001b[0m\n\u001b[1;32m     80\u001b[0m         \u001b[0mmessage\u001b[0m \u001b[0;34m=\u001b[0m \u001b[0mcontent\u001b[0m \u001b[0;32mif\u001b[0m \u001b[0mcontent\u001b[0m \u001b[0;32melse\u001b[0m \u001b[0;34m\"No Content\"\u001b[0m\u001b[0;34m\u001b[0m\u001b[0;34m\u001b[0m\u001b[0m\n\u001b[1;32m     81\u001b[0m \u001b[0;34m\u001b[0m\u001b[0m\n\u001b[0;32m---> 82\u001b[0;31m     \u001b[0;32mraise\u001b[0m \u001b[0mexceptions\u001b[0m\u001b[0;34m.\u001b[0m\u001b[0mPlotlyRequestError\u001b[0m\u001b[0;34m(\u001b[0m\u001b[0mmessage\u001b[0m\u001b[0;34m,\u001b[0m \u001b[0mstatus_code\u001b[0m\u001b[0;34m,\u001b[0m \u001b[0mcontent\u001b[0m\u001b[0;34m)\u001b[0m\u001b[0;34m\u001b[0m\u001b[0;34m\u001b[0m\u001b[0m\n\u001b[0m\u001b[1;32m     83\u001b[0m \u001b[0;34m\u001b[0m\u001b[0m\n\u001b[1;32m     84\u001b[0m \u001b[0;34m\u001b[0m\u001b[0m\n",
            "\u001b[0;31mPlotlyRequestError\u001b[0m: Authentication credentials were not provided."
          ]
        }
      ]
    },
    {
      "cell_type": "code",
      "metadata": {
        "id": "p3cocKGYnYG-",
        "colab_type": "code",
        "colab": {
          "base_uri": "https://localhost:8080/",
          "height": 706
        },
        "outputId": "68973cd9-09eb-48ec-ac37-ec40c25d3cbf"
      },
      "source": [
        "from pyramid.arima import auto_arima\n",
        "model = auto_arima(hair_11['cnt'], start_p=1, start_q=1, max_p=3, max_q=3, m=12, start_P=0, seasonal=True,\n",
        "                            d=1, D=1, trace=True, error_action='ignore', stepwise=True)\n",
        "print(model.aic)"
      ],
      "execution_count": 93,
      "outputs": [
        {
          "output_type": "stream",
          "text": [
            "/usr/local/lib/python3.6/dist-packages/statsmodels/tsa/statespace/sarimax.py:993: UserWarning:\n",
            "\n",
            "Non-invertible starting seasonal moving average Using zeros as starting parameters.\n",
            "\n"
          ],
          "name": "stderr"
        },
        {
          "output_type": "stream",
          "text": [
            "Fit ARIMA: order=(1, 1, 1) seasonal_order=(0, 1, 1, 12); AIC=424.165, BIC=436.012, Fit time=1.778 seconds\n",
            "Fit ARIMA: order=(0, 1, 0) seasonal_order=(0, 1, 0, 12); AIC=496.000, BIC=500.739, Fit time=0.019 seconds\n",
            "Fit ARIMA: order=(1, 1, 0) seasonal_order=(1, 1, 0, 12); AIC=452.557, BIC=462.035, Fit time=0.277 seconds\n"
          ],
          "name": "stdout"
        },
        {
          "output_type": "stream",
          "text": [
            "/usr/local/lib/python3.6/dist-packages/statsmodels/tsa/statespace/sarimax.py:993: UserWarning:\n",
            "\n",
            "Non-invertible starting seasonal moving average Using zeros as starting parameters.\n",
            "\n"
          ],
          "name": "stderr"
        },
        {
          "output_type": "stream",
          "text": [
            "Fit ARIMA: order=(0, 1, 1) seasonal_order=(0, 1, 1, 12); AIC=423.253, BIC=432.731, Fit time=1.213 seconds\n",
            "Fit ARIMA: order=(0, 1, 1) seasonal_order=(1, 1, 1, 12); AIC=425.231, BIC=437.079, Fit time=1.421 seconds\n",
            "Fit ARIMA: order=(0, 1, 1) seasonal_order=(0, 1, 0, 12); AIC=447.216, BIC=454.324, Fit time=0.349 seconds\n"
          ],
          "name": "stdout"
        },
        {
          "output_type": "stream",
          "text": [
            "/usr/local/lib/python3.6/dist-packages/statsmodels/tsa/statespace/sarimax.py:993: UserWarning:\n",
            "\n",
            "Non-invertible starting seasonal moving average Using zeros as starting parameters.\n",
            "\n"
          ],
          "name": "stderr"
        },
        {
          "output_type": "stream",
          "text": [
            "Fit ARIMA: order=(0, 1, 1) seasonal_order=(0, 1, 2, 12); AIC=425.216, BIC=437.063, Fit time=3.097 seconds\n"
          ],
          "name": "stdout"
        },
        {
          "output_type": "stream",
          "text": [
            "/usr/local/lib/python3.6/dist-packages/statsmodels/tsa/statespace/sarimax.py:993: UserWarning:\n",
            "\n",
            "Non-invertible starting seasonal moving average Using zeros as starting parameters.\n",
            "\n"
          ],
          "name": "stderr"
        },
        {
          "output_type": "stream",
          "text": [
            "Fit ARIMA: order=(0, 1, 1) seasonal_order=(1, 1, 2, 12); AIC=426.450, BIC=440.666, Fit time=3.495 seconds\n"
          ],
          "name": "stdout"
        },
        {
          "output_type": "stream",
          "text": [
            "/usr/local/lib/python3.6/dist-packages/statsmodels/tsa/statespace/sarimax.py:993: UserWarning:\n",
            "\n",
            "Non-invertible starting seasonal moving average Using zeros as starting parameters.\n",
            "\n"
          ],
          "name": "stderr"
        },
        {
          "output_type": "stream",
          "text": [
            "Fit ARIMA: order=(0, 1, 0) seasonal_order=(0, 1, 1, 12); AIC=458.437, BIC=465.545, Fit time=0.639 seconds\n"
          ],
          "name": "stdout"
        },
        {
          "output_type": "stream",
          "text": [
            "/usr/local/lib/python3.6/dist-packages/statsmodels/tsa/statespace/sarimax.py:993: UserWarning:\n",
            "\n",
            "Non-invertible starting seasonal moving average Using zeros as starting parameters.\n",
            "\n"
          ],
          "name": "stderr"
        },
        {
          "output_type": "stream",
          "text": [
            "Fit ARIMA: order=(0, 1, 2) seasonal_order=(0, 1, 1, 12); AIC=424.314, BIC=436.161, Fit time=1.685 seconds\n"
          ],
          "name": "stdout"
        },
        {
          "output_type": "stream",
          "text": [
            "/usr/local/lib/python3.6/dist-packages/statsmodels/tsa/statespace/sarimax.py:993: UserWarning:\n",
            "\n",
            "Non-invertible starting seasonal moving average Using zeros as starting parameters.\n",
            "\n"
          ],
          "name": "stderr"
        },
        {
          "output_type": "stream",
          "text": [
            "Fit ARIMA: order=(1, 1, 2) seasonal_order=(0, 1, 1, 12); AIC=427.248, BIC=441.464, Fit time=1.168 seconds\n",
            "Total fit time: 15.146 seconds\n",
            "<function ARIMA.aic at 0x7ff3d6aa31e0>\n"
          ],
          "name": "stdout"
        }
      ]
    },
    {
      "cell_type": "code",
      "metadata": {
        "id": "PZ35FGuRpRD7",
        "colab_type": "code",
        "colab": {}
      },
      "source": [
        "forecast_11 = model.predict(n_periods=24)\n",
        "forecast_11 = pd.DataFrame(forecast_11,columns=['Prediction'])\n",
        "forecast_11.index = pd.date_range('2015-08', '2017-08', freq='M')"
      ],
      "execution_count": 0,
      "outputs": []
    },
    {
      "cell_type": "code",
      "metadata": {
        "id": "KtaNNGsKrdV8",
        "colab_type": "code",
        "colab": {
          "base_uri": "https://localhost:8080/",
          "height": 610
        },
        "outputId": "e7679560-ad9e-493a-85a9-920ed81408a4"
      },
      "source": [
        "plt.figure(figsize=(16,10))\n",
        "plt.plot(hair_11.index, hair_11['cnt'], lw=2)\n",
        "plt.bar(hair_11.index, hair_11['ave_score'], edgecolor='y')\n",
        "plt.plot(forecast_11.index, forecast_11['Prediction'], lw=2, linestyle='-')"
      ],
      "execution_count": 94,
      "outputs": [
        {
          "output_type": "execute_result",
          "data": {
            "text/plain": [
              "[<matplotlib.lines.Line2D at 0x7ff3d69e6240>]"
            ]
          },
          "metadata": {
            "tags": []
          },
          "execution_count": 94
        },
        {
          "output_type": "display_data",
          "data": {
            "image/png": "[encoded data removed]",
            "text/plain": [
              "<Figure size 1152x720 with 1 Axes>"
            ]
          },
          "metadata": {
            "tags": []
          }
        }
      ]
    },
    {
      "cell_type": "code",
      "metadata": {
        "id": "bz1CmAaLtoH6",
        "colab_type": "code",
        "colab": {
          "base_uri": "https://localhost:8080/",
          "height": 353
        },
        "outputId": "456274d8-5589-4513-8935-efd2b70f3369"
      },
      "source": [
        "hair_88 = pd.read_csv(\"for_mcm/hair/88.csv\")\n",
        "hair_88.index = pd.to_datetime(hair_88[\"time\"])\n",
        "model = auto_arima(hair_88['cnt'], start_p=1, start_q=1, max_p=3, max_q=3, m=12, start_P=0, seasonal=True,\n",
        "                            d=1, D=1, trace=True, error_action='ignore', stepwise=True)\n",
        "forecast_88 = model.predict(n_periods=24)\n",
        "forecast_88 = pd.DataFrame(forecast_88,columns=['Prediction'])\n",
        "forecast_88[forecast_88[\"Prediction\"]<0] = 0\n",
        "forecast_88.index = pd.date_range('2015-08', '2017-08', freq='M')"
      ],
      "execution_count": 95,
      "outputs": [
        {
          "output_type": "stream",
          "text": [
            "Fit ARIMA: order=(1, 1, 1) seasonal_order=(0, 1, 1, 12); AIC=419.888, BIC=431.735, Fit time=1.362 seconds\n",
            "Fit ARIMA: order=(0, 1, 0) seasonal_order=(0, 1, 0, 12); AIC=445.756, BIC=450.495, Fit time=0.021 seconds\n",
            "Fit ARIMA: order=(1, 1, 0) seasonal_order=(1, 1, 0, 12); AIC=431.109, BIC=440.587, Fit time=0.283 seconds\n",
            "Fit ARIMA: order=(0, 1, 1) seasonal_order=(0, 1, 1, 12); AIC=418.033, BIC=427.511, Fit time=0.831 seconds\n",
            "Fit ARIMA: order=(0, 1, 1) seasonal_order=(1, 1, 1, 12); AIC=420.001, BIC=431.849, Fit time=0.769 seconds\n",
            "Fit ARIMA: order=(0, 1, 1) seasonal_order=(0, 1, 0, 12); AIC=440.227, BIC=447.335, Fit time=0.080 seconds\n"
          ],
          "name": "stdout"
        },
        {
          "output_type": "stream",
          "text": [
            "/usr/local/lib/python3.6/dist-packages/statsmodels/tsa/statespace/sarimax.py:993: UserWarning:\n",
            "\n",
            "Non-invertible starting seasonal moving average Using zeros as starting parameters.\n",
            "\n"
          ],
          "name": "stderr"
        },
        {
          "output_type": "stream",
          "text": [
            "Fit ARIMA: order=(0, 1, 1) seasonal_order=(0, 1, 2, 12); AIC=419.984, BIC=431.832, Fit time=1.290 seconds\n"
          ],
          "name": "stdout"
        },
        {
          "output_type": "stream",
          "text": [
            "/usr/local/lib/python3.6/dist-packages/statsmodels/tsa/statespace/sarimax.py:993: UserWarning:\n",
            "\n",
            "Non-invertible starting seasonal moving average Using zeros as starting parameters.\n",
            "\n"
          ],
          "name": "stderr"
        },
        {
          "output_type": "stream",
          "text": [
            "Fit ARIMA: order=(0, 1, 1) seasonal_order=(1, 1, 2, 12); AIC=421.579, BIC=435.795, Fit time=3.582 seconds\n",
            "Fit ARIMA: order=(0, 1, 0) seasonal_order=(0, 1, 1, 12); AIC=422.036, BIC=429.144, Fit time=0.711 seconds\n",
            "Fit ARIMA: order=(0, 1, 2) seasonal_order=(0, 1, 1, 12); AIC=419.785, BIC=431.632, Fit time=1.106 seconds\n",
            "Fit ARIMA: order=(1, 1, 2) seasonal_order=(0, 1, 1, 12); AIC=421.657, BIC=435.873, Fit time=2.159 seconds\n",
            "Total fit time: 12.201 seconds\n"
          ],
          "name": "stdout"
        }
      ]
    },
    {
      "cell_type": "code",
      "metadata": {
        "id": "cifysYqEw1D-",
        "colab_type": "code",
        "colab": {
          "base_uri": "https://localhost:8080/",
          "height": 874
        },
        "outputId": "1ec6fd42-63d4-4d53-cd2f-c30994f09338"
      },
      "source": [
        "hair_244 = pd.read_csv(\"for_mcm/hair/244.csv\")\n",
        "hair_244.index = pd.to_datetime(hair_244[\"time\"])\n",
        "model = auto_arima(hair_244['cnt'], start_p=1, start_q=1, max_p=3, max_q=3, m=12, start_P=0, seasonal=True,\n",
        "                            d=1, D=1, trace=True, error_action='ignore', stepwise=True)\n",
        "forecast_244 = model.predict(n_periods=24)\n",
        "forecast_244 = pd.DataFrame(forecast_244,columns=['Prediction'])\n",
        "forecast_244[forecast_244[\"Prediction\"]<0] = 0\n",
        "forecast_244.index = pd.date_range('2015-08', '2017-08', freq='M')"
      ],
      "execution_count": 96,
      "outputs": [
        {
          "output_type": "stream",
          "text": [
            "Fit ARIMA: order=(1, 1, 1) seasonal_order=(0, 1, 1, 12); AIC=433.868, BIC=445.716, Fit time=0.398 seconds\n",
            "Fit ARIMA: order=(0, 1, 0) seasonal_order=(0, 1, 0, 12); AIC=469.744, BIC=474.483, Fit time=0.019 seconds\n",
            "Fit ARIMA: order=(1, 1, 0) seasonal_order=(1, 1, 0, 12); AIC=436.762, BIC=446.239, Fit time=0.298 seconds\n",
            "Fit ARIMA: order=(0, 1, 1) seasonal_order=(0, 1, 1, 12); AIC=435.246, BIC=444.724, Fit time=0.362 seconds\n",
            "Fit ARIMA: order=(1, 1, 1) seasonal_order=(1, 1, 1, 12); AIC=434.913, BIC=449.130, Fit time=0.613 seconds\n",
            "Fit ARIMA: order=(1, 1, 1) seasonal_order=(0, 1, 0, 12); AIC=441.200, BIC=450.677, Fit time=0.097 seconds\n"
          ],
          "name": "stdout"
        },
        {
          "output_type": "stream",
          "text": [
            "/usr/local/lib/python3.6/dist-packages/statsmodels/tsa/statespace/sarimax.py:993: UserWarning:\n",
            "\n",
            "Non-invertible starting seasonal moving average Using zeros as starting parameters.\n",
            "\n"
          ],
          "name": "stderr"
        },
        {
          "output_type": "stream",
          "text": [
            "Fit ARIMA: order=(1, 1, 1) seasonal_order=(0, 1, 2, 12); AIC=434.377, BIC=448.593, Fit time=1.156 seconds\n"
          ],
          "name": "stdout"
        },
        {
          "output_type": "stream",
          "text": [
            "/usr/local/lib/python3.6/dist-packages/statsmodels/tsa/statespace/sarimax.py:993: UserWarning:\n",
            "\n",
            "Non-invertible starting seasonal moving average Using zeros as starting parameters.\n",
            "\n"
          ],
          "name": "stderr"
        },
        {
          "output_type": "stream",
          "text": [
            "Fit ARIMA: order=(1, 1, 1) seasonal_order=(1, 1, 2, 12); AIC=436.074, BIC=452.660, Fit time=2.012 seconds\n",
            "Fit ARIMA: order=(2, 1, 1) seasonal_order=(0, 1, 1, 12); AIC=427.352, BIC=441.569, Fit time=1.152 seconds\n",
            "Fit ARIMA: order=(2, 1, 0) seasonal_order=(0, 1, 1, 12); AIC=433.779, BIC=445.627, Fit time=0.330 seconds\n"
          ],
          "name": "stdout"
        },
        {
          "output_type": "stream",
          "text": [
            "/usr/local/lib/python3.6/dist-packages/statsmodels/tsa/statespace/sarimax.py:949: UserWarning:\n",
            "\n",
            "Non-stationary starting autoregressive parameters found. Using zeros as starting parameters.\n",
            "\n",
            "/usr/local/lib/python3.6/dist-packages/statsmodels/tsa/statespace/sarimax.py:961: UserWarning:\n",
            "\n",
            "Non-invertible starting MA parameters found. Using zeros as starting parameters.\n",
            "\n"
          ],
          "name": "stderr"
        },
        {
          "output_type": "stream",
          "text": [
            "Fit ARIMA: order=(2, 1, 2) seasonal_order=(0, 1, 1, 12); AIC=436.890, BIC=453.476, Fit time=1.301 seconds\n",
            "Fit ARIMA: order=(1, 1, 0) seasonal_order=(0, 1, 1, 12); AIC=433.736, BIC=443.214, Fit time=0.273 seconds\n"
          ],
          "name": "stdout"
        },
        {
          "output_type": "stream",
          "text": [
            "/usr/local/lib/python3.6/dist-packages/statsmodels/tsa/statespace/sarimax.py:949: UserWarning:\n",
            "\n",
            "Non-stationary starting autoregressive parameters found. Using zeros as starting parameters.\n",
            "\n",
            "/usr/local/lib/python3.6/dist-packages/statsmodels/tsa/statespace/sarimax.py:961: UserWarning:\n",
            "\n",
            "Non-invertible starting MA parameters found. Using zeros as starting parameters.\n",
            "\n"
          ],
          "name": "stderr"
        },
        {
          "output_type": "stream",
          "text": [
            "Fit ARIMA: order=(3, 1, 2) seasonal_order=(0, 1, 1, 12); AIC=431.296, BIC=450.252, Fit time=2.295 seconds\n",
            "Fit ARIMA: order=(2, 1, 1) seasonal_order=(1, 1, 1, 12); AIC=428.641, BIC=445.227, Fit time=2.829 seconds\n",
            "Fit ARIMA: order=(2, 1, 1) seasonal_order=(0, 1, 0, 12); AIC=433.754, BIC=445.601, Fit time=0.661 seconds\n"
          ],
          "name": "stdout"
        },
        {
          "output_type": "stream",
          "text": [
            "/usr/local/lib/python3.6/dist-packages/statsmodels/tsa/statespace/sarimax.py:993: UserWarning:\n",
            "\n",
            "Non-invertible starting seasonal moving average Using zeros as starting parameters.\n",
            "\n"
          ],
          "name": "stderr"
        },
        {
          "output_type": "stream",
          "text": [
            "Fit ARIMA: order=(2, 1, 1) seasonal_order=(0, 1, 2, 12); AIC=428.318, BIC=444.904, Fit time=3.224 seconds\n"
          ],
          "name": "stdout"
        },
        {
          "output_type": "stream",
          "text": [
            "/usr/local/lib/python3.6/dist-packages/statsmodels/tsa/statespace/sarimax.py:993: UserWarning:\n",
            "\n",
            "Non-invertible starting seasonal moving average Using zeros as starting parameters.\n",
            "\n"
          ],
          "name": "stderr"
        },
        {
          "output_type": "stream",
          "text": [
            "Fit ARIMA: order=(2, 1, 1) seasonal_order=(1, 1, 2, 12); AIC=430.157, BIC=449.113, Fit time=4.545 seconds\n",
            "Fit ARIMA: order=(3, 1, 1) seasonal_order=(0, 1, 1, 12); AIC=437.766, BIC=454.353, Fit time=1.052 seconds\n",
            "Total fit time: 22.627 seconds\n"
          ],
          "name": "stdout"
        }
      ]
    },
    {
      "cell_type": "code",
      "metadata": {
        "id": "aC62DcXmya36",
        "colab_type": "code",
        "colab": {
          "base_uri": "https://localhost:8080/",
          "height": 470
        },
        "outputId": "b02ff1dc-13a1-4425-a13a-c801c752ba72"
      },
      "source": [
        "hair_258 = pd.read_csv(\"for_mcm/hair/258.csv\")\n",
        "hair_258.index = pd.to_datetime(hair_258[\"time\"])\n",
        "model = auto_arima(hair_258['cnt'], start_p=1, start_q=1, max_p=3, max_q=3, m=12, start_P=0, seasonal=True,\n",
        "                            d=1, D=1, trace=True, error_action='ignore', stepwise=True)\n",
        "forecast_258 = model.predict(n_periods=24)\n",
        "forecast_258 = pd.DataFrame(forecast_258,columns=['Prediction'])\n",
        "forecast_258[forecast_258[\"Prediction\"]<0] = 0\n",
        "forecast_258.index = pd.date_range('2015-08', '2017-08', freq='M')"
      ],
      "execution_count": 97,
      "outputs": [
        {
          "output_type": "stream",
          "text": [
            "Fit ARIMA: order=(1, 1, 1) seasonal_order=(0, 1, 1, 12); AIC=451.448, BIC=463.295, Fit time=0.542 seconds\n",
            "Fit ARIMA: order=(0, 1, 0) seasonal_order=(0, 1, 0, 12); AIC=493.890, BIC=498.629, Fit time=0.019 seconds\n",
            "Fit ARIMA: order=(1, 1, 0) seasonal_order=(1, 1, 0, 12); AIC=461.089, BIC=470.566, Fit time=0.314 seconds\n",
            "Fit ARIMA: order=(0, 1, 1) seasonal_order=(0, 1, 1, 12); AIC=449.522, BIC=459.000, Fit time=0.392 seconds\n",
            "Fit ARIMA: order=(0, 1, 1) seasonal_order=(1, 1, 1, 12); AIC=448.908, BIC=460.755, Fit time=0.518 seconds\n",
            "Fit ARIMA: order=(0, 1, 1) seasonal_order=(1, 1, 0, 12); AIC=450.845, BIC=460.323, Fit time=0.248 seconds\n"
          ],
          "name": "stdout"
        },
        {
          "output_type": "stream",
          "text": [
            "/usr/local/lib/python3.6/dist-packages/statsmodels/tsa/statespace/sarimax.py:993: UserWarning:\n",
            "\n",
            "Non-invertible starting seasonal moving average Using zeros as starting parameters.\n",
            "\n"
          ],
          "name": "stderr"
        },
        {
          "output_type": "stream",
          "text": [
            "Fit ARIMA: order=(0, 1, 1) seasonal_order=(1, 1, 2, 12); AIC=450.803, BIC=465.019, Fit time=3.010 seconds\n",
            "Fit ARIMA: order=(0, 1, 1) seasonal_order=(0, 1, 0, 12); AIC=473.757, BIC=480.865, Fit time=0.087 seconds\n"
          ],
          "name": "stdout"
        },
        {
          "output_type": "stream",
          "text": [
            "/usr/local/lib/python3.6/dist-packages/statsmodels/tsa/statespace/sarimax.py:981: UserWarning:\n",
            "\n",
            "Non-stationary starting seasonal autoregressive Using zeros as starting parameters.\n",
            "\n",
            "/usr/local/lib/python3.6/dist-packages/statsmodels/tsa/statespace/sarimax.py:993: UserWarning:\n",
            "\n",
            "Non-invertible starting seasonal moving average Using zeros as starting parameters.\n",
            "\n"
          ],
          "name": "stderr"
        },
        {
          "output_type": "stream",
          "text": [
            "Fit ARIMA: order=(0, 1, 1) seasonal_order=(2, 1, 2, 12); AIC=452.766, BIC=469.352, Fit time=3.320 seconds\n",
            "Fit ARIMA: order=(1, 1, 1) seasonal_order=(1, 1, 1, 12); AIC=450.868, BIC=465.085, Fit time=0.598 seconds\n",
            "Fit ARIMA: order=(0, 1, 0) seasonal_order=(1, 1, 1, 12); AIC=472.220, BIC=481.698, Fit time=0.326 seconds\n",
            "Fit ARIMA: order=(0, 1, 2) seasonal_order=(1, 1, 1, 12); AIC=450.852, BIC=465.069, Fit time=0.655 seconds\n",
            "Fit ARIMA: order=(1, 1, 2) seasonal_order=(1, 1, 1, 12); AIC=452.832, BIC=469.418, Fit time=1.006 seconds\n",
            "Fit ARIMA: order=(0, 1, 1) seasonal_order=(2, 1, 1, 12); AIC=450.838, BIC=465.055, Fit time=1.517 seconds\n",
            "Total fit time: 12.561 seconds\n"
          ],
          "name": "stdout"
        }
      ]
    },
    {
      "cell_type": "code",
      "metadata": {
        "id": "8oaCy9T2zyuv",
        "colab_type": "code",
        "colab": {
          "base_uri": "https://localhost:8080/",
          "height": 840
        },
        "outputId": "479f34bd-7ef4-49ec-a426-e24385807f29"
      },
      "source": [
        "hair_269 = pd.read_csv(\"for_mcm/hair/269.csv\")\n",
        "hair_269.index = pd.to_datetime(hair_269[\"time\"])\n",
        "model = auto_arima(hair_269['cnt'], start_p=1, start_q=1, max_p=3, max_q=3, m=12, start_P=0, seasonal=True,\n",
        "                            d=1, D=1, trace=True, error_action='ignore', stepwise=True)\n",
        "forecast_269 = model.predict(n_periods=24)\n",
        "forecast_269 = pd.DataFrame(forecast_269,columns=['Prediction'])\n",
        "forecast_269[forecast_269[\"Prediction\"]<0] = 0\n",
        "forecast_269.index = pd.date_range('2015-08', '2017-08', freq='M')"
      ],
      "execution_count": 98,
      "outputs": [
        {
          "output_type": "stream",
          "text": [
            "Fit ARIMA: order=(1, 1, 1) seasonal_order=(0, 1, 1, 12); AIC=393.871, BIC=405.719, Fit time=1.513 seconds\n",
            "Fit ARIMA: order=(0, 1, 0) seasonal_order=(0, 1, 0, 12); AIC=431.435, BIC=436.174, Fit time=0.020 seconds\n",
            "Fit ARIMA: order=(1, 1, 0) seasonal_order=(1, 1, 0, 12); AIC=402.371, BIC=411.849, Fit time=0.296 seconds\n",
            "Fit ARIMA: order=(0, 1, 1) seasonal_order=(0, 1, 1, 12); AIC=398.014, BIC=407.492, Fit time=0.440 seconds\n"
          ],
          "name": "stdout"
        },
        {
          "output_type": "stream",
          "text": [
            "/usr/local/lib/python3.6/dist-packages/statsmodels/base/model.py:512: ConvergenceWarning:\n",
            "\n",
            "Maximum Likelihood optimization failed to converge. Check mle_retvals\n",
            "\n"
          ],
          "name": "stderr"
        },
        {
          "output_type": "stream",
          "text": [
            "Fit ARIMA: order=(1, 1, 1) seasonal_order=(1, 1, 1, 12); AIC=393.425, BIC=407.641, Fit time=1.905 seconds\n",
            "Fit ARIMA: order=(1, 1, 1) seasonal_order=(1, 1, 0, 12); AIC=395.613, BIC=407.461, Fit time=1.566 seconds\n"
          ],
          "name": "stdout"
        },
        {
          "output_type": "stream",
          "text": [
            "/usr/local/lib/python3.6/dist-packages/statsmodels/tsa/statespace/sarimax.py:993: UserWarning:\n",
            "\n",
            "Non-invertible starting seasonal moving average Using zeros as starting parameters.\n",
            "\n",
            "/usr/local/lib/python3.6/dist-packages/statsmodels/base/model.py:512: ConvergenceWarning:\n",
            "\n",
            "Maximum Likelihood optimization failed to converge. Check mle_retvals\n",
            "\n"
          ],
          "name": "stderr"
        },
        {
          "output_type": "stream",
          "text": [
            "Fit ARIMA: order=(1, 1, 1) seasonal_order=(1, 1, 2, 12); AIC=394.600, BIC=411.186, Fit time=4.740 seconds\n",
            "Fit ARIMA: order=(1, 1, 1) seasonal_order=(0, 1, 0, 12); AIC=423.552, BIC=433.030, Fit time=0.133 seconds\n"
          ],
          "name": "stdout"
        },
        {
          "output_type": "stream",
          "text": [
            "/usr/local/lib/python3.6/dist-packages/statsmodels/tsa/statespace/sarimax.py:981: UserWarning:\n",
            "\n",
            "Non-stationary starting seasonal autoregressive Using zeros as starting parameters.\n",
            "\n",
            "/usr/local/lib/python3.6/dist-packages/statsmodels/tsa/statespace/sarimax.py:993: UserWarning:\n",
            "\n",
            "Non-invertible starting seasonal moving average Using zeros as starting parameters.\n",
            "\n"
          ],
          "name": "stderr"
        },
        {
          "output_type": "stream",
          "text": [
            "Fit ARIMA: order=(1, 1, 1) seasonal_order=(2, 1, 2, 12); AIC=396.591, BIC=415.546, Fit time=4.746 seconds\n",
            "Fit ARIMA: order=(0, 1, 1) seasonal_order=(1, 1, 1, 12); AIC=397.525, BIC=409.372, Fit time=0.430 seconds\n",
            "Fit ARIMA: order=(2, 1, 1) seasonal_order=(1, 1, 1, 12); AIC=394.473, BIC=411.060, Fit time=2.380 seconds\n",
            "Fit ARIMA: order=(1, 1, 0) seasonal_order=(1, 1, 1, 12); AIC=401.645, BIC=413.492, Fit time=0.385 seconds\n"
          ],
          "name": "stdout"
        },
        {
          "output_type": "stream",
          "text": [
            "/usr/local/lib/python3.6/dist-packages/statsmodels/base/model.py:512: ConvergenceWarning:\n",
            "\n",
            "Maximum Likelihood optimization failed to converge. Check mle_retvals\n",
            "\n"
          ],
          "name": "stderr"
        },
        {
          "output_type": "stream",
          "text": [
            "Fit ARIMA: order=(1, 1, 2) seasonal_order=(1, 1, 1, 12); AIC=394.570, BIC=411.157, Fit time=2.066 seconds\n",
            "Fit ARIMA: order=(0, 1, 0) seasonal_order=(1, 1, 1, 12); AIC=408.222, BIC=417.700, Fit time=0.362 seconds\n"
          ],
          "name": "stdout"
        },
        {
          "output_type": "stream",
          "text": [
            "/usr/local/lib/python3.6/dist-packages/statsmodels/base/model.py:512: ConvergenceWarning:\n",
            "\n",
            "Maximum Likelihood optimization failed to converge. Check mle_retvals\n",
            "\n"
          ],
          "name": "stderr"
        },
        {
          "output_type": "stream",
          "text": [
            "Fit ARIMA: order=(2, 1, 2) seasonal_order=(1, 1, 1, 12); AIC=396.509, BIC=415.464, Fit time=2.352 seconds\n",
            "Fit ARIMA: order=(1, 1, 1) seasonal_order=(2, 1, 1, 12); AIC=395.534, BIC=412.120, Fit time=4.153 seconds\n",
            "Total fit time: 27.496 seconds\n"
          ],
          "name": "stdout"
        },
        {
          "output_type": "stream",
          "text": [
            "/usr/local/lib/python3.6/dist-packages/statsmodels/base/model.py:512: ConvergenceWarning:\n",
            "\n",
            "Maximum Likelihood optimization failed to converge. Check mle_retvals\n",
            "\n"
          ],
          "name": "stderr"
        }
      ]
    },
    {
      "cell_type": "code",
      "metadata": {
        "id": "jJA-VRKzz9Xk",
        "colab_type": "code",
        "colab": {
          "base_uri": "https://localhost:8080/",
          "height": 1000
        },
        "outputId": "c72089c3-bdf2-4859-f038-5f27ec98211e"
      },
      "source": [
        "micro_0 = pd.read_csv(\"for_mcm/micro/0.csv\")\n",
        "micro_0.index = pd.to_datetime(micro_0[\"time\"])\n",
        "model = auto_arima(micro_0['cnt'], start_p=1, start_q=1, max_p=3, max_q=3, m=12, start_P=0, seasonal=True,\n",
        "                            d=1, D=1, trace=True, error_action='ignore', stepwise=True)\n",
        "forecast_0 = model.predict(n_periods=24)\n",
        "forecast_0 = pd.DataFrame(forecast_0,columns=['Prediction'])\n",
        "forecast_0[forecast_0[\"Prediction\"]<0] = 0\n",
        "forecast_0.index = pd.date_range('2015-08', '2017-08', freq='M')"
      ],
      "execution_count": 99,
      "outputs": [
        {
          "output_type": "stream",
          "text": [
            "Fit ARIMA: order=(1, 1, 1) seasonal_order=(0, 1, 1, 12); AIC=246.364, BIC=258.211, Fit time=0.653 seconds\n",
            "Fit ARIMA: order=(0, 1, 0) seasonal_order=(0, 1, 0, 12); AIC=303.118, BIC=307.857, Fit time=0.021 seconds\n",
            "Fit ARIMA: order=(1, 1, 0) seasonal_order=(1, 1, 0, 12); AIC=262.812, BIC=272.290, Fit time=0.425 seconds\n",
            "Fit ARIMA: order=(0, 1, 1) seasonal_order=(0, 1, 1, 12); AIC=244.529, BIC=254.007, Fit time=0.455 seconds\n"
          ],
          "name": "stdout"
        },
        {
          "output_type": "stream",
          "text": [
            "/usr/local/lib/python3.6/dist-packages/statsmodels/tsa/statespace/sarimax.py:981: UserWarning:\n",
            "\n",
            "Non-stationary starting seasonal autoregressive Using zeros as starting parameters.\n",
            "\n",
            "/usr/local/lib/python3.6/dist-packages/statsmodels/tsa/statespace/sarimax.py:993: UserWarning:\n",
            "\n",
            "Non-invertible starting seasonal moving average Using zeros as starting parameters.\n",
            "\n"
          ],
          "name": "stderr"
        },
        {
          "output_type": "stream",
          "text": [
            "Fit ARIMA: order=(0, 1, 1) seasonal_order=(1, 1, 1, 12); AIC=243.323, BIC=255.171, Fit time=0.747 seconds\n",
            "Fit ARIMA: order=(0, 1, 1) seasonal_order=(1, 1, 0, 12); AIC=241.580, BIC=251.057, Fit time=0.634 seconds\n"
          ],
          "name": "stdout"
        },
        {
          "output_type": "stream",
          "text": [
            "/usr/local/lib/python3.6/dist-packages/statsmodels/tsa/statespace/sarimax.py:981: UserWarning:\n",
            "\n",
            "Non-stationary starting seasonal autoregressive Using zeros as starting parameters.\n",
            "\n",
            "/usr/local/lib/python3.6/dist-packages/statsmodels/tsa/statespace/sarimax.py:993: UserWarning:\n",
            "\n",
            "Non-invertible starting seasonal moving average Using zeros as starting parameters.\n",
            "\n"
          ],
          "name": "stderr"
        },
        {
          "output_type": "stream",
          "text": [
            "Fit ARIMA: order=(0, 1, 1) seasonal_order=(2, 1, 1, 12); AIC=245.278, BIC=259.494, Fit time=2.896 seconds\n",
            "Fit ARIMA: order=(1, 1, 1) seasonal_order=(1, 1, 0, 12); AIC=243.313, BIC=255.161, Fit time=0.647 seconds\n",
            "Fit ARIMA: order=(0, 1, 0) seasonal_order=(1, 1, 0, 12); AIC=279.897, BIC=287.005, Fit time=0.325 seconds\n",
            "Fit ARIMA: order=(0, 1, 2) seasonal_order=(1, 1, 0, 12); AIC=243.102, BIC=254.949, Fit time=0.804 seconds\n"
          ],
          "name": "stdout"
        },
        {
          "output_type": "stream",
          "text": [
            "/usr/local/lib/python3.6/dist-packages/statsmodels/base/model.py:512: ConvergenceWarning:\n",
            "\n",
            "Maximum Likelihood optimization failed to converge. Check mle_retvals\n",
            "\n"
          ],
          "name": "stderr"
        },
        {
          "output_type": "stream",
          "text": [
            "Fit ARIMA: order=(1, 1, 2) seasonal_order=(1, 1, 0, 12); AIC=225.626, BIC=239.843, Fit time=2.051 seconds\n",
            "Fit ARIMA: order=(1, 1, 2) seasonal_order=(0, 1, 0, 12); AIC=263.795, BIC=275.642, Fit time=0.434 seconds\n"
          ],
          "name": "stdout"
        },
        {
          "output_type": "stream",
          "text": [
            "/usr/local/lib/python3.6/dist-packages/statsmodels/tsa/statespace/sarimax.py:981: UserWarning:\n",
            "\n",
            "Non-stationary starting seasonal autoregressive Using zeros as starting parameters.\n",
            "\n",
            "/usr/local/lib/python3.6/dist-packages/statsmodels/base/model.py:512: ConvergenceWarning:\n",
            "\n",
            "Maximum Likelihood optimization failed to converge. Check mle_retvals\n",
            "\n",
            "/usr/local/lib/python3.6/dist-packages/statsmodels/tsa/statespace/sarimax.py:981: UserWarning:\n",
            "\n",
            "Non-stationary starting seasonal autoregressive Using zeros as starting parameters.\n",
            "\n",
            "/usr/local/lib/python3.6/dist-packages/statsmodels/tsa/statespace/sarimax.py:993: UserWarning:\n",
            "\n",
            "Non-invertible starting seasonal moving average Using zeros as starting parameters.\n",
            "\n"
          ],
          "name": "stderr"
        },
        {
          "output_type": "stream",
          "text": [
            "Fit ARIMA: order=(1, 1, 2) seasonal_order=(2, 1, 0, 12); AIC=227.363, BIC=243.949, Fit time=4.434 seconds\n"
          ],
          "name": "stdout"
        },
        {
          "output_type": "stream",
          "text": [
            "/usr/local/lib/python3.6/dist-packages/statsmodels/base/model.py:512: ConvergenceWarning:\n",
            "\n",
            "Maximum Likelihood optimization failed to converge. Check mle_retvals\n",
            "\n",
            "/usr/local/lib/python3.6/dist-packages/statsmodels/tsa/statespace/sarimax.py:981: UserWarning:\n",
            "\n",
            "Non-stationary starting seasonal autoregressive Using zeros as starting parameters.\n",
            "\n",
            "/usr/local/lib/python3.6/dist-packages/statsmodels/tsa/statespace/sarimax.py:993: UserWarning:\n",
            "\n",
            "Non-invertible starting seasonal moving average Using zeros as starting parameters.\n",
            "\n"
          ],
          "name": "stderr"
        },
        {
          "output_type": "stream",
          "text": [
            "Fit ARIMA: order=(1, 1, 2) seasonal_order=(1, 1, 1, 12); AIC=227.342, BIC=243.928, Fit time=2.566 seconds\n"
          ],
          "name": "stdout"
        },
        {
          "output_type": "stream",
          "text": [
            "/usr/local/lib/python3.6/dist-packages/statsmodels/base/model.py:512: ConvergenceWarning:\n",
            "\n",
            "Maximum Likelihood optimization failed to converge. Check mle_retvals\n",
            "\n"
          ],
          "name": "stderr"
        },
        {
          "output_type": "stream",
          "text": [
            "Fit ARIMA: order=(1, 1, 2) seasonal_order=(2, 1, 1, 12); AIC=229.521, BIC=248.477, Fit time=5.256 seconds\n"
          ],
          "name": "stdout"
        },
        {
          "output_type": "stream",
          "text": [
            "/usr/local/lib/python3.6/dist-packages/statsmodels/base/model.py:512: ConvergenceWarning:\n",
            "\n",
            "Maximum Likelihood optimization failed to converge. Check mle_retvals\n",
            "\n",
            "/usr/local/lib/python3.6/dist-packages/statsmodels/tsa/statespace/sarimax.py:949: UserWarning:\n",
            "\n",
            "Non-stationary starting autoregressive parameters found. Using zeros as starting parameters.\n",
            "\n",
            "/usr/local/lib/python3.6/dist-packages/statsmodels/tsa/statespace/sarimax.py:961: UserWarning:\n",
            "\n",
            "Non-invertible starting MA parameters found. Using zeros as starting parameters.\n",
            "\n"
          ],
          "name": "stderr"
        },
        {
          "output_type": "stream",
          "text": [
            "Fit ARIMA: order=(2, 1, 2) seasonal_order=(1, 1, 0, 12); AIC=223.983, BIC=240.569, Fit time=2.299 seconds\n",
            "Fit ARIMA: order=(2, 1, 1) seasonal_order=(1, 1, 0, 12); AIC=243.722, BIC=257.939, Fit time=1.380 seconds\n"
          ],
          "name": "stdout"
        },
        {
          "output_type": "stream",
          "text": [
            "/usr/local/lib/python3.6/dist-packages/statsmodels/tsa/statespace/sarimax.py:961: UserWarning:\n",
            "\n",
            "Non-invertible starting MA parameters found. Using zeros as starting parameters.\n",
            "\n",
            "/usr/local/lib/python3.6/dist-packages/statsmodels/base/model.py:512: ConvergenceWarning:\n",
            "\n",
            "Maximum Likelihood optimization failed to converge. Check mle_retvals\n",
            "\n"
          ],
          "name": "stderr"
        },
        {
          "output_type": "stream",
          "text": [
            "Fit ARIMA: order=(2, 1, 3) seasonal_order=(1, 1, 0, 12); AIC=226.381, BIC=245.336, Fit time=2.807 seconds\n",
            "Fit ARIMA: order=(3, 1, 3) seasonal_order=(1, 1, 0, 12); AIC=213.350, BIC=234.675, Fit time=1.900 seconds\n",
            "Fit ARIMA: order=(3, 1, 3) seasonal_order=(0, 1, 0, 12); AIC=213.100, BIC=232.056, Fit time=0.543 seconds\n",
            "Fit ARIMA: order=(3, 1, 3) seasonal_order=(0, 1, 1, 12); AIC=213.485, BIC=234.810, Fit time=1.702 seconds\n"
          ],
          "name": "stdout"
        },
        {
          "output_type": "stream",
          "text": [
            "/usr/local/lib/python3.6/dist-packages/statsmodels/tsa/statespace/sarimax.py:981: UserWarning:\n",
            "\n",
            "Non-stationary starting seasonal autoregressive Using zeros as starting parameters.\n",
            "\n",
            "/usr/local/lib/python3.6/dist-packages/statsmodels/tsa/statespace/sarimax.py:993: UserWarning:\n",
            "\n",
            "Non-invertible starting seasonal moving average Using zeros as starting parameters.\n",
            "\n"
          ],
          "name": "stderr"
        },
        {
          "output_type": "stream",
          "text": [
            "Fit ARIMA: order=(3, 1, 3) seasonal_order=(1, 1, 1, 12); AIC=215.325, BIC=239.019, Fit time=2.377 seconds\n"
          ],
          "name": "stdout"
        },
        {
          "output_type": "stream",
          "text": [
            "/usr/local/lib/python3.6/dist-packages/statsmodels/tsa/statespace/sarimax.py:961: UserWarning:\n",
            "\n",
            "Non-invertible starting MA parameters found. Using zeros as starting parameters.\n",
            "\n"
          ],
          "name": "stderr"
        },
        {
          "output_type": "stream",
          "text": [
            "Fit ARIMA: order=(2, 1, 3) seasonal_order=(0, 1, 0, 12); AIC=248.295, BIC=264.881, Fit time=0.658 seconds\n",
            "Fit ARIMA: order=(3, 1, 2) seasonal_order=(0, 1, 0, 12); AIC=211.746, BIC=228.332, Fit time=0.408 seconds\n"
          ],
          "name": "stdout"
        },
        {
          "output_type": "stream",
          "text": [
            "/usr/local/lib/python3.6/dist-packages/statsmodels/tsa/statespace/sarimax.py:949: UserWarning:\n",
            "\n",
            "Non-stationary starting autoregressive parameters found. Using zeros as starting parameters.\n",
            "\n",
            "/usr/local/lib/python3.6/dist-packages/statsmodels/tsa/statespace/sarimax.py:961: UserWarning:\n",
            "\n",
            "Non-invertible starting MA parameters found. Using zeros as starting parameters.\n",
            "\n"
          ],
          "name": "stderr"
        },
        {
          "output_type": "stream",
          "text": [
            "Fit ARIMA: order=(2, 1, 1) seasonal_order=(0, 1, 0, 12); AIC=263.154, BIC=275.001, Fit time=0.224 seconds\n",
            "Fit ARIMA: order=(3, 1, 2) seasonal_order=(1, 1, 0, 12); AIC=211.614, BIC=230.569, Fit time=1.813 seconds\n"
          ],
          "name": "stdout"
        },
        {
          "output_type": "stream",
          "text": [
            "/usr/local/lib/python3.6/dist-packages/statsmodels/tsa/statespace/sarimax.py:981: UserWarning:\n",
            "\n",
            "Non-stationary starting seasonal autoregressive Using zeros as starting parameters.\n",
            "\n",
            "/usr/local/lib/python3.6/dist-packages/statsmodels/tsa/statespace/sarimax.py:993: UserWarning:\n",
            "\n",
            "Non-invertible starting seasonal moving average Using zeros as starting parameters.\n",
            "\n"
          ],
          "name": "stderr"
        },
        {
          "output_type": "stream",
          "text": [
            "Fit ARIMA: order=(3, 1, 2) seasonal_order=(1, 1, 1, 12); AIC=213.609, BIC=234.934, Fit time=1.850 seconds\n"
          ],
          "name": "stdout"
        },
        {
          "output_type": "stream",
          "text": [
            "/usr/local/lib/python3.6/dist-packages/statsmodels/tsa/statespace/sarimax.py:981: UserWarning:\n",
            "\n",
            "Non-stationary starting seasonal autoregressive Using zeros as starting parameters.\n",
            "\n",
            "/usr/local/lib/python3.6/dist-packages/statsmodels/tsa/statespace/sarimax.py:993: UserWarning:\n",
            "\n",
            "Non-invertible starting seasonal moving average Using zeros as starting parameters.\n",
            "\n"
          ],
          "name": "stderr"
        },
        {
          "output_type": "stream",
          "text": [
            "Fit ARIMA: order=(3, 1, 2) seasonal_order=(2, 1, 1, 12); AIC=215.611, BIC=239.305, Fit time=3.904 seconds\n",
            "Fit ARIMA: order=(3, 1, 1) seasonal_order=(1, 1, 0, 12); AIC=214.165, BIC=230.751, Fit time=1.531 seconds\n"
          ],
          "name": "stdout"
        },
        {
          "output_type": "stream",
          "text": [
            "/usr/local/lib/python3.6/dist-packages/statsmodels/tsa/statespace/sarimax.py:981: UserWarning:\n",
            "\n",
            "Non-stationary starting seasonal autoregressive Using zeros as starting parameters.\n",
            "\n"
          ],
          "name": "stderr"
        },
        {
          "output_type": "stream",
          "text": [
            "Fit ARIMA: order=(3, 1, 2) seasonal_order=(2, 1, 0, 12); AIC=213.610, BIC=234.935, Fit time=3.005 seconds\n",
            "Total fit time: 48.766 seconds\n"
          ],
          "name": "stdout"
        }
      ]
    },
    {
      "cell_type": "code",
      "metadata": {
        "id": "wTFHztsH0VoM",
        "colab_type": "code",
        "colab": {
          "base_uri": "https://localhost:8080/",
          "height": 1000
        },
        "outputId": "17c70c42-ab27-4fdb-f543-07439a2aa8bd"
      },
      "source": [
        "micro_13 = pd.read_csv(\"for_mcm/micro/13.csv\")\n",
        "micro_13.index = pd.to_datetime(micro_13[\"time\"])\n",
        "model = auto_arima(micro_13['cnt'], start_p=1, start_q=1, max_p=3, max_q=3, m=12, start_P=0, seasonal=True,\n",
        "                            d=1, D=1, trace=True, error_action='ignore', stepwise=True)\n",
        "forecast_13 = model.predict(n_periods=24)\n",
        "forecast_13 = pd.DataFrame(forecast_13,columns=['Prediction'])\n",
        "forecast_13 [forecast_13[\"Prediction\"]<0] = 0\n",
        "forecast_13.index = pd.date_range('2015-08', '2017-08', freq='M')"
      ],
      "execution_count": 100,
      "outputs": [
        {
          "output_type": "stream",
          "text": [
            "Fit ARIMA: order=(1, 1, 1) seasonal_order=(0, 1, 1, 12); AIC=361.660, BIC=373.507, Fit time=0.613 seconds\n",
            "Fit ARIMA: order=(0, 1, 0) seasonal_order=(0, 1, 0, 12); AIC=370.972, BIC=375.711, Fit time=0.019 seconds\n",
            "Fit ARIMA: order=(1, 1, 0) seasonal_order=(1, 1, 0, 12); AIC=361.539, BIC=371.017, Fit time=0.303 seconds\n",
            "Fit ARIMA: order=(0, 1, 1) seasonal_order=(0, 1, 1, 12); AIC=360.114, BIC=369.592, Fit time=0.319 seconds\n"
          ],
          "name": "stdout"
        },
        {
          "output_type": "stream",
          "text": [
            "/usr/local/lib/python3.6/dist-packages/statsmodels/tsa/statespace/sarimax.py:993: UserWarning:\n",
            "\n",
            "Non-invertible starting seasonal moving average Using zeros as starting parameters.\n",
            "\n"
          ],
          "name": "stderr"
        },
        {
          "output_type": "stream",
          "text": [
            "Fit ARIMA: order=(0, 1, 1) seasonal_order=(1, 1, 1, 12); AIC=362.097, BIC=373.944, Fit time=0.632 seconds\n",
            "Fit ARIMA: order=(0, 1, 1) seasonal_order=(0, 1, 0, 12); AIC=364.264, BIC=371.372, Fit time=0.070 seconds\n"
          ],
          "name": "stdout"
        },
        {
          "output_type": "stream",
          "text": [
            "/usr/local/lib/python3.6/dist-packages/statsmodels/tsa/statespace/sarimax.py:993: UserWarning:\n",
            "\n",
            "Non-invertible starting seasonal moving average Using zeros as starting parameters.\n",
            "\n"
          ],
          "name": "stderr"
        },
        {
          "output_type": "stream",
          "text": [
            "Fit ARIMA: order=(0, 1, 1) seasonal_order=(0, 1, 2, 12); AIC=362.103, BIC=373.950, Fit time=0.766 seconds\n"
          ],
          "name": "stdout"
        },
        {
          "output_type": "stream",
          "text": [
            "/usr/local/lib/python3.6/dist-packages/statsmodels/tsa/statespace/sarimax.py:993: UserWarning:\n",
            "\n",
            "Non-invertible starting seasonal moving average Using zeros as starting parameters.\n",
            "\n"
          ],
          "name": "stderr"
        },
        {
          "output_type": "stream",
          "text": [
            "Fit ARIMA: order=(0, 1, 1) seasonal_order=(1, 1, 2, 12); AIC=364.103, BIC=378.320, Fit time=0.829 seconds\n",
            "Fit ARIMA: order=(0, 1, 0) seasonal_order=(0, 1, 1, 12); AIC=360.832, BIC=367.941, Fit time=0.230 seconds\n",
            "Fit ARIMA: order=(0, 1, 2) seasonal_order=(0, 1, 1, 12); AIC=360.523, BIC=372.370, Fit time=0.513 seconds\n"
          ],
          "name": "stdout"
        },
        {
          "output_type": "stream",
          "text": [
            "/usr/local/lib/python3.6/dist-packages/statsmodels/tsa/statespace/sarimax.py:961: UserWarning:\n",
            "\n",
            "Non-invertible starting MA parameters found. Using zeros as starting parameters.\n",
            "\n"
          ],
          "name": "stderr"
        },
        {
          "output_type": "stream",
          "text": [
            "Fit ARIMA: order=(1, 1, 2) seasonal_order=(0, 1, 1, 12); AIC=356.788, BIC=371.005, Fit time=0.813 seconds\n"
          ],
          "name": "stdout"
        },
        {
          "output_type": "stream",
          "text": [
            "/usr/local/lib/python3.6/dist-packages/statsmodels/tsa/statespace/sarimax.py:961: UserWarning:\n",
            "\n",
            "Non-invertible starting MA parameters found. Using zeros as starting parameters.\n",
            "\n",
            "/usr/local/lib/python3.6/dist-packages/statsmodels/tsa/statespace/sarimax.py:993: UserWarning:\n",
            "\n",
            "Non-invertible starting seasonal moving average Using zeros as starting parameters.\n",
            "\n"
          ],
          "name": "stderr"
        },
        {
          "output_type": "stream",
          "text": [
            "Fit ARIMA: order=(1, 1, 2) seasonal_order=(1, 1, 1, 12); AIC=358.696, BIC=375.283, Fit time=1.316 seconds\n"
          ],
          "name": "stdout"
        },
        {
          "output_type": "stream",
          "text": [
            "/usr/local/lib/python3.6/dist-packages/statsmodels/tsa/statespace/sarimax.py:961: UserWarning:\n",
            "\n",
            "Non-invertible starting MA parameters found. Using zeros as starting parameters.\n",
            "\n"
          ],
          "name": "stderr"
        },
        {
          "output_type": "stream",
          "text": [
            "Fit ARIMA: order=(1, 1, 2) seasonal_order=(0, 1, 0, 12); AIC=360.495, BIC=372.342, Fit time=0.286 seconds\n"
          ],
          "name": "stdout"
        },
        {
          "output_type": "stream",
          "text": [
            "/usr/local/lib/python3.6/dist-packages/statsmodels/tsa/statespace/sarimax.py:961: UserWarning:\n",
            "\n",
            "Non-invertible starting MA parameters found. Using zeros as starting parameters.\n",
            "\n",
            "/usr/local/lib/python3.6/dist-packages/statsmodels/tsa/statespace/sarimax.py:993: UserWarning:\n",
            "\n",
            "Non-invertible starting seasonal moving average Using zeros as starting parameters.\n",
            "\n"
          ],
          "name": "stderr"
        },
        {
          "output_type": "stream",
          "text": [
            "Fit ARIMA: order=(1, 1, 2) seasonal_order=(0, 1, 2, 12); AIC=358.735, BIC=375.321, Fit time=2.137 seconds\n"
          ],
          "name": "stdout"
        },
        {
          "output_type": "stream",
          "text": [
            "/usr/local/lib/python3.6/dist-packages/statsmodels/tsa/statespace/sarimax.py:961: UserWarning:\n",
            "\n",
            "Non-invertible starting MA parameters found. Using zeros as starting parameters.\n",
            "\n",
            "/usr/local/lib/python3.6/dist-packages/statsmodels/tsa/statespace/sarimax.py:993: UserWarning:\n",
            "\n",
            "Non-invertible starting seasonal moving average Using zeros as starting parameters.\n",
            "\n"
          ],
          "name": "stderr"
        },
        {
          "output_type": "stream",
          "text": [
            "Fit ARIMA: order=(1, 1, 2) seasonal_order=(1, 1, 2, 12); AIC=360.783, BIC=379.739, Fit time=2.479 seconds\n",
            "Fit ARIMA: order=(2, 1, 2) seasonal_order=(0, 1, 1, 12); AIC=350.104, BIC=366.690, Fit time=1.088 seconds\n"
          ],
          "name": "stdout"
        },
        {
          "output_type": "stream",
          "text": [
            "/usr/local/lib/python3.6/dist-packages/statsmodels/tsa/statespace/sarimax.py:949: UserWarning:\n",
            "\n",
            "Non-stationary starting autoregressive parameters found. Using zeros as starting parameters.\n",
            "\n",
            "/usr/local/lib/python3.6/dist-packages/statsmodels/tsa/statespace/sarimax.py:961: UserWarning:\n",
            "\n",
            "Non-invertible starting MA parameters found. Using zeros as starting parameters.\n",
            "\n"
          ],
          "name": "stderr"
        },
        {
          "output_type": "stream",
          "text": [
            "Fit ARIMA: order=(2, 1, 1) seasonal_order=(0, 1, 1, 12); AIC=355.185, BIC=369.402, Fit time=1.141 seconds\n",
            "Fit ARIMA: order=(2, 1, 3) seasonal_order=(0, 1, 1, 12); AIC=352.070, BIC=371.026, Fit time=2.180 seconds\n"
          ],
          "name": "stdout"
        },
        {
          "output_type": "stream",
          "text": [
            "/usr/local/lib/python3.6/dist-packages/statsmodels/tsa/statespace/sarimax.py:949: UserWarning:\n",
            "\n",
            "Non-stationary starting autoregressive parameters found. Using zeros as starting parameters.\n",
            "\n",
            "/usr/local/lib/python3.6/dist-packages/statsmodels/tsa/statespace/sarimax.py:961: UserWarning:\n",
            "\n",
            "Non-invertible starting MA parameters found. Using zeros as starting parameters.\n",
            "\n",
            "/usr/local/lib/python3.6/dist-packages/statsmodels/base/model.py:512: ConvergenceWarning:\n",
            "\n",
            "Maximum Likelihood optimization failed to converge. Check mle_retvals\n",
            "\n",
            "/usr/local/lib/python3.6/dist-packages/statsmodels/tsa/statespace/sarimax.py:993: UserWarning:\n",
            "\n",
            "Non-invertible starting seasonal moving average Using zeros as starting parameters.\n",
            "\n"
          ],
          "name": "stderr"
        },
        {
          "output_type": "stream",
          "text": [
            "Fit ARIMA: order=(3, 1, 3) seasonal_order=(0, 1, 1, 12); AIC=353.626, BIC=374.952, Fit time=3.440 seconds\n",
            "Fit ARIMA: order=(2, 1, 2) seasonal_order=(1, 1, 1, 12); AIC=351.917, BIC=370.873, Fit time=2.104 seconds\n",
            "Fit ARIMA: order=(2, 1, 2) seasonal_order=(0, 1, 0, 12); AIC=349.667, BIC=363.883, Fit time=0.381 seconds\n",
            "Fit ARIMA: order=(3, 1, 2) seasonal_order=(0, 1, 0, 12); AIC=351.663, BIC=368.249, Fit time=0.535 seconds\n"
          ],
          "name": "stdout"
        },
        {
          "output_type": "stream",
          "text": [
            "/usr/local/lib/python3.6/dist-packages/statsmodels/tsa/statespace/sarimax.py:949: UserWarning:\n",
            "\n",
            "Non-stationary starting autoregressive parameters found. Using zeros as starting parameters.\n",
            "\n",
            "/usr/local/lib/python3.6/dist-packages/statsmodels/tsa/statespace/sarimax.py:961: UserWarning:\n",
            "\n",
            "Non-invertible starting MA parameters found. Using zeros as starting parameters.\n",
            "\n"
          ],
          "name": "stderr"
        },
        {
          "output_type": "stream",
          "text": [
            "Fit ARIMA: order=(2, 1, 1) seasonal_order=(0, 1, 0, 12); AIC=356.534, BIC=368.381, Fit time=0.379 seconds\n"
          ],
          "name": "stdout"
        },
        {
          "output_type": "stream",
          "text": [
            "/usr/local/lib/python3.6/dist-packages/statsmodels/base/model.py:512: ConvergenceWarning:\n",
            "\n",
            "Maximum Likelihood optimization failed to converge. Check mle_retvals\n",
            "\n",
            "/usr/local/lib/python3.6/dist-packages/statsmodels/tsa/statespace/sarimax.py:949: UserWarning:\n",
            "\n",
            "Non-stationary starting autoregressive parameters found. Using zeros as starting parameters.\n",
            "\n",
            "/usr/local/lib/python3.6/dist-packages/statsmodels/tsa/statespace/sarimax.py:961: UserWarning:\n",
            "\n",
            "Non-invertible starting MA parameters found. Using zeros as starting parameters.\n",
            "\n"
          ],
          "name": "stderr"
        },
        {
          "output_type": "stream",
          "text": [
            "Fit ARIMA: order=(2, 1, 3) seasonal_order=(0, 1, 0, 12); AIC=351.732, BIC=368.318, Fit time=1.209 seconds\n",
            "Fit ARIMA: order=(1, 1, 1) seasonal_order=(0, 1, 0, 12); AIC=366.249, BIC=375.727, Fit time=0.150 seconds\n",
            "Fit ARIMA: order=(3, 1, 3) seasonal_order=(0, 1, 0, 12); AIC=353.426, BIC=372.381, Fit time=0.958 seconds\n",
            "Fit ARIMA: order=(2, 1, 2) seasonal_order=(1, 1, 0, 12); AIC=350.246, BIC=366.832, Fit time=1.153 seconds\n",
            "Total fit time: 26.057 seconds\n"
          ],
          "name": "stdout"
        }
      ]
    },
    {
      "cell_type": "code",
      "metadata": {
        "id": "DXKTgyQ904Xv",
        "colab_type": "code",
        "colab": {
          "base_uri": "https://localhost:8080/",
          "height": 1000
        },
        "outputId": "d54da949-2efa-45f2-a14e-3076281ed079"
      },
      "source": [
        "micro_19 = pd.read_csv(\"for_mcm/micro/19.csv\")\n",
        "micro_19.index = pd.to_datetime(micro_19[\"time\"])\n",
        "model = auto_arima(micro_19['cnt'], start_p=1, start_q=1, max_p=3, max_q=3, m=12, start_P=0, seasonal=True,\n",
        "                            d=1, D=1, trace=True, error_action='ignore', stepwise=True)\n",
        "forecast_19 = model.predict(n_periods=24)\n",
        "forecast_19 = pd.DataFrame(forecast_19,columns=['Prediction'])\n",
        "forecast_19 [forecast_19[\"Prediction\"]<0] = 0\n",
        "forecast_19.index = pd.date_range('2015-08', '2017-08', freq='M')"
      ],
      "execution_count": 101,
      "outputs": [
        {
          "output_type": "stream",
          "text": [
            "/usr/local/lib/python3.6/dist-packages/statsmodels/tsa/statespace/sarimax.py:961: UserWarning:\n",
            "\n",
            "Non-invertible starting MA parameters found. Using zeros as starting parameters.\n",
            "\n",
            "/usr/local/lib/python3.6/dist-packages/statsmodels/tsa/statespace/sarimax.py:993: UserWarning:\n",
            "\n",
            "Non-invertible starting seasonal moving average Using zeros as starting parameters.\n",
            "\n"
          ],
          "name": "stderr"
        },
        {
          "output_type": "stream",
          "text": [
            "Fit ARIMA: order=(1, 1, 1) seasonal_order=(0, 1, 1, 12); AIC=238.770, BIC=250.617, Fit time=1.874 seconds\n",
            "Fit ARIMA: order=(0, 1, 0) seasonal_order=(0, 1, 0, 12); AIC=321.961, BIC=326.699, Fit time=0.020 seconds\n"
          ],
          "name": "stdout"
        },
        {
          "output_type": "stream",
          "text": [
            "/usr/local/lib/python3.6/dist-packages/statsmodels/tsa/statespace/sarimax.py:981: UserWarning:\n",
            "\n",
            "Non-stationary starting seasonal autoregressive Using zeros as starting parameters.\n",
            "\n"
          ],
          "name": "stderr"
        },
        {
          "output_type": "stream",
          "text": [
            "Fit ARIMA: order=(1, 1, 0) seasonal_order=(1, 1, 0, 12); AIC=269.399, BIC=278.877, Fit time=0.279 seconds\n"
          ],
          "name": "stdout"
        },
        {
          "output_type": "stream",
          "text": [
            "/usr/local/lib/python3.6/dist-packages/statsmodels/tsa/statespace/sarimax.py:993: UserWarning:\n",
            "\n",
            "Non-invertible starting seasonal moving average Using zeros as starting parameters.\n",
            "\n"
          ],
          "name": "stderr"
        },
        {
          "output_type": "stream",
          "text": [
            "Fit ARIMA: order=(0, 1, 1) seasonal_order=(0, 1, 1, 12); AIC=236.770, BIC=246.247, Fit time=1.138 seconds\n"
          ],
          "name": "stdout"
        },
        {
          "output_type": "stream",
          "text": [
            "/usr/local/lib/python3.6/dist-packages/statsmodels/tsa/statespace/sarimax.py:981: UserWarning:\n",
            "\n",
            "Non-stationary starting seasonal autoregressive Using zeros as starting parameters.\n",
            "\n"
          ],
          "name": "stderr"
        },
        {
          "output_type": "stream",
          "text": [
            "Fit ARIMA: order=(0, 1, 1) seasonal_order=(1, 1, 1, 12); AIC=233.431, BIC=245.279, Fit time=1.685 seconds\n"
          ],
          "name": "stdout"
        },
        {
          "output_type": "stream",
          "text": [
            "/usr/local/lib/python3.6/dist-packages/statsmodels/tsa/statespace/sarimax.py:981: UserWarning:\n",
            "\n",
            "Non-stationary starting seasonal autoregressive Using zeros as starting parameters.\n",
            "\n"
          ],
          "name": "stderr"
        },
        {
          "output_type": "stream",
          "text": [
            "Fit ARIMA: order=(0, 1, 1) seasonal_order=(1, 1, 0, 12); AIC=244.703, BIC=254.180, Fit time=0.792 seconds\n"
          ],
          "name": "stdout"
        },
        {
          "output_type": "stream",
          "text": [
            "/usr/local/lib/python3.6/dist-packages/statsmodels/tsa/statespace/sarimax.py:981: UserWarning:\n",
            "\n",
            "Non-stationary starting seasonal autoregressive Using zeros as starting parameters.\n",
            "\n",
            "/usr/local/lib/python3.6/dist-packages/statsmodels/tsa/statespace/sarimax.py:993: UserWarning:\n",
            "\n",
            "Non-invertible starting seasonal moving average Using zeros as starting parameters.\n",
            "\n"
          ],
          "name": "stderr"
        },
        {
          "output_type": "stream",
          "text": [
            "Fit ARIMA: order=(0, 1, 1) seasonal_order=(1, 1, 2, 12); AIC=234.075, BIC=248.292, Fit time=4.339 seconds\n",
            "Fit ARIMA: order=(0, 1, 1) seasonal_order=(0, 1, 0, 12); AIC=277.871, BIC=284.979, Fit time=0.105 seconds\n"
          ],
          "name": "stdout"
        },
        {
          "output_type": "stream",
          "text": [
            "/usr/local/lib/python3.6/dist-packages/statsmodels/tsa/statespace/sarimax.py:981: UserWarning:\n",
            "\n",
            "Non-stationary starting seasonal autoregressive Using zeros as starting parameters.\n",
            "\n",
            "/usr/local/lib/python3.6/dist-packages/statsmodels/tsa/statespace/sarimax.py:993: UserWarning:\n",
            "\n",
            "Non-invertible starting seasonal moving average Using zeros as starting parameters.\n",
            "\n",
            "/usr/local/lib/python3.6/dist-packages/statsmodels/base/model.py:512: ConvergenceWarning:\n",
            "\n",
            "Maximum Likelihood optimization failed to converge. Check mle_retvals\n",
            "\n",
            "/usr/local/lib/python3.6/dist-packages/statsmodels/tsa/statespace/sarimax.py:961: UserWarning:\n",
            "\n",
            "Non-invertible starting MA parameters found. Using zeros as starting parameters.\n",
            "\n",
            "/usr/local/lib/python3.6/dist-packages/statsmodels/tsa/statespace/sarimax.py:981: UserWarning:\n",
            "\n",
            "Non-stationary starting seasonal autoregressive Using zeros as starting parameters.\n",
            "\n"
          ],
          "name": "stderr"
        },
        {
          "output_type": "stream",
          "text": [
            "Fit ARIMA: order=(0, 1, 1) seasonal_order=(2, 1, 2, 12); AIC=236.150, BIC=252.736, Fit time=4.829 seconds\n",
            "Fit ARIMA: order=(1, 1, 1) seasonal_order=(1, 1, 1, 12); AIC=235.247, BIC=249.464, Fit time=1.199 seconds\n"
          ],
          "name": "stdout"
        },
        {
          "output_type": "stream",
          "text": [
            "/usr/local/lib/python3.6/dist-packages/statsmodels/tsa/statespace/sarimax.py:981: UserWarning:\n",
            "\n",
            "Non-stationary starting seasonal autoregressive Using zeros as starting parameters.\n",
            "\n"
          ],
          "name": "stderr"
        },
        {
          "output_type": "stream",
          "text": [
            "Fit ARIMA: order=(0, 1, 0) seasonal_order=(1, 1, 1, 12); AIC=267.815, BIC=277.293, Fit time=0.337 seconds\n"
          ],
          "name": "stdout"
        },
        {
          "output_type": "stream",
          "text": [
            "/usr/local/lib/python3.6/dist-packages/statsmodels/tsa/statespace/sarimax.py:981: UserWarning:\n",
            "\n",
            "Non-stationary starting seasonal autoregressive Using zeros as starting parameters.\n",
            "\n"
          ],
          "name": "stderr"
        },
        {
          "output_type": "stream",
          "text": [
            "Fit ARIMA: order=(0, 1, 2) seasonal_order=(1, 1, 1, 12); AIC=235.092, BIC=249.308, Fit time=1.319 seconds\n"
          ],
          "name": "stdout"
        },
        {
          "output_type": "stream",
          "text": [
            "/usr/local/lib/python3.6/dist-packages/statsmodels/tsa/statespace/sarimax.py:981: UserWarning:\n",
            "\n",
            "Non-stationary starting seasonal autoregressive Using zeros as starting parameters.\n",
            "\n"
          ],
          "name": "stderr"
        },
        {
          "output_type": "stream",
          "text": [
            "Fit ARIMA: order=(1, 1, 2) seasonal_order=(1, 1, 1, 12); AIC=236.125, BIC=252.711, Fit time=1.897 seconds\n",
            "Fit ARIMA: order=(0, 1, 1) seasonal_order=(2, 1, 1, 12); AIC=234.657, BIC=248.873, Fit time=3.763 seconds\n",
            "Total fit time: 23.582 seconds\n"
          ],
          "name": "stdout"
        }
      ]
    },
    {
      "cell_type": "code",
      "metadata": {
        "id": "vbjtHb-M1OzG",
        "colab_type": "code",
        "colab": {
          "base_uri": "https://localhost:8080/",
          "height": 1000
        },
        "outputId": "0a1b00f6-3ac0-4e74-e462-33711b87c60a"
      },
      "source": [
        "micro_35 = pd.read_csv(\"for_mcm/micro/35.csv\")\n",
        "micro_35.index = pd.to_datetime(micro_35[\"time\"])\n",
        "model = auto_arima(micro_35['cnt'], start_p=1, start_q=1, max_p=3, max_q=3, m=12, start_P=0, seasonal=True,\n",
        "                            d=1, D=1, trace=True, error_action='ignore', stepwise=True)\n",
        "forecast_35 = model.predict(n_periods=24)\n",
        "forecast_35 = pd.DataFrame(forecast_35,columns=['Prediction'])\n",
        "forecast_35 [forecast_35[\"Prediction\"]<0] = 0\n",
        "forecast_35.index = pd.date_range('2015-08', '2017-08', freq='M')"
      ],
      "execution_count": 102,
      "outputs": [
        {
          "output_type": "stream",
          "text": [
            "/usr/local/lib/python3.6/dist-packages/statsmodels/tsa/statespace/sarimax.py:961: UserWarning:\n",
            "\n",
            "Non-invertible starting MA parameters found. Using zeros as starting parameters.\n",
            "\n",
            "/usr/local/lib/python3.6/dist-packages/statsmodels/tsa/statespace/sarimax.py:993: UserWarning:\n",
            "\n",
            "Non-invertible starting seasonal moving average Using zeros as starting parameters.\n",
            "\n"
          ],
          "name": "stderr"
        },
        {
          "output_type": "stream",
          "text": [
            "Fit ARIMA: order=(1, 1, 1) seasonal_order=(0, 1, 1, 12); AIC=244.276, BIC=256.123, Fit time=1.929 seconds\n",
            "Fit ARIMA: order=(0, 1, 0) seasonal_order=(0, 1, 0, 12); AIC=307.244, BIC=311.983, Fit time=0.019 seconds\n",
            "Fit ARIMA: order=(1, 1, 0) seasonal_order=(1, 1, 0, 12); AIC=286.757, BIC=296.235, Fit time=0.272 seconds\n"
          ],
          "name": "stdout"
        },
        {
          "output_type": "stream",
          "text": [
            "/usr/local/lib/python3.6/dist-packages/statsmodels/tsa/statespace/sarimax.py:993: UserWarning:\n",
            "\n",
            "Non-invertible starting seasonal moving average Using zeros as starting parameters.\n",
            "\n"
          ],
          "name": "stderr"
        },
        {
          "output_type": "stream",
          "text": [
            "Fit ARIMA: order=(0, 1, 1) seasonal_order=(0, 1, 1, 12); AIC=242.345, BIC=251.822, Fit time=1.163 seconds\n"
          ],
          "name": "stdout"
        },
        {
          "output_type": "stream",
          "text": [
            "/usr/local/lib/python3.6/dist-packages/statsmodels/tsa/statespace/sarimax.py:993: UserWarning:\n",
            "\n",
            "Non-invertible starting seasonal moving average Using zeros as starting parameters.\n",
            "\n"
          ],
          "name": "stderr"
        },
        {
          "output_type": "stream",
          "text": [
            "Fit ARIMA: order=(0, 1, 1) seasonal_order=(1, 1, 1, 12); AIC=244.344, BIC=256.191, Fit time=1.850 seconds\n",
            "Fit ARIMA: order=(0, 1, 1) seasonal_order=(0, 1, 0, 12); AIC=263.308, BIC=270.416, Fit time=0.261 seconds\n"
          ],
          "name": "stdout"
        },
        {
          "output_type": "stream",
          "text": [
            "/usr/local/lib/python3.6/dist-packages/statsmodels/tsa/statespace/sarimax.py:993: UserWarning:\n",
            "\n",
            "Non-invertible starting seasonal moving average Using zeros as starting parameters.\n",
            "\n"
          ],
          "name": "stderr"
        },
        {
          "output_type": "stream",
          "text": [
            "Fit ARIMA: order=(0, 1, 1) seasonal_order=(0, 1, 2, 12); AIC=244.345, BIC=256.193, Fit time=1.974 seconds\n"
          ],
          "name": "stdout"
        },
        {
          "output_type": "stream",
          "text": [
            "/usr/local/lib/python3.6/dist-packages/statsmodels/tsa/statespace/sarimax.py:993: UserWarning:\n",
            "\n",
            "Non-invertible starting seasonal moving average Using zeros as starting parameters.\n",
            "\n",
            "/usr/local/lib/python3.6/dist-packages/statsmodels/base/model.py:512: ConvergenceWarning:\n",
            "\n",
            "Maximum Likelihood optimization failed to converge. Check mle_retvals\n",
            "\n",
            "/usr/local/lib/python3.6/dist-packages/statsmodels/tsa/statespace/sarimax.py:993: UserWarning:\n",
            "\n",
            "Non-invertible starting seasonal moving average Using zeros as starting parameters.\n",
            "\n"
          ],
          "name": "stderr"
        },
        {
          "output_type": "stream",
          "text": [
            "Fit ARIMA: order=(0, 1, 1) seasonal_order=(1, 1, 2, 12); AIC=245.266, BIC=259.483, Fit time=4.043 seconds\n",
            "Fit ARIMA: order=(0, 1, 0) seasonal_order=(0, 1, 1, 12); AIC=276.020, BIC=283.129, Fit time=0.527 seconds\n"
          ],
          "name": "stdout"
        },
        {
          "output_type": "stream",
          "text": [
            "/usr/local/lib/python3.6/dist-packages/statsmodels/tsa/statespace/sarimax.py:993: UserWarning:\n",
            "\n",
            "Non-invertible starting seasonal moving average Using zeros as starting parameters.\n",
            "\n"
          ],
          "name": "stderr"
        },
        {
          "output_type": "stream",
          "text": [
            "Fit ARIMA: order=(0, 1, 2) seasonal_order=(0, 1, 1, 12); AIC=243.981, BIC=255.828, Fit time=1.404 seconds\n"
          ],
          "name": "stdout"
        },
        {
          "output_type": "stream",
          "text": [
            "/usr/local/lib/python3.6/dist-packages/statsmodels/tsa/statespace/sarimax.py:993: UserWarning:\n",
            "\n",
            "Non-invertible starting seasonal moving average Using zeros as starting parameters.\n",
            "\n",
            "/usr/local/lib/python3.6/dist-packages/statsmodels/base/model.py:512: ConvergenceWarning:\n",
            "\n",
            "Maximum Likelihood optimization failed to converge. Check mle_retvals\n",
            "\n",
            "/usr/local/lib/python3.6/dist-packages/statsmodels/tsa/statespace/sarimax.py:993: UserWarning:\n",
            "\n",
            "Non-invertible starting seasonal moving average Using zeros as starting parameters.\n",
            "\n"
          ],
          "name": "stderr"
        },
        {
          "output_type": "stream",
          "text": [
            "Fit ARIMA: order=(1, 1, 2) seasonal_order=(0, 1, 1, 12); AIC=240.779, BIC=254.996, Fit time=2.070 seconds\n"
          ],
          "name": "stdout"
        },
        {
          "output_type": "stream",
          "text": [
            "/usr/local/lib/python3.6/dist-packages/statsmodels/base/model.py:512: ConvergenceWarning:\n",
            "\n",
            "Maximum Likelihood optimization failed to converge. Check mle_retvals\n",
            "\n"
          ],
          "name": "stderr"
        },
        {
          "output_type": "stream",
          "text": [
            "Fit ARIMA: order=(1, 1, 2) seasonal_order=(1, 1, 1, 12); AIC=242.426, BIC=259.012, Fit time=2.490 seconds\n"
          ],
          "name": "stdout"
        },
        {
          "output_type": "stream",
          "text": [
            "/usr/local/lib/python3.6/dist-packages/statsmodels/base/model.py:512: ConvergenceWarning:\n",
            "\n",
            "Maximum Likelihood optimization failed to converge. Check mle_retvals\n",
            "\n",
            "/usr/local/lib/python3.6/dist-packages/statsmodels/tsa/statespace/sarimax.py:993: UserWarning:\n",
            "\n",
            "Non-invertible starting seasonal moving average Using zeros as starting parameters.\n",
            "\n"
          ],
          "name": "stderr"
        },
        {
          "output_type": "stream",
          "text": [
            "Fit ARIMA: order=(1, 1, 2) seasonal_order=(0, 1, 0, 12); AIC=263.970, BIC=275.817, Fit time=0.706 seconds\n"
          ],
          "name": "stdout"
        },
        {
          "output_type": "stream",
          "text": [
            "/usr/local/lib/python3.6/dist-packages/statsmodels/base/model.py:512: ConvergenceWarning:\n",
            "\n",
            "Maximum Likelihood optimization failed to converge. Check mle_retvals\n",
            "\n",
            "/usr/local/lib/python3.6/dist-packages/statsmodels/tsa/statespace/sarimax.py:993: UserWarning:\n",
            "\n",
            "Non-invertible starting seasonal moving average Using zeros as starting parameters.\n",
            "\n"
          ],
          "name": "stderr"
        },
        {
          "output_type": "stream",
          "text": [
            "Fit ARIMA: order=(1, 1, 2) seasonal_order=(0, 1, 2, 12); AIC=241.935, BIC=258.521, Fit time=4.250 seconds\n",
            "Fit ARIMA: order=(1, 1, 2) seasonal_order=(1, 1, 2, 12); AIC=244.772, BIC=263.728, Fit time=4.379 seconds\n"
          ],
          "name": "stdout"
        },
        {
          "output_type": "stream",
          "text": [
            "/usr/local/lib/python3.6/dist-packages/statsmodels/tsa/statespace/sarimax.py:993: UserWarning:\n",
            "\n",
            "Non-invertible starting seasonal moving average Using zeros as starting parameters.\n",
            "\n",
            "/usr/local/lib/python3.6/dist-packages/statsmodels/base/model.py:512: ConvergenceWarning:\n",
            "\n",
            "Maximum Likelihood optimization failed to converge. Check mle_retvals\n",
            "\n",
            "/usr/local/lib/python3.6/dist-packages/statsmodels/tsa/statespace/sarimax.py:993: UserWarning:\n",
            "\n",
            "Non-invertible starting seasonal moving average Using zeros as starting parameters.\n",
            "\n"
          ],
          "name": "stderr"
        },
        {
          "output_type": "stream",
          "text": [
            "Fit ARIMA: order=(2, 1, 2) seasonal_order=(0, 1, 1, 12); AIC=238.428, BIC=255.014, Fit time=2.071 seconds\n",
            "Fit ARIMA: order=(2, 1, 1) seasonal_order=(0, 1, 1, 12); AIC=236.458, BIC=250.675, Fit time=1.922 seconds\n"
          ],
          "name": "stdout"
        },
        {
          "output_type": "stream",
          "text": [
            "/usr/local/lib/python3.6/dist-packages/statsmodels/tsa/statespace/sarimax.py:993: UserWarning:\n",
            "\n",
            "Non-invertible starting seasonal moving average Using zeros as starting parameters.\n",
            "\n"
          ],
          "name": "stderr"
        },
        {
          "output_type": "stream",
          "text": [
            "Fit ARIMA: order=(1, 1, 0) seasonal_order=(0, 1, 1, 12); AIC=270.883, BIC=280.361, Fit time=1.144 seconds\n"
          ],
          "name": "stdout"
        },
        {
          "output_type": "stream",
          "text": [
            "/usr/local/lib/python3.6/dist-packages/statsmodels/tsa/statespace/sarimax.py:993: UserWarning:\n",
            "\n",
            "Non-invertible starting seasonal moving average Using zeros as starting parameters.\n",
            "\n"
          ],
          "name": "stderr"
        },
        {
          "output_type": "stream",
          "text": [
            "Fit ARIMA: order=(3, 1, 2) seasonal_order=(0, 1, 1, 12); AIC=238.640, BIC=257.595, Fit time=1.999 seconds\n"
          ],
          "name": "stdout"
        },
        {
          "output_type": "stream",
          "text": [
            "/usr/local/lib/python3.6/dist-packages/statsmodels/tsa/statespace/sarimax.py:993: UserWarning:\n",
            "\n",
            "Non-invertible starting seasonal moving average Using zeros as starting parameters.\n",
            "\n",
            "/usr/local/lib/python3.6/dist-packages/statsmodels/base/model.py:512: ConvergenceWarning:\n",
            "\n",
            "Maximum Likelihood optimization failed to converge. Check mle_retvals\n",
            "\n"
          ],
          "name": "stderr"
        },
        {
          "output_type": "stream",
          "text": [
            "Fit ARIMA: order=(2, 1, 1) seasonal_order=(1, 1, 1, 12); AIC=237.468, BIC=254.054, Fit time=2.435 seconds\n",
            "Fit ARIMA: order=(2, 1, 1) seasonal_order=(0, 1, 0, 12); AIC=263.585, BIC=275.433, Fit time=0.278 seconds\n"
          ],
          "name": "stdout"
        },
        {
          "output_type": "stream",
          "text": [
            "/usr/local/lib/python3.6/dist-packages/statsmodels/tsa/statespace/sarimax.py:993: UserWarning:\n",
            "\n",
            "Non-invertible starting seasonal moving average Using zeros as starting parameters.\n",
            "\n",
            "/usr/local/lib/python3.6/dist-packages/statsmodels/base/model.py:512: ConvergenceWarning:\n",
            "\n",
            "Maximum Likelihood optimization failed to converge. Check mle_retvals\n",
            "\n",
            "/usr/local/lib/python3.6/dist-packages/statsmodels/tsa/statespace/sarimax.py:961: UserWarning:\n",
            "\n",
            "Non-invertible starting MA parameters found. Using zeros as starting parameters.\n",
            "\n",
            "/usr/local/lib/python3.6/dist-packages/statsmodels/tsa/statespace/sarimax.py:993: UserWarning:\n",
            "\n",
            "Non-invertible starting seasonal moving average Using zeros as starting parameters.\n",
            "\n"
          ],
          "name": "stderr"
        },
        {
          "output_type": "stream",
          "text": [
            "Fit ARIMA: order=(2, 1, 1) seasonal_order=(0, 1, 2, 12); AIC=236.082, BIC=252.668, Fit time=4.482 seconds\n",
            "Fit ARIMA: order=(1, 1, 1) seasonal_order=(0, 1, 2, 12); AIC=246.270, BIC=260.486, Fit time=4.205 seconds\n"
          ],
          "name": "stdout"
        },
        {
          "output_type": "stream",
          "text": [
            "/usr/local/lib/python3.6/dist-packages/statsmodels/tsa/statespace/sarimax.py:993: UserWarning:\n",
            "\n",
            "Non-invertible starting seasonal moving average Using zeros as starting parameters.\n",
            "\n",
            "/usr/local/lib/python3.6/dist-packages/statsmodels/base/model.py:512: ConvergenceWarning:\n",
            "\n",
            "Maximum Likelihood optimization failed to converge. Check mle_retvals\n",
            "\n",
            "/usr/local/lib/python3.6/dist-packages/statsmodels/tsa/statespace/sarimax.py:993: UserWarning:\n",
            "\n",
            "Non-invertible starting seasonal moving average Using zeros as starting parameters.\n",
            "\n"
          ],
          "name": "stderr"
        },
        {
          "output_type": "stream",
          "text": [
            "Fit ARIMA: order=(3, 1, 1) seasonal_order=(0, 1, 2, 12); AIC=237.669, BIC=256.624, Fit time=5.221 seconds\n",
            "Fit ARIMA: order=(2, 1, 0) seasonal_order=(0, 1, 2, 12); AIC=245.869, BIC=260.085, Fit time=3.160 seconds\n"
          ],
          "name": "stdout"
        },
        {
          "output_type": "stream",
          "text": [
            "/usr/local/lib/python3.6/dist-packages/statsmodels/tsa/statespace/sarimax.py:993: UserWarning:\n",
            "\n",
            "Non-invertible starting seasonal moving average Using zeros as starting parameters.\n",
            "\n",
            "/usr/local/lib/python3.6/dist-packages/statsmodels/base/model.py:512: ConvergenceWarning:\n",
            "\n",
            "Maximum Likelihood optimization failed to converge. Check mle_retvals\n",
            "\n",
            "/usr/local/lib/python3.6/dist-packages/statsmodels/tsa/statespace/sarimax.py:993: UserWarning:\n",
            "\n",
            "Non-invertible starting seasonal moving average Using zeros as starting parameters.\n",
            "\n"
          ],
          "name": "stderr"
        },
        {
          "output_type": "stream",
          "text": [
            "Fit ARIMA: order=(2, 1, 2) seasonal_order=(0, 1, 2, 12); AIC=237.854, BIC=256.810, Fit time=4.342 seconds\n",
            "Fit ARIMA: order=(1, 1, 0) seasonal_order=(0, 1, 2, 12); AIC=272.674, BIC=284.521, Fit time=2.716 seconds\n"
          ],
          "name": "stdout"
        },
        {
          "output_type": "stream",
          "text": [
            "/usr/local/lib/python3.6/dist-packages/statsmodels/tsa/statespace/sarimax.py:993: UserWarning:\n",
            "\n",
            "Non-invertible starting seasonal moving average Using zeros as starting parameters.\n",
            "\n",
            "/usr/local/lib/python3.6/dist-packages/statsmodels/base/model.py:512: ConvergenceWarning:\n",
            "\n",
            "Maximum Likelihood optimization failed to converge. Check mle_retvals\n",
            "\n"
          ],
          "name": "stderr"
        },
        {
          "output_type": "stream",
          "text": [
            "Fit ARIMA: order=(3, 1, 2) seasonal_order=(0, 1, 2, 12); AIC=238.443, BIC=259.768, Fit time=4.993 seconds\n"
          ],
          "name": "stdout"
        },
        {
          "output_type": "stream",
          "text": [
            "/usr/local/lib/python3.6/dist-packages/statsmodels/tsa/statespace/sarimax.py:993: UserWarning:\n",
            "\n",
            "Non-invertible starting seasonal moving average Using zeros as starting parameters.\n",
            "\n",
            "/usr/local/lib/python3.6/dist-packages/statsmodels/base/model.py:512: ConvergenceWarning:\n",
            "\n",
            "Maximum Likelihood optimization failed to converge. Check mle_retvals\n",
            "\n"
          ],
          "name": "stderr"
        },
        {
          "output_type": "stream",
          "text": [
            "Fit ARIMA: order=(2, 1, 1) seasonal_order=(1, 1, 2, 12); AIC=240.440, BIC=259.396, Fit time=5.166 seconds\n",
            "Total fit time: 71.491 seconds\n"
          ],
          "name": "stdout"
        }
      ]
    },
    {
      "cell_type": "code",
      "metadata": {
        "id": "eh6sfFxt1ZCG",
        "colab_type": "code",
        "colab": {
          "base_uri": "https://localhost:8080/",
          "height": 1000
        },
        "outputId": "050f305f-ec15-482e-ff3a-fe8246e42e84"
      },
      "source": [
        "micro_40 = pd.read_csv(\"for_mcm/micro/40.csv\")\n",
        "micro_40.index = pd.to_datetime(micro_40[\"time\"])\n",
        "model = auto_arima(micro_40['cnt'], start_p=1, start_q=1, max_p=3, max_q=3, m=12, start_P=0, seasonal=True,\n",
        "                            d=1, D=1, trace=True, error_action='ignore', stepwise=True)\n",
        "forecast_40 = model.predict(n_periods=24)\n",
        "forecast_40 = pd.DataFrame(forecast_40,columns=['Prediction'])\n",
        "forecast_40 [forecast_40[\"Prediction\"]<0] = 0\n",
        "forecast_40.index = pd.date_range('2015-08', '2017-08', freq='M')"
      ],
      "execution_count": 103,
      "outputs": [
        {
          "output_type": "stream",
          "text": [
            "/usr/local/lib/python3.6/dist-packages/statsmodels/tsa/statespace/sarimax.py:961: UserWarning:\n",
            "\n",
            "Non-invertible starting MA parameters found. Using zeros as starting parameters.\n",
            "\n",
            "/usr/local/lib/python3.6/dist-packages/statsmodels/base/model.py:512: ConvergenceWarning:\n",
            "\n",
            "Maximum Likelihood optimization failed to converge. Check mle_retvals\n",
            "\n"
          ],
          "name": "stderr"
        },
        {
          "output_type": "stream",
          "text": [
            "Fit ARIMA: order=(1, 1, 1) seasonal_order=(0, 1, 1, 12); AIC=219.598, BIC=231.445, Fit time=1.909 seconds\n",
            "Fit ARIMA: order=(0, 1, 0) seasonal_order=(0, 1, 0, 12); AIC=290.571, BIC=295.310, Fit time=0.019 seconds\n",
            "Fit ARIMA: order=(1, 1, 0) seasonal_order=(1, 1, 0, 12); AIC=252.609, BIC=262.087, Fit time=0.329 seconds\n",
            "Fit ARIMA: order=(0, 1, 1) seasonal_order=(0, 1, 1, 12); AIC=218.479, BIC=227.957, Fit time=1.133 seconds\n",
            "Fit ARIMA: order=(0, 1, 1) seasonal_order=(1, 1, 1, 12); AIC=217.017, BIC=228.865, Fit time=1.448 seconds\n",
            "Fit ARIMA: order=(0, 1, 1) seasonal_order=(1, 1, 0, 12); AIC=219.446, BIC=228.924, Fit time=0.860 seconds\n"
          ],
          "name": "stdout"
        },
        {
          "output_type": "stream",
          "text": [
            "/usr/local/lib/python3.6/dist-packages/statsmodels/tsa/statespace/sarimax.py:993: UserWarning:\n",
            "\n",
            "Non-invertible starting seasonal moving average Using zeros as starting parameters.\n",
            "\n"
          ],
          "name": "stderr"
        },
        {
          "output_type": "stream",
          "text": [
            "Fit ARIMA: order=(0, 1, 1) seasonal_order=(1, 1, 2, 12); AIC=218.944, BIC=233.161, Fit time=4.381 seconds\n",
            "Fit ARIMA: order=(0, 1, 1) seasonal_order=(0, 1, 0, 12); AIC=245.989, BIC=253.097, Fit time=0.409 seconds\n"
          ],
          "name": "stdout"
        },
        {
          "output_type": "stream",
          "text": [
            "/usr/local/lib/python3.6/dist-packages/statsmodels/tsa/statespace/sarimax.py:981: UserWarning:\n",
            "\n",
            "Non-stationary starting seasonal autoregressive Using zeros as starting parameters.\n",
            "\n",
            "/usr/local/lib/python3.6/dist-packages/statsmodels/tsa/statespace/sarimax.py:993: UserWarning:\n",
            "\n",
            "Non-invertible starting seasonal moving average Using zeros as starting parameters.\n",
            "\n",
            "/usr/local/lib/python3.6/dist-packages/statsmodels/base/model.py:512: ConvergenceWarning:\n",
            "\n",
            "Maximum Likelihood optimization failed to converge. Check mle_retvals\n",
            "\n",
            "/usr/local/lib/python3.6/dist-packages/statsmodels/tsa/statespace/sarimax.py:961: UserWarning:\n",
            "\n",
            "Non-invertible starting MA parameters found. Using zeros as starting parameters.\n",
            "\n"
          ],
          "name": "stderr"
        },
        {
          "output_type": "stream",
          "text": [
            "Fit ARIMA: order=(0, 1, 1) seasonal_order=(2, 1, 2, 12); AIC=221.359, BIC=237.945, Fit time=5.584 seconds\n",
            "Fit ARIMA: order=(1, 1, 1) seasonal_order=(1, 1, 1, 12); AIC=219.000, BIC=233.216, Fit time=1.402 seconds\n",
            "Fit ARIMA: order=(0, 1, 0) seasonal_order=(1, 1, 1, 12); AIC=262.708, BIC=272.186, Fit time=0.495 seconds\n"
          ],
          "name": "stdout"
        },
        {
          "output_type": "stream",
          "text": [
            "/usr/local/lib/python3.6/dist-packages/statsmodels/tsa/statespace/sarimax.py:961: UserWarning:\n",
            "\n",
            "Non-invertible starting MA parameters found. Using zeros as starting parameters.\n",
            "\n"
          ],
          "name": "stderr"
        },
        {
          "output_type": "stream",
          "text": [
            "Fit ARIMA: order=(0, 1, 2) seasonal_order=(1, 1, 1, 12); AIC=218.969, BIC=233.186, Fit time=1.453 seconds\n"
          ],
          "name": "stdout"
        },
        {
          "output_type": "stream",
          "text": [
            "/usr/local/lib/python3.6/dist-packages/statsmodels/base/model.py:512: ConvergenceWarning:\n",
            "\n",
            "Maximum Likelihood optimization failed to converge. Check mle_retvals\n",
            "\n"
          ],
          "name": "stderr"
        },
        {
          "output_type": "stream",
          "text": [
            "Fit ARIMA: order=(1, 1, 2) seasonal_order=(1, 1, 1, 12); AIC=215.527, BIC=232.113, Fit time=2.278 seconds\n"
          ],
          "name": "stdout"
        },
        {
          "output_type": "stream",
          "text": [
            "/usr/local/lib/python3.6/dist-packages/statsmodels/base/model.py:512: ConvergenceWarning:\n",
            "\n",
            "Maximum Likelihood optimization failed to converge. Check mle_retvals\n",
            "\n"
          ],
          "name": "stderr"
        },
        {
          "output_type": "stream",
          "text": [
            "Fit ARIMA: order=(1, 1, 2) seasonal_order=(0, 1, 1, 12); AIC=216.291, BIC=230.507, Fit time=1.976 seconds\n"
          ],
          "name": "stdout"
        },
        {
          "output_type": "stream",
          "text": [
            "/usr/local/lib/python3.6/dist-packages/statsmodels/base/model.py:512: ConvergenceWarning:\n",
            "\n",
            "Maximum Likelihood optimization failed to converge. Check mle_retvals\n",
            "\n"
          ],
          "name": "stderr"
        },
        {
          "output_type": "stream",
          "text": [
            "Fit ARIMA: order=(1, 1, 2) seasonal_order=(2, 1, 1, 12); AIC=220.400, BIC=239.356, Fit time=4.974 seconds\n"
          ],
          "name": "stdout"
        },
        {
          "output_type": "stream",
          "text": [
            "/usr/local/lib/python3.6/dist-packages/statsmodels/base/model.py:512: ConvergenceWarning:\n",
            "\n",
            "Maximum Likelihood optimization failed to converge. Check mle_retvals\n",
            "\n",
            "/usr/local/lib/python3.6/dist-packages/statsmodels/tsa/statespace/sarimax.py:993: UserWarning:\n",
            "\n",
            "Non-invertible starting seasonal moving average Using zeros as starting parameters.\n",
            "\n"
          ],
          "name": "stderr"
        },
        {
          "output_type": "stream",
          "text": [
            "Fit ARIMA: order=(1, 1, 2) seasonal_order=(1, 1, 0, 12); AIC=216.911, BIC=231.128, Fit time=1.804 seconds\n"
          ],
          "name": "stdout"
        },
        {
          "output_type": "stream",
          "text": [
            "/usr/local/lib/python3.6/dist-packages/statsmodels/base/model.py:512: ConvergenceWarning:\n",
            "\n",
            "Maximum Likelihood optimization failed to converge. Check mle_retvals\n",
            "\n"
          ],
          "name": "stderr"
        },
        {
          "output_type": "stream",
          "text": [
            "Fit ARIMA: order=(1, 1, 2) seasonal_order=(1, 1, 2, 12); AIC=218.899, BIC=237.855, Fit time=5.132 seconds\n",
            "Fit ARIMA: order=(1, 1, 2) seasonal_order=(0, 1, 0, 12); AIC=243.292, BIC=255.140, Fit time=0.697 seconds\n"
          ],
          "name": "stdout"
        },
        {
          "output_type": "stream",
          "text": [
            "/usr/local/lib/python3.6/dist-packages/statsmodels/tsa/statespace/sarimax.py:981: UserWarning:\n",
            "\n",
            "Non-stationary starting seasonal autoregressive Using zeros as starting parameters.\n",
            "\n",
            "/usr/local/lib/python3.6/dist-packages/statsmodels/tsa/statespace/sarimax.py:993: UserWarning:\n",
            "\n",
            "Non-invertible starting seasonal moving average Using zeros as starting parameters.\n",
            "\n",
            "/usr/local/lib/python3.6/dist-packages/statsmodels/base/model.py:512: ConvergenceWarning:\n",
            "\n",
            "Maximum Likelihood optimization failed to converge. Check mle_retvals\n",
            "\n"
          ],
          "name": "stderr"
        },
        {
          "output_type": "stream",
          "text": [
            "Fit ARIMA: order=(1, 1, 2) seasonal_order=(2, 1, 2, 12); AIC=222.709, BIC=244.034, Fit time=5.577 seconds\n"
          ],
          "name": "stdout"
        },
        {
          "output_type": "stream",
          "text": [
            "/usr/local/lib/python3.6/dist-packages/statsmodels/base/model.py:512: ConvergenceWarning:\n",
            "\n",
            "Maximum Likelihood optimization failed to converge. Check mle_retvals\n",
            "\n",
            "/usr/local/lib/python3.6/dist-packages/statsmodels/tsa/statespace/sarimax.py:961: UserWarning:\n",
            "\n",
            "Non-invertible starting MA parameters found. Using zeros as starting parameters.\n",
            "\n"
          ],
          "name": "stderr"
        },
        {
          "output_type": "stream",
          "text": [
            "Fit ARIMA: order=(2, 1, 2) seasonal_order=(1, 1, 1, 12); AIC=216.883, BIC=235.838, Fit time=2.651 seconds\n",
            "Fit ARIMA: order=(1, 1, 3) seasonal_order=(1, 1, 1, 12); AIC=216.734, BIC=235.690, Fit time=1.874 seconds\n"
          ],
          "name": "stdout"
        },
        {
          "output_type": "stream",
          "text": [
            "/usr/local/lib/python3.6/dist-packages/statsmodels/tsa/statespace/sarimax.py:961: UserWarning:\n",
            "\n",
            "Non-invertible starting MA parameters found. Using zeros as starting parameters.\n",
            "\n"
          ],
          "name": "stderr"
        },
        {
          "output_type": "stream",
          "text": [
            "Fit ARIMA: order=(2, 1, 3) seasonal_order=(1, 1, 1, 12); AIC=220.061, BIC=241.386, Fit time=3.289 seconds\n",
            "Total fit time: 49.685 seconds\n"
          ],
          "name": "stdout"
        },
        {
          "output_type": "stream",
          "text": [
            "/usr/local/lib/python3.6/dist-packages/statsmodels/base/model.py:512: ConvergenceWarning:\n",
            "\n",
            "Maximum Likelihood optimization failed to converge. Check mle_retvals\n",
            "\n"
          ],
          "name": "stderr"
        }
      ]
    },
    {
      "cell_type": "code",
      "metadata": {
        "id": "iOFXrmHw1kqe",
        "colab_type": "code",
        "colab": {
          "base_uri": "https://localhost:8080/",
          "height": 605
        },
        "outputId": "9a21e87d-434a-4b7e-9072-1b59246f3ed4"
      },
      "source": [
        "baby_1131 = pd.read_csv(\"for_mcm/baby/1131.csv\")\n",
        "baby_1131.index = pd.to_datetime(baby_1131[\"time\"])\n",
        "model = auto_arima(baby_1131['cnt'], start_p=1, start_q=1, max_p=3, max_q=3, m=12, start_P=0, seasonal=True,\n",
        "                            d=1, D=1, trace=True, error_action='ignore', stepwise=True)\n",
        "forecast_1131 = model.predict(n_periods=24)\n",
        "forecast_1131 = pd.DataFrame(forecast_1131,columns=['Prediction'])\n",
        "forecast_1131 [forecast_1131[\"Prediction\"]<0] = 0\n",
        "forecast_1131.index = pd.date_range('2015-08', '2017-08', freq='M')"
      ],
      "execution_count": 104,
      "outputs": [
        {
          "output_type": "stream",
          "text": [
            "Fit ARIMA: order=(1, 1, 1) seasonal_order=(0, 1, 1, 12); AIC=458.960, BIC=470.807, Fit time=0.451 seconds\n",
            "Fit ARIMA: order=(0, 1, 0) seasonal_order=(0, 1, 0, 12); AIC=502.507, BIC=507.246, Fit time=0.019 seconds\n",
            "Fit ARIMA: order=(1, 1, 0) seasonal_order=(1, 1, 0, 12); AIC=459.210, BIC=468.687, Fit time=0.312 seconds\n",
            "Fit ARIMA: order=(0, 1, 1) seasonal_order=(0, 1, 1, 12); AIC=457.080, BIC=466.557, Fit time=0.376 seconds\n",
            "Fit ARIMA: order=(0, 1, 1) seasonal_order=(1, 1, 1, 12); AIC=455.720, BIC=467.567, Fit time=0.443 seconds\n",
            "Fit ARIMA: order=(0, 1, 1) seasonal_order=(1, 1, 0, 12); AIC=457.706, BIC=467.183, Fit time=0.235 seconds\n"
          ],
          "name": "stdout"
        },
        {
          "output_type": "stream",
          "text": [
            "/usr/local/lib/python3.6/dist-packages/statsmodels/tsa/statespace/sarimax.py:981: UserWarning:\n",
            "\n",
            "Non-stationary starting seasonal autoregressive Using zeros as starting parameters.\n",
            "\n",
            "/usr/local/lib/python3.6/dist-packages/statsmodels/tsa/statespace/sarimax.py:993: UserWarning:\n",
            "\n",
            "Non-invertible starting seasonal moving average Using zeros as starting parameters.\n",
            "\n"
          ],
          "name": "stderr"
        },
        {
          "output_type": "stream",
          "text": [
            "Fit ARIMA: order=(0, 1, 1) seasonal_order=(1, 1, 2, 12); AIC=457.317, BIC=471.533, Fit time=1.326 seconds\n",
            "Fit ARIMA: order=(0, 1, 1) seasonal_order=(0, 1, 0, 12); AIC=480.451, BIC=487.559, Fit time=0.085 seconds\n"
          ],
          "name": "stdout"
        },
        {
          "output_type": "stream",
          "text": [
            "/usr/local/lib/python3.6/dist-packages/statsmodels/tsa/statespace/sarimax.py:981: UserWarning:\n",
            "\n",
            "Non-stationary starting seasonal autoregressive Using zeros as starting parameters.\n",
            "\n",
            "/usr/local/lib/python3.6/dist-packages/statsmodels/tsa/statespace/sarimax.py:993: UserWarning:\n",
            "\n",
            "Non-invertible starting seasonal moving average Using zeros as starting parameters.\n",
            "\n"
          ],
          "name": "stderr"
        },
        {
          "output_type": "stream",
          "text": [
            "Fit ARIMA: order=(0, 1, 1) seasonal_order=(2, 1, 2, 12); AIC=458.793, BIC=475.379, Fit time=2.245 seconds\n",
            "Fit ARIMA: order=(1, 1, 1) seasonal_order=(1, 1, 1, 12); AIC=457.607, BIC=471.824, Fit time=0.716 seconds\n",
            "Fit ARIMA: order=(0, 1, 0) seasonal_order=(1, 1, 1, 12); AIC=477.021, BIC=486.499, Fit time=0.329 seconds\n",
            "Fit ARIMA: order=(0, 1, 2) seasonal_order=(1, 1, 1, 12); AIC=457.641, BIC=471.858, Fit time=0.553 seconds\n"
          ],
          "name": "stdout"
        },
        {
          "output_type": "stream",
          "text": [
            "/usr/local/lib/python3.6/dist-packages/statsmodels/tsa/statespace/sarimax.py:949: UserWarning:\n",
            "\n",
            "Non-stationary starting autoregressive parameters found. Using zeros as starting parameters.\n",
            "\n"
          ],
          "name": "stderr"
        },
        {
          "output_type": "stream",
          "text": [
            "Fit ARIMA: order=(1, 1, 2) seasonal_order=(1, 1, 1, 12); AIC=458.181, BIC=474.767, Fit time=0.677 seconds\n",
            "Fit ARIMA: order=(0, 1, 1) seasonal_order=(2, 1, 1, 12); AIC=456.815, BIC=471.032, Fit time=0.969 seconds\n",
            "Total fit time: 8.743 seconds\n"
          ],
          "name": "stdout"
        }
      ]
    },
    {
      "cell_type": "code",
      "metadata": {
        "id": "nMhCz-o213rJ",
        "colab_type": "code",
        "colab": {
          "base_uri": "https://localhost:8080/",
          "height": 353
        },
        "outputId": "0575c3fd-7aa4-4b16-e7d3-97f0428012be"
      },
      "source": [
        "baby_1793 = pd.read_csv(\"for_mcm/baby/1793.csv\")\n",
        "baby_1793.index = pd.to_datetime(baby_1793[\"time\"])\n",
        "model = auto_arima(baby_1793['cnt'], start_p=1, start_q=1, max_p=3, max_q=3, m=12, start_P=0, seasonal=True,\n",
        "                            d=1, D=1, trace=True, error_action='ignore', stepwise=True)\n",
        "forecast_1793 = model.predict(n_periods=24)\n",
        "forecast_1793 = pd.DataFrame(forecast_1793,columns=['Prediction'])\n",
        "forecast_1793 [forecast_1793[\"Prediction\"]<0] = 0\n",
        "forecast_1793.index = pd.date_range('2015-08', '2017-08', freq='M')"
      ],
      "execution_count": 105,
      "outputs": [
        {
          "output_type": "stream",
          "text": [
            "Fit ARIMA: order=(1, 1, 1) seasonal_order=(0, 1, 1, 12); AIC=428.441, BIC=440.288, Fit time=1.586 seconds\n",
            "Fit ARIMA: order=(0, 1, 0) seasonal_order=(0, 1, 0, 12); AIC=479.091, BIC=483.830, Fit time=0.019 seconds\n",
            "Fit ARIMA: order=(1, 1, 0) seasonal_order=(1, 1, 0, 12); AIC=437.915, BIC=447.393, Fit time=0.321 seconds\n",
            "Fit ARIMA: order=(0, 1, 1) seasonal_order=(0, 1, 1, 12); AIC=426.474, BIC=435.952, Fit time=1.038 seconds\n",
            "Fit ARIMA: order=(0, 1, 1) seasonal_order=(1, 1, 1, 12); AIC=428.245, BIC=440.092, Fit time=0.684 seconds\n",
            "Fit ARIMA: order=(0, 1, 1) seasonal_order=(0, 1, 0, 12); AIC=452.342, BIC=459.450, Fit time=0.086 seconds\n"
          ],
          "name": "stdout"
        },
        {
          "output_type": "stream",
          "text": [
            "/usr/local/lib/python3.6/dist-packages/statsmodels/tsa/statespace/sarimax.py:993: UserWarning:\n",
            "\n",
            "Non-invertible starting seasonal moving average Using zeros as starting parameters.\n",
            "\n"
          ],
          "name": "stderr"
        },
        {
          "output_type": "stream",
          "text": [
            "Fit ARIMA: order=(0, 1, 1) seasonal_order=(0, 1, 2, 12); AIC=428.277, BIC=440.124, Fit time=1.322 seconds\n"
          ],
          "name": "stdout"
        },
        {
          "output_type": "stream",
          "text": [
            "/usr/local/lib/python3.6/dist-packages/statsmodels/tsa/statespace/sarimax.py:993: UserWarning:\n",
            "\n",
            "Non-invertible starting seasonal moving average Using zeros as starting parameters.\n",
            "\n"
          ],
          "name": "stderr"
        },
        {
          "output_type": "stream",
          "text": [
            "Fit ARIMA: order=(0, 1, 1) seasonal_order=(1, 1, 2, 12); AIC=430.122, BIC=444.339, Fit time=2.179 seconds\n",
            "Fit ARIMA: order=(0, 1, 0) seasonal_order=(0, 1, 1, 12); AIC=452.082, BIC=459.191, Fit time=0.207 seconds\n",
            "Fit ARIMA: order=(0, 1, 2) seasonal_order=(0, 1, 1, 12); AIC=428.444, BIC=440.292, Fit time=1.190 seconds\n",
            "Fit ARIMA: order=(1, 1, 2) seasonal_order=(0, 1, 1, 12); AIC=429.847, BIC=444.064, Fit time=0.833 seconds\n",
            "Total fit time: 9.471 seconds\n"
          ],
          "name": "stdout"
        }
      ]
    },
    {
      "cell_type": "code",
      "metadata": {
        "id": "VBLzFaj_7NyH",
        "colab_type": "code",
        "colab": {
          "base_uri": "https://localhost:8080/",
          "height": 420
        },
        "outputId": "7d376b99-0f95-4b0d-a564-350e1fe02936"
      },
      "source": [
        "baby_2067 = pd.read_csv(\"for_mcm/baby/2067.csv\")\n",
        "baby_2067.index = pd.to_datetime(baby_2067[\"time\"])\n",
        "model = auto_arima(baby_2067['cnt'], start_p=1, start_q=1, max_p=3, max_q=3, m=12, start_P=0, seasonal=True,\n",
        "                            d=1, D=1, trace=True, error_action='ignore', stepwise=True)\n",
        "forecast_2067 = model.predict(n_periods=24)\n",
        "forecast_2067 = pd.DataFrame(forecast_2067,columns=['Prediction'])\n",
        "forecast_2067 [forecast_2067[\"Prediction\"]<0] = 0\n",
        "forecast_2067.index = pd.date_range('2015-08', '2017-08', freq='M')"
      ],
      "execution_count": 106,
      "outputs": [
        {
          "output_type": "stream",
          "text": [
            "Fit ARIMA: order=(1, 1, 1) seasonal_order=(0, 1, 1, 12); AIC=406.514, BIC=418.361, Fit time=0.465 seconds\n",
            "Fit ARIMA: order=(0, 1, 0) seasonal_order=(0, 1, 0, 12); AIC=460.692, BIC=465.431, Fit time=0.020 seconds\n",
            "Fit ARIMA: order=(1, 1, 0) seasonal_order=(1, 1, 0, 12); AIC=416.416, BIC=425.893, Fit time=0.294 seconds\n",
            "Fit ARIMA: order=(0, 1, 1) seasonal_order=(0, 1, 1, 12); AIC=405.493, BIC=414.970, Fit time=0.466 seconds\n",
            "Fit ARIMA: order=(0, 1, 1) seasonal_order=(1, 1, 1, 12); AIC=407.468, BIC=419.315, Fit time=0.623 seconds\n",
            "Fit ARIMA: order=(0, 1, 1) seasonal_order=(0, 1, 0, 12); AIC=427.457, BIC=434.565, Fit time=0.098 seconds\n"
          ],
          "name": "stdout"
        },
        {
          "output_type": "stream",
          "text": [
            "/usr/local/lib/python3.6/dist-packages/statsmodels/tsa/statespace/sarimax.py:993: UserWarning:\n",
            "\n",
            "Non-invertible starting seasonal moving average Using zeros as starting parameters.\n",
            "\n"
          ],
          "name": "stderr"
        },
        {
          "output_type": "stream",
          "text": [
            "Fit ARIMA: order=(0, 1, 1) seasonal_order=(0, 1, 2, 12); AIC=407.462, BIC=419.309, Fit time=1.157 seconds\n"
          ],
          "name": "stdout"
        },
        {
          "output_type": "stream",
          "text": [
            "/usr/local/lib/python3.6/dist-packages/statsmodels/tsa/statespace/sarimax.py:993: UserWarning:\n",
            "\n",
            "Non-invertible starting seasonal moving average Using zeros as starting parameters.\n",
            "\n",
            "/usr/local/lib/python3.6/dist-packages/statsmodels/base/model.py:512: ConvergenceWarning:\n",
            "\n",
            "Maximum Likelihood optimization failed to converge. Check mle_retvals\n",
            "\n"
          ],
          "name": "stderr"
        },
        {
          "output_type": "stream",
          "text": [
            "Fit ARIMA: order=(0, 1, 1) seasonal_order=(1, 1, 2, 12); AIC=409.265, BIC=423.482, Fit time=4.081 seconds\n",
            "Fit ARIMA: order=(0, 1, 0) seasonal_order=(0, 1, 1, 12); AIC=438.202, BIC=445.311, Fit time=0.452 seconds\n",
            "Fit ARIMA: order=(0, 1, 2) seasonal_order=(0, 1, 1, 12); AIC=406.569, BIC=418.417, Fit time=0.491 seconds\n",
            "Fit ARIMA: order=(1, 1, 2) seasonal_order=(0, 1, 1, 12); AIC=408.511, BIC=422.728, Fit time=0.779 seconds\n",
            "Total fit time: 8.932 seconds\n"
          ],
          "name": "stdout"
        }
      ]
    },
    {
      "cell_type": "code",
      "metadata": {
        "id": "Aa0a3xHi7bJ_",
        "colab_type": "code",
        "colab": {
          "base_uri": "https://localhost:8080/",
          "height": 1000
        },
        "outputId": "c7c69ae3-6f41-45f9-b989-5c203a55b8ff"
      },
      "source": [
        "baby_2633 = pd.read_csv(\"for_mcm/baby/2633.csv\")\n",
        "baby_2633.index = pd.to_datetime(baby_2633[\"time\"])\n",
        "model = auto_arima(baby_2633['cnt'], start_p=1, start_q=1, max_p=3, max_q=3, m=12, start_P=0, seasonal=True,\n",
        "                            d=1, D=1, trace=True, error_action='ignore', stepwise=True)\n",
        "forecast_2633 = model.predict(n_periods=24)\n",
        "forecast_2633 = pd.DataFrame(forecast_2633,columns=['Prediction'])\n",
        "forecast_2633 [forecast_2633[\"Prediction\"]<0] = 0\n",
        "forecast_2633.index = pd.date_range('2015-08', '2017-08', freq='M')"
      ],
      "execution_count": 107,
      "outputs": [
        {
          "output_type": "stream",
          "text": [
            "Fit ARIMA: order=(1, 1, 1) seasonal_order=(0, 1, 1, 12); AIC=403.478, BIC=415.325, Fit time=1.618 seconds\n",
            "Fit ARIMA: order=(0, 1, 0) seasonal_order=(0, 1, 0, 12); AIC=434.826, BIC=439.565, Fit time=0.020 seconds\n",
            "Fit ARIMA: order=(1, 1, 0) seasonal_order=(1, 1, 0, 12); AIC=416.064, BIC=425.541, Fit time=0.291 seconds\n",
            "Fit ARIMA: order=(0, 1, 1) seasonal_order=(0, 1, 1, 12); AIC=405.989, BIC=415.466, Fit time=1.120 seconds\n"
          ],
          "name": "stdout"
        },
        {
          "output_type": "stream",
          "text": [
            "/usr/local/lib/python3.6/dist-packages/statsmodels/base/model.py:512: ConvergenceWarning:\n",
            "\n",
            "Maximum Likelihood optimization failed to converge. Check mle_retvals\n",
            "\n"
          ],
          "name": "stderr"
        },
        {
          "output_type": "stream",
          "text": [
            "Fit ARIMA: order=(1, 1, 1) seasonal_order=(1, 1, 1, 12); AIC=403.886, BIC=418.103, Fit time=2.284 seconds\n",
            "Fit ARIMA: order=(1, 1, 1) seasonal_order=(0, 1, 0, 12); AIC=405.290, BIC=414.768, Fit time=0.599 seconds\n"
          ],
          "name": "stdout"
        },
        {
          "output_type": "stream",
          "text": [
            "/usr/local/lib/python3.6/dist-packages/statsmodels/tsa/statespace/sarimax.py:993: UserWarning:\n",
            "\n",
            "Non-invertible starting seasonal moving average Using zeros as starting parameters.\n",
            "\n"
          ],
          "name": "stderr"
        },
        {
          "output_type": "stream",
          "text": [
            "Fit ARIMA: order=(1, 1, 1) seasonal_order=(0, 1, 2, 12); AIC=412.666, BIC=426.883, Fit time=1.267 seconds\n"
          ],
          "name": "stdout"
        },
        {
          "output_type": "stream",
          "text": [
            "/usr/local/lib/python3.6/dist-packages/statsmodels/tsa/statespace/sarimax.py:981: UserWarning:\n",
            "\n",
            "Non-stationary starting seasonal autoregressive Using zeros as starting parameters.\n",
            "\n",
            "/usr/local/lib/python3.6/dist-packages/statsmodels/tsa/statespace/sarimax.py:993: UserWarning:\n",
            "\n",
            "Non-invertible starting seasonal moving average Using zeros as starting parameters.\n",
            "\n"
          ],
          "name": "stderr"
        },
        {
          "output_type": "stream",
          "text": [
            "Fit ARIMA: order=(1, 1, 1) seasonal_order=(1, 1, 2, 12); AIC=414.467, BIC=431.053, Fit time=1.963 seconds\n"
          ],
          "name": "stdout"
        },
        {
          "output_type": "stream",
          "text": [
            "/usr/local/lib/python3.6/dist-packages/statsmodels/tsa/statespace/sarimax.py:949: UserWarning:\n",
            "\n",
            "Non-stationary starting autoregressive parameters found. Using zeros as starting parameters.\n",
            "\n",
            "/usr/local/lib/python3.6/dist-packages/statsmodels/tsa/statespace/sarimax.py:961: UserWarning:\n",
            "\n",
            "Non-invertible starting MA parameters found. Using zeros as starting parameters.\n",
            "\n",
            "/usr/local/lib/python3.6/dist-packages/statsmodels/base/model.py:512: ConvergenceWarning:\n",
            "\n",
            "Maximum Likelihood optimization failed to converge. Check mle_retvals\n",
            "\n"
          ],
          "name": "stderr"
        },
        {
          "output_type": "stream",
          "text": [
            "Fit ARIMA: order=(2, 1, 1) seasonal_order=(0, 1, 1, 12); AIC=403.211, BIC=417.428, Fit time=2.081 seconds\n",
            "Fit ARIMA: order=(2, 1, 0) seasonal_order=(0, 1, 1, 12); AIC=415.355, BIC=427.202, Fit time=0.359 seconds\n"
          ],
          "name": "stdout"
        },
        {
          "output_type": "stream",
          "text": [
            "/usr/local/lib/python3.6/dist-packages/statsmodels/tsa/statespace/sarimax.py:961: UserWarning:\n",
            "\n",
            "Non-invertible starting MA parameters found. Using zeros as starting parameters.\n",
            "\n",
            "/usr/local/lib/python3.6/dist-packages/statsmodels/base/model.py:512: ConvergenceWarning:\n",
            "\n",
            "Maximum Likelihood optimization failed to converge. Check mle_retvals\n",
            "\n"
          ],
          "name": "stderr"
        },
        {
          "output_type": "stream",
          "text": [
            "Fit ARIMA: order=(2, 1, 2) seasonal_order=(0, 1, 1, 12); AIC=403.042, BIC=419.628, Fit time=1.962 seconds\n"
          ],
          "name": "stdout"
        },
        {
          "output_type": "stream",
          "text": [
            "/usr/local/lib/python3.6/dist-packages/statsmodels/base/model.py:512: ConvergenceWarning:\n",
            "\n",
            "Maximum Likelihood optimization failed to converge. Check mle_retvals\n",
            "\n"
          ],
          "name": "stderr"
        },
        {
          "output_type": "stream",
          "text": [
            "Fit ARIMA: order=(3, 1, 3) seasonal_order=(0, 1, 1, 12); AIC=401.848, BIC=423.173, Fit time=3.036 seconds\n"
          ],
          "name": "stdout"
        },
        {
          "output_type": "stream",
          "text": [
            "/usr/local/lib/python3.6/dist-packages/statsmodels/base/model.py:512: ConvergenceWarning:\n",
            "\n",
            "Maximum Likelihood optimization failed to converge. Check mle_retvals\n",
            "\n"
          ],
          "name": "stderr"
        },
        {
          "output_type": "stream",
          "text": [
            "Fit ARIMA: order=(3, 1, 3) seasonal_order=(1, 1, 1, 12); AIC=401.896, BIC=425.590, Fit time=3.580 seconds\n",
            "Fit ARIMA: order=(3, 1, 3) seasonal_order=(0, 1, 0, 12); AIC=406.222, BIC=425.178, Fit time=0.693 seconds\n"
          ],
          "name": "stdout"
        },
        {
          "output_type": "stream",
          "text": [
            "/usr/local/lib/python3.6/dist-packages/statsmodels/tsa/statespace/sarimax.py:993: UserWarning:\n",
            "\n",
            "Non-invertible starting seasonal moving average Using zeros as starting parameters.\n",
            "\n"
          ],
          "name": "stderr"
        },
        {
          "output_type": "stream",
          "text": [
            "Fit ARIMA: order=(3, 1, 3) seasonal_order=(0, 1, 2, 12); AIC=401.776, BIC=425.471, Fit time=5.005 seconds\n"
          ],
          "name": "stdout"
        },
        {
          "output_type": "stream",
          "text": [
            "/usr/local/lib/python3.6/dist-packages/statsmodels/tsa/statespace/sarimax.py:993: UserWarning:\n",
            "\n",
            "Non-invertible starting seasonal moving average Using zeros as starting parameters.\n",
            "\n",
            "/usr/local/lib/python3.6/dist-packages/statsmodels/base/model.py:512: ConvergenceWarning:\n",
            "\n",
            "Maximum Likelihood optimization failed to converge. Check mle_retvals\n",
            "\n"
          ],
          "name": "stderr"
        },
        {
          "output_type": "stream",
          "text": [
            "Fit ARIMA: order=(2, 1, 3) seasonal_order=(0, 1, 2, 12); AIC=401.135, BIC=422.460, Fit time=5.690 seconds\n"
          ],
          "name": "stdout"
        },
        {
          "output_type": "stream",
          "text": [
            "/usr/local/lib/python3.6/dist-packages/statsmodels/tsa/statespace/sarimax.py:961: UserWarning:\n",
            "\n",
            "Non-invertible starting MA parameters found. Using zeros as starting parameters.\n",
            "\n",
            "/usr/local/lib/python3.6/dist-packages/statsmodels/tsa/statespace/sarimax.py:993: UserWarning:\n",
            "\n",
            "Non-invertible starting seasonal moving average Using zeros as starting parameters.\n",
            "\n"
          ],
          "name": "stderr"
        },
        {
          "output_type": "stream",
          "text": [
            "Fit ARIMA: order=(2, 1, 2) seasonal_order=(0, 1, 2, 12); AIC=401.475, BIC=420.431, Fit time=3.995 seconds\n"
          ],
          "name": "stdout"
        },
        {
          "output_type": "stream",
          "text": [
            "/usr/local/lib/python3.6/dist-packages/statsmodels/tsa/statespace/sarimax.py:993: UserWarning:\n",
            "\n",
            "Non-invertible starting seasonal moving average Using zeros as starting parameters.\n",
            "\n"
          ],
          "name": "stderr"
        },
        {
          "output_type": "stream",
          "text": [
            "Fit ARIMA: order=(1, 1, 2) seasonal_order=(0, 1, 2, 12); AIC=408.194, BIC=424.780, Fit time=3.414 seconds\n"
          ],
          "name": "stdout"
        },
        {
          "output_type": "stream",
          "text": [
            "/usr/local/lib/python3.6/dist-packages/statsmodels/tsa/statespace/sarimax.py:981: UserWarning:\n",
            "\n",
            "Non-stationary starting seasonal autoregressive Using zeros as starting parameters.\n",
            "\n",
            "/usr/local/lib/python3.6/dist-packages/statsmodels/tsa/statespace/sarimax.py:993: UserWarning:\n",
            "\n",
            "Non-invertible starting seasonal moving average Using zeros as starting parameters.\n",
            "\n",
            "/usr/local/lib/python3.6/dist-packages/statsmodels/base/model.py:512: ConvergenceWarning:\n",
            "\n",
            "Maximum Likelihood optimization failed to converge. Check mle_retvals\n",
            "\n"
          ],
          "name": "stderr"
        },
        {
          "output_type": "stream",
          "text": [
            "Fit ARIMA: order=(2, 1, 3) seasonal_order=(1, 1, 2, 12); AIC=403.137, BIC=426.831, Fit time=6.591 seconds\n"
          ],
          "name": "stdout"
        },
        {
          "output_type": "stream",
          "text": [
            "/usr/local/lib/python3.6/dist-packages/statsmodels/base/model.py:512: ConvergenceWarning:\n",
            "\n",
            "Maximum Likelihood optimization failed to converge. Check mle_retvals\n",
            "\n",
            "/usr/local/lib/python3.6/dist-packages/statsmodels/tsa/statespace/sarimax.py:993: UserWarning:\n",
            "\n",
            "Non-invertible starting seasonal moving average Using zeros as starting parameters.\n",
            "\n"
          ],
          "name": "stderr"
        },
        {
          "output_type": "stream",
          "text": [
            "Fit ARIMA: order=(2, 1, 3) seasonal_order=(0, 1, 1, 12); AIC=402.487, BIC=421.442, Fit time=2.728 seconds\n"
          ],
          "name": "stdout"
        },
        {
          "output_type": "stream",
          "text": [
            "/usr/local/lib/python3.6/dist-packages/statsmodels/base/model.py:512: ConvergenceWarning:\n",
            "\n",
            "Maximum Likelihood optimization failed to converge. Check mle_retvals\n",
            "\n"
          ],
          "name": "stderr"
        },
        {
          "output_type": "stream",
          "text": [
            "Fit ARIMA: order=(1, 1, 3) seasonal_order=(0, 1, 2, 12); AIC=399.135, BIC=418.090, Fit time=4.964 seconds\n"
          ],
          "name": "stdout"
        },
        {
          "output_type": "stream",
          "text": [
            "/usr/local/lib/python3.6/dist-packages/statsmodels/tsa/statespace/sarimax.py:993: UserWarning:\n",
            "\n",
            "Non-invertible starting seasonal moving average Using zeros as starting parameters.\n",
            "\n"
          ],
          "name": "stderr"
        },
        {
          "output_type": "stream",
          "text": [
            "Fit ARIMA: order=(0, 1, 2) seasonal_order=(0, 1, 2, 12); AIC=404.926, BIC=419.142, Fit time=3.145 seconds\n"
          ],
          "name": "stdout"
        },
        {
          "output_type": "stream",
          "text": [
            "/usr/local/lib/python3.6/dist-packages/statsmodels/tsa/statespace/sarimax.py:981: UserWarning:\n",
            "\n",
            "Non-stationary starting seasonal autoregressive Using zeros as starting parameters.\n",
            "\n",
            "/usr/local/lib/python3.6/dist-packages/statsmodels/tsa/statespace/sarimax.py:993: UserWarning:\n",
            "\n",
            "Non-invertible starting seasonal moving average Using zeros as starting parameters.\n",
            "\n",
            "/usr/local/lib/python3.6/dist-packages/statsmodels/base/model.py:512: ConvergenceWarning:\n",
            "\n",
            "Maximum Likelihood optimization failed to converge. Check mle_retvals\n",
            "\n"
          ],
          "name": "stderr"
        },
        {
          "output_type": "stream",
          "text": [
            "Fit ARIMA: order=(1, 1, 3) seasonal_order=(1, 1, 2, 12); AIC=401.138, BIC=422.463, Fit time=5.732 seconds\n",
            "Fit ARIMA: order=(1, 1, 3) seasonal_order=(0, 1, 1, 12); AIC=400.525, BIC=417.111, Fit time=2.178 seconds\n"
          ],
          "name": "stdout"
        },
        {
          "output_type": "stream",
          "text": [
            "/usr/local/lib/python3.6/dist-packages/statsmodels/tsa/statespace/sarimax.py:993: UserWarning:\n",
            "\n",
            "Non-invertible starting seasonal moving average Using zeros as starting parameters.\n",
            "\n",
            "/usr/local/lib/python3.6/dist-packages/statsmodels/base/model.py:512: ConvergenceWarning:\n",
            "\n",
            "Maximum Likelihood optimization failed to converge. Check mle_retvals\n",
            "\n"
          ],
          "name": "stderr"
        },
        {
          "output_type": "stream",
          "text": [
            "Fit ARIMA: order=(0, 1, 3) seasonal_order=(0, 1, 2, 12); AIC=398.665, BIC=415.251, Fit time=4.674 seconds\n"
          ],
          "name": "stdout"
        },
        {
          "output_type": "stream",
          "text": [
            "/usr/local/lib/python3.6/dist-packages/statsmodels/tsa/statespace/sarimax.py:981: UserWarning:\n",
            "\n",
            "Non-stationary starting seasonal autoregressive Using zeros as starting parameters.\n",
            "\n",
            "/usr/local/lib/python3.6/dist-packages/statsmodels/tsa/statespace/sarimax.py:993: UserWarning:\n",
            "\n",
            "Non-invertible starting seasonal moving average Using zeros as starting parameters.\n",
            "\n",
            "/usr/local/lib/python3.6/dist-packages/statsmodels/base/model.py:512: ConvergenceWarning:\n",
            "\n",
            "Maximum Likelihood optimization failed to converge. Check mle_retvals\n",
            "\n"
          ],
          "name": "stderr"
        },
        {
          "output_type": "stream",
          "text": [
            "Fit ARIMA: order=(0, 1, 3) seasonal_order=(1, 1, 2, 12); AIC=400.661, BIC=419.617, Fit time=5.311 seconds\n",
            "Fit ARIMA: order=(0, 1, 3) seasonal_order=(0, 1, 1, 12); AIC=399.501, BIC=413.717, Fit time=2.285 seconds\n",
            "Total fit time: 76.603 seconds\n"
          ],
          "name": "stdout"
        }
      ]
    },
    {
      "cell_type": "code",
      "metadata": {
        "id": "fFD5Cc4-7pJT",
        "colab_type": "code",
        "colab": {
          "base_uri": "https://localhost:8080/",
          "height": 420
        },
        "outputId": "204c1377-1b6e-40ce-b17e-038e756e68e1"
      },
      "source": [
        "baby_3725 = pd.read_csv(\"for_mcm/baby/3725.csv\")\n",
        "baby_3725.index = pd.to_datetime(baby_3725[\"time\"])\n",
        "model = auto_arima(baby_3725['cnt'], start_p=1, start_q=1, max_p=3, max_q=3, m=12, start_P=0, seasonal=True,\n",
        "                            d=1, D=1, trace=True, error_action='ignore', stepwise=True)\n",
        "forecast_3725 = model.predict(n_periods=24)\n",
        "forecast_3725 = pd.DataFrame(forecast_3725,columns=['Prediction'])\n",
        "forecast_3725 [forecast_3725[\"Prediction\"]<0] = 0\n",
        "forecast_3725.index = pd.date_range('2015-08', '2017-08', freq='M')"
      ],
      "execution_count": 108,
      "outputs": [
        {
          "output_type": "stream",
          "text": [
            "Fit ARIMA: order=(1, 1, 1) seasonal_order=(0, 1, 1, 12); AIC=358.379, BIC=370.226, Fit time=0.552 seconds\n",
            "Fit ARIMA: order=(0, 1, 0) seasonal_order=(0, 1, 0, 12); AIC=398.098, BIC=402.837, Fit time=0.020 seconds\n",
            "Fit ARIMA: order=(1, 1, 0) seasonal_order=(1, 1, 0, 12); AIC=367.034, BIC=376.512, Fit time=0.238 seconds\n",
            "Fit ARIMA: order=(0, 1, 1) seasonal_order=(0, 1, 1, 12); AIC=356.959, BIC=366.437, Fit time=0.437 seconds\n",
            "Fit ARIMA: order=(0, 1, 1) seasonal_order=(1, 1, 1, 12); AIC=358.558, BIC=370.405, Fit time=0.588 seconds\n",
            "Fit ARIMA: order=(0, 1, 1) seasonal_order=(0, 1, 0, 12); AIC=374.617, BIC=381.725, Fit time=0.081 seconds\n"
          ],
          "name": "stdout"
        },
        {
          "output_type": "stream",
          "text": [
            "/usr/local/lib/python3.6/dist-packages/statsmodels/tsa/statespace/sarimax.py:993: UserWarning:\n",
            "\n",
            "Non-invertible starting seasonal moving average Using zeros as starting parameters.\n",
            "\n"
          ],
          "name": "stderr"
        },
        {
          "output_type": "stream",
          "text": [
            "Fit ARIMA: order=(0, 1, 1) seasonal_order=(0, 1, 2, 12); AIC=358.584, BIC=370.431, Fit time=1.094 seconds\n"
          ],
          "name": "stdout"
        },
        {
          "output_type": "stream",
          "text": [
            "/usr/local/lib/python3.6/dist-packages/statsmodels/tsa/statespace/sarimax.py:981: UserWarning:\n",
            "\n",
            "Non-stationary starting seasonal autoregressive Using zeros as starting parameters.\n",
            "\n",
            "/usr/local/lib/python3.6/dist-packages/statsmodels/tsa/statespace/sarimax.py:993: UserWarning:\n",
            "\n",
            "Non-invertible starting seasonal moving average Using zeros as starting parameters.\n",
            "\n"
          ],
          "name": "stderr"
        },
        {
          "output_type": "stream",
          "text": [
            "Fit ARIMA: order=(0, 1, 1) seasonal_order=(1, 1, 2, 12); AIC=359.632, BIC=373.849, Fit time=2.916 seconds\n",
            "Fit ARIMA: order=(0, 1, 0) seasonal_order=(0, 1, 1, 12); AIC=388.637, BIC=395.746, Fit time=0.196 seconds\n",
            "Fit ARIMA: order=(0, 1, 2) seasonal_order=(0, 1, 1, 12); AIC=358.524, BIC=370.371, Fit time=0.581 seconds\n",
            "Fit ARIMA: order=(1, 1, 2) seasonal_order=(0, 1, 1, 12); AIC=360.342, BIC=374.559, Fit time=0.777 seconds\n",
            "Total fit time: 7.489 seconds\n"
          ],
          "name": "stdout"
        }
      ]
    },
    {
      "cell_type": "code",
      "metadata": {
        "id": "j0HfnGn97zqH",
        "colab_type": "code",
        "colab": {
          "base_uri": "https://localhost:8080/",
          "height": 1000
        },
        "outputId": "8446c641-ca5c-42f3-c1f8-2395572f35e9"
      },
      "source": [
        "plt.figure(figsize=(24,24))\n",
        "plt.subplot(5,3,7)\n",
        "plt.plot(hair_11.index, hair_11['cnt'], lw=2)\n",
        "plt.bar(hair_11.index, hair_11['ave_score'], edgecolor='y')\n",
        "plt.plot(forecast_11.index, forecast_11['Prediction'], lw=2, linestyle='-')\n",
        "plt.xlabel('Year')\n",
        "plt.ylabel('Sales predict & Star_rating')\n",
        "plt.title('hair_dryer NO.3')\n",
        "\n",
        "plt.subplot(5,3,10)\n",
        "plt.plot(hair_88.index, hair_88['cnt'], lw=2)\n",
        "plt.bar(hair_88.index, hair_88['ave_score'], edgecolor='y')\n",
        "plt.plot(forecast_88.index, forecast_88['Prediction'], lw=2, linestyle='-')\n",
        "plt.xlabel('Year')\n",
        "plt.ylabel('Sales predict & Star_rating')\n",
        "plt.title('hair_dryer NO.4')\n",
        "\n",
        "plt.subplot(5,3,13)\n",
        "plt.plot(hair_244.index, hair_244['cnt'], lw=2)\n",
        "plt.bar(hair_244.index, hair_244['ave_score'], edgecolor='y')\n",
        "plt.plot(forecast_244.index, forecast_244['Prediction'], lw=2, linestyle='-')\n",
        "plt.xlabel('Year')\n",
        "plt.ylabel('Sales predict & Star_rating')\n",
        "plt.title('hair_dryer NO.5')\n",
        "\n",
        "plt.subplot(5,3,1)\n",
        "plt.plot(hair_258.index, hair_258['cnt'], lw=2)\n",
        "plt.bar(hair_258.index, hair_258['ave_score'], edgecolor='y')\n",
        "plt.plot(forecast_258.index, forecast_258['Prediction'], lw=2, linestyle='-')\n",
        "plt.xlabel('Year')\n",
        "plt.ylabel('Sales predict & Star_rating')\n",
        "plt.title('hair_dryer NO.1')\n",
        "\n",
        "plt.subplot(5,3,4)\n",
        "plt.plot(hair_269.index, hair_269['cnt'], lw=2)\n",
        "plt.bar(hair_269.index, hair_269['ave_score'], edgecolor='y')\n",
        "plt.plot(forecast_269.index, forecast_269['Prediction'], lw=2, linestyle='-')\n",
        "plt.xlabel('Year')\n",
        "plt.ylabel('Sales predict & Star_rating')\n",
        "plt.title('hair_dryer NO.2')\n",
        "\n",
        "plt.subplot(5,3,14)\n",
        "plt.plot(micro_0.index, micro_0['cnt'], lw=2)\n",
        "plt.bar(micro_0.index, micro_0['ave_score'], edgecolor='y')\n",
        "plt.plot(forecast_0.index, forecast_0['Prediction'], lw=2, linestyle='-')\n",
        "plt.xlabel('Year')\n",
        "plt.ylabel('Sales predict & Star_rating')\n",
        "plt.title('microwave NO.5')\n",
        "\n",
        "plt.subplot(5,3,2)\n",
        "plt.plot(micro_13.index, micro_13['cnt'], lw=2)\n",
        "plt.bar(micro_13.index, micro_13['ave_score'], edgecolor='y')\n",
        "plt.plot(forecast_13.index, forecast_13['Prediction'], lw=2, linestyle='-')\n",
        "plt.xlabel('Year')\n",
        "plt.ylabel('Sales predict & Star_rating')\n",
        "plt.title('microwave NO.1')\n",
        "\n",
        "plt.subplot(5,3,5)\n",
        "plt.plot(micro_19.index, micro_19['cnt'], lw=2)\n",
        "plt.bar(micro_19.index, micro_19['ave_score'], edgecolor='y')\n",
        "plt.plot(forecast_19.index, forecast_19['Prediction'], lw=2, linestyle='-')\n",
        "plt.xlabel('Year')\n",
        "plt.ylabel('Sales predict & Star_rating')\n",
        "plt.title('microwave NO.2')\n",
        "\n",
        "plt.subplot(5,3,8)\n",
        "plt.plot(micro_35.index, micro_35['cnt'], lw=2)\n",
        "plt.bar(micro_35.index, micro_35['ave_score'], edgecolor='y')\n",
        "plt.plot(forecast_35.index, forecast_35['Prediction'], lw=2, linestyle='-')\n",
        "plt.xlabel('Year')\n",
        "plt.ylabel('Sales predict & Star_rating')\n",
        "plt.title('microwave NO.3')\n",
        "\n",
        "plt.subplot(5,3,11)\n",
        "plt.plot(micro_40.index, micro_40['cnt'], lw=2)\n",
        "plt.bar(micro_40.index, micro_40['ave_score'], edgecolor='y')\n",
        "plt.plot(forecast_40.index, forecast_40['Prediction'], lw=2, linestyle='-')\n",
        "plt.xlabel('Year')\n",
        "plt.ylabel('Sales predict & Star_rating')\n",
        "plt.title('microwave NO.4')\n",
        "\n",
        "plt.subplot(5,3,3)\n",
        "plt.plot(baby_1131.index, baby_1131['cnt'], lw=2)\n",
        "plt.bar(baby_1131.index, baby_1131['ave_score'], edgecolor='y')\n",
        "plt.plot(forecast_1131.index, forecast_1131['Prediction'], lw=2, linestyle='-')\n",
        "plt.xlabel('Year')\n",
        "plt.ylabel('Sales predict & Star_rating')\n",
        "plt.title('baby_pacifier NO.1')\n",
        "\n",
        "plt.subplot(5,3,6)\n",
        "plt.plot(baby_1793.index, baby_1793['cnt'], lw=2)\n",
        "plt.bar(baby_1793.index, baby_1793['ave_score'], edgecolor='y')\n",
        "plt.plot(forecast_1793.index, forecast_1793['Prediction'], lw=2, linestyle='-')\n",
        "plt.xlabel('Year')\n",
        "plt.ylabel('Sales predict & Star_rating')\n",
        "plt.title('baby_pacifier NO.2')\n",
        "\n",
        "plt.subplot(5,3,12)\n",
        "plt.plot(baby_2067.index, baby_2067['cnt'], lw=2)\n",
        "plt.bar(baby_2067.index, baby_2067['ave_score'], edgecolor='y')\n",
        "plt.plot(forecast_2067.index, forecast_2067['Prediction'], lw=2, linestyle='-')\n",
        "plt.xlabel('Year')\n",
        "plt.ylabel('Sales predict & Star_rating')\n",
        "plt.title('baby_pacifier NO.4')\n",
        "\n",
        "plt.subplot(5,3,9)\n",
        "plt.plot(baby_2633.index, baby_2633['cnt'], lw=2)\n",
        "plt.bar(baby_2633.index, baby_2633['ave_score'], edgecolor='y')\n",
        "plt.plot(forecast_2633.index, forecast_2633['Prediction'], lw=2, linestyle='-')\n",
        "plt.xlabel('Year')\n",
        "plt.ylabel('Sales predict & Star_rating')\n",
        "plt.title('baby_pacifier NO.3')\n",
        "\n",
        "plt.subplot(5,3,15)\n",
        "plt.plot(baby_3725.index, baby_3725['cnt'], lw=2)\n",
        "plt.bar(baby_3725.index, baby_3725['ave_score'], edgecolor='y')\n",
        "plt.plot(forecast_3725.index, forecast_3725['Prediction'], lw=2, linestyle='-')\n",
        "plt.xlabel('Year')\n",
        "plt.ylabel('Sales predict & Star_rating')\n",
        "plt.title('baby_pacifier NO.5')\n",
        "\n",
        "plt.savefig(\"Forecasting_ARIMA\")"
      ],
      "execution_count": 118,
      "outputs": [
        {
          "output_type": "display_data",
          "data": {
            "image/png": "[encoded data removed]",
            "text/plain": [
              "<Figure size 1728x1728 with 15 Axes>"
            ]
          },
          "metadata": {
            "tags": []
          }
        }
      ]
    },
    {
      "cell_type": "code",
      "metadata": {
        "id": "vwKZF2RKBJlp",
        "colab_type": "code",
        "colab": {}
      },
      "source": [
        ""
      ],
      "execution_count": 0,
      "outputs": []
    }
  ]
}
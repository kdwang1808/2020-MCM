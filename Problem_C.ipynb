{
  "nbformat": 4,
  "nbformat_minor": 0,
  "metadata": {
    "colab": {
      "name": "Problem_C.ipynb",
      "provenance": [],
      "collapsed_sections": [],
      "authorship_tag": "ABX9TyPnTFlGgXBeFHFhRXRFSetA",
      "include_colab_link": true
    },
    "kernelspec": {
      "name": "python3",
      "display_name": "Python 3"
    }
  },
  "cells": [
    {
      "cell_type": "markdown",
      "metadata": {
        "id": "view-in-github",
        "colab_type": "text"
      },
      "source": [
        "<a href=\"https://colab.research.google.com/github/kdwang1808/2020-MCM/blob/master/Problem_C.ipynb\" target=\"_parent\"><img src=\"https://colab.research.google.com/assets/colab-badge.svg\" alt=\"Open In Colab\"/></a>"
      ]
    },
    {
      "cell_type": "code",
      "metadata": {
        "id": "7gAAPP7bJUdd",
        "colab_type": "code",
        "colab": {
          "base_uri": "https://localhost:8080/",
          "height": 222
        },
        "outputId": "790431d0-af26-40e5-e048-13db5c3ea21d"
      },
      "source": [
        "!apt-get install -y -qq software-properties-common python-software-properties module-init-tools\n",
        "!add-apt-repository -y ppa:alessandro-strada/ppa 2>&1 > /dev/null\n",
        "!apt-get update -qq 2>&1 > /dev/null\n",
        "!apt-get -y install -qq google-drive-ocamlfuse fuse\n",
        "from google.colab import auth\n",
        "auth.authenticate_user()\n",
        "from oauth2client.client import GoogleCredentials\n",
        "creds = GoogleCredentials.get_application_default()\n",
        "import getpass\n",
        "!google-drive-ocamlfuse -headless -id={creds.client_id} -secret={creds.client_secret} < /dev/null 2>&1 | grep URL\n",
        "vcode = getpass.getpass()\n",
        "!echo {vcode} | google-drive-ocamlfuse -headless -id={creds.client_id} -secret={creds.client_secret}"
      ],
      "execution_count": 1,
      "outputs": [
        {
          "output_type": "stream",
          "text": [
            "E: Package 'python-software-properties' has no installation candidate\n",
            "Selecting previously unselected package google-drive-ocamlfuse.\n",
            "(Reading database ... 134448 files and directories currently installed.)\n",
            "Preparing to unpack .../google-drive-ocamlfuse_0.7.17-0ubuntu2~ubuntu18.04.1_amd64.deb ...\n",
            "Unpacking google-drive-ocamlfuse (0.7.17-0ubuntu2~ubuntu18.04.1) ...\n",
            "Setting up google-drive-ocamlfuse (0.7.17-0ubuntu2~ubuntu18.04.1) ...\n",
            "Processing triggers for man-db (2.8.3-2ubuntu0.1) ...\n",
            "Please, open the following URL in a web browser: https://accounts.google.com/o/oauth2/auth?client_id=32555940559.apps.googleusercontent.com&redirect_uri=urn%3Aietf%3Awg%3Aoauth%3A2.0%3Aoob&scope=https%3A%2F%2Fwww.googleapis.com%2Fauth%2Fdrive&response_type=code&access_type=offline&approval_prompt=force\n",
            "··········\n",
            "Please, open the following URL in a web browser: https://accounts.google.com/o/oauth2/auth?client_id=32555940559.apps.googleusercontent.com&redirect_uri=urn%3Aietf%3Awg%3Aoauth%3A2.0%3Aoob&scope=https%3A%2F%2Fwww.googleapis.com%2Fauth%2Fdrive&response_type=code&access_type=offline&approval_prompt=force\n",
            "Please enter the verification code: Access token retrieved correctly.\n"
          ],
          "name": "stdout"
        }
      ]
    },
    {
      "cell_type": "code",
      "metadata": {
        "id": "th7CfRRXKqSb",
        "colab_type": "code",
        "colab": {}
      },
      "source": [
        "!mkdir -p drive\n",
        "!google-drive-ocamlfuse drive\n",
        "import os\n",
        "import sys\n",
        "os.chdir('drive/Colab Notebooks/2020MCM_PC')"
      ],
      "execution_count": 0,
      "outputs": []
    },
    {
      "cell_type": "code",
      "metadata": {
        "id": "9xHTpeQmJd79",
        "colab_type": "code",
        "colab": {}
      },
      "source": [
        "import numpy as np\n",
        "import pandas as pd\n",
        "import seaborn as sns\n",
        "import tqdm as tqdm\n",
        "import matplotlib.pyplot as plt\n",
        "%matplotlib inline\n",
        "import torch\n",
        "import torchsummary"
      ],
      "execution_count": 0,
      "outputs": []
    },
    {
      "cell_type": "code",
      "metadata": {
        "id": "q0Ymum9sKY0P",
        "colab_type": "code",
        "colab": {}
      },
      "source": [
        "hair = pd.read_csv(\"hair.csv\")\n",
        "micro = pd.read_csv(\"micro.csv\")\n",
        "baby = pd.read_csv(\"baby.csv\")"
      ],
      "execution_count": 0,
      "outputs": []
    },
    {
      "cell_type": "code",
      "metadata": {
        "id": "9Y1FkWAKKiDD",
        "colab_type": "code",
        "colab": {
          "base_uri": "https://localhost:8080/",
          "height": 586
        },
        "outputId": "5a10c4d9-1245-437b-d06c-852ea36c2369"
      },
      "source": [
        "hair.head(8)"
      ],
      "execution_count": 9,
      "outputs": [
        {
          "output_type": "execute_result",
          "data": {
            "text/html": [
              "<div>\n",
              "<style scoped>\n",
              "    .dataframe tbody tr th:only-of-type {\n",
              "        vertical-align: middle;\n",
              "    }\n",
              "\n",
              "    .dataframe tbody tr th {\n",
              "        vertical-align: top;\n",
              "    }\n",
              "\n",
              "    .dataframe thead th {\n",
              "        text-align: right;\n",
              "    }\n",
              "</style>\n",
              "<table border=\"1\" class=\"dataframe\">\n",
              "  <thead>\n",
              "    <tr style=\"text-align: right;\">\n",
              "      <th></th>\n",
              "      <th>yy</th>\n",
              "      <th>mm</th>\n",
              "      <th>dd</th>\n",
              "      <th>customer_id</th>\n",
              "      <th>review_id</th>\n",
              "      <th>product_id</th>\n",
              "      <th>product_parent</th>\n",
              "      <th>product_title</th>\n",
              "      <th>star_rating</th>\n",
              "      <th>helpful_votes</th>\n",
              "      <th>total_votes</th>\n",
              "      <th>review_headline</th>\n",
              "      <th>review_body</th>\n",
              "    </tr>\n",
              "  </thead>\n",
              "  <tbody>\n",
              "    <tr>\n",
              "      <th>0</th>\n",
              "      <td>2002</td>\n",
              "      <td>3</td>\n",
              "      <td>2</td>\n",
              "      <td>43740490</td>\n",
              "      <td>R2XM83JYE2KDE2</td>\n",
              "      <td>B00005O0MZ</td>\n",
              "      <td>694290590</td>\n",
              "      <td>conair corp pers care 146np conair ionic condi...</td>\n",
              "      <td>3</td>\n",
              "      <td>320</td>\n",
              "      <td>332</td>\n",
              "      <td>Some pluses, some minuses</td>\n",
              "      <td>This is my only experience with an ionic hair ...</td>\n",
              "    </tr>\n",
              "    <tr>\n",
              "      <th>1</th>\n",
              "      <td>2002</td>\n",
              "      <td>7</td>\n",
              "      <td>13</td>\n",
              "      <td>37733836</td>\n",
              "      <td>R3GO6L5PWBS0IW</td>\n",
              "      <td>B00005O0MZ</td>\n",
              "      <td>694290590</td>\n",
              "      <td>conair corp pers care 146np conair ionic condi...</td>\n",
              "      <td>5</td>\n",
              "      <td>4</td>\n",
              "      <td>4</td>\n",
              "      <td>The best dryer!!!</td>\n",
              "      <td>I love this dryer not only is it QUIET, it rea...</td>\n",
              "    </tr>\n",
              "    <tr>\n",
              "      <th>2</th>\n",
              "      <td>2004</td>\n",
              "      <td>8</td>\n",
              "      <td>15</td>\n",
              "      <td>50473837</td>\n",
              "      <td>R12APPEFY714W7</td>\n",
              "      <td>B00005O0MZ</td>\n",
              "      <td>694290590</td>\n",
              "      <td>conair corp pers care 146np conair ionic condi...</td>\n",
              "      <td>2</td>\n",
              "      <td>5</td>\n",
              "      <td>6</td>\n",
              "      <td>a Bit Disappointed</td>\n",
              "      <td>The on/off switch on this dryer needs improvem...</td>\n",
              "    </tr>\n",
              "    <tr>\n",
              "      <th>3</th>\n",
              "      <td>2005</td>\n",
              "      <td>5</td>\n",
              "      <td>25</td>\n",
              "      <td>51785663</td>\n",
              "      <td>R3NZ6I1EKJ9FQL</td>\n",
              "      <td>B0002G214U</td>\n",
              "      <td>685652978</td>\n",
              "      <td>conair soft bonnet hair dryer 1 ea</td>\n",
              "      <td>1</td>\n",
              "      <td>165</td>\n",
              "      <td>168</td>\n",
              "      <td>Very Poor Product</td>\n",
              "      <td>I wish I could have read reviews on this produ...</td>\n",
              "    </tr>\n",
              "    <tr>\n",
              "      <th>4</th>\n",
              "      <td>2005</td>\n",
              "      <td>9</td>\n",
              "      <td>15</td>\n",
              "      <td>38641465</td>\n",
              "      <td>R37KYGDKHQ87NK</td>\n",
              "      <td>B0009XH6TG</td>\n",
              "      <td>47684938</td>\n",
              "      <td>andis 1875-watt fold-n-go ionic hair dryer , s...</td>\n",
              "      <td>4</td>\n",
              "      <td>263</td>\n",
              "      <td>270</td>\n",
              "      <td>Great product and the only ceramic, ionic blow...</td>\n",
              "      <td>This is the only ceramic, ionic blow dryer wit...</td>\n",
              "    </tr>\n",
              "    <tr>\n",
              "      <th>5</th>\n",
              "      <td>2005</td>\n",
              "      <td>9</td>\n",
              "      <td>22</td>\n",
              "      <td>53027653</td>\n",
              "      <td>RZVHQM7O6L78O</td>\n",
              "      <td>B000ALCJR6</td>\n",
              "      <td>218297570</td>\n",
              "      <td>t3 tourmaline 83808 professional featherweight...</td>\n",
              "      <td>3</td>\n",
              "      <td>80</td>\n",
              "      <td>96</td>\n",
              "      <td>Very light &amp; dries fast but other claims exagg...</td>\n",
              "      <td>I first saw this hair dryer on a TV show talki...</td>\n",
              "    </tr>\n",
              "    <tr>\n",
              "      <th>6</th>\n",
              "      <td>2005</td>\n",
              "      <td>10</td>\n",
              "      <td>17</td>\n",
              "      <td>52885265</td>\n",
              "      <td>R2G43OCI39IENW</td>\n",
              "      <td>B000ALCJR6</td>\n",
              "      <td>218297570</td>\n",
              "      <td>t3 tourmaline 83808 professional featherweight...</td>\n",
              "      <td>5</td>\n",
              "      <td>4</td>\n",
              "      <td>4</td>\n",
              "      <td>Super Fast!!</td>\n",
              "      <td>LOVE this hair dryer.  My hair used to take fo...</td>\n",
              "    </tr>\n",
              "    <tr>\n",
              "      <th>7</th>\n",
              "      <td>2005</td>\n",
              "      <td>12</td>\n",
              "      <td>8</td>\n",
              "      <td>46335577</td>\n",
              "      <td>R1JTW1HKE1A4GP</td>\n",
              "      <td>B000ALCJR6</td>\n",
              "      <td>218297570</td>\n",
              "      <td>t3 tourmaline 83808 professional featherweight...</td>\n",
              "      <td>5</td>\n",
              "      <td>5</td>\n",
              "      <td>7</td>\n",
              "      <td>Never going back</td>\n",
              "      <td>I used this hair dryer at my friends place and...</td>\n",
              "    </tr>\n",
              "  </tbody>\n",
              "</table>\n",
              "</div>"
            ],
            "text/plain": [
              "     yy  ...                                        review_body\n",
              "0  2002  ...  This is my only experience with an ionic hair ...\n",
              "1  2002  ...  I love this dryer not only is it QUIET, it rea...\n",
              "2  2004  ...  The on/off switch on this dryer needs improvem...\n",
              "3  2005  ...  I wish I could have read reviews on this produ...\n",
              "4  2005  ...  This is the only ceramic, ionic blow dryer wit...\n",
              "5  2005  ...  I first saw this hair dryer on a TV show talki...\n",
              "6  2005  ...  LOVE this hair dryer.  My hair used to take fo...\n",
              "7  2005  ...  I used this hair dryer at my friends place and...\n",
              "\n",
              "[8 rows x 13 columns]"
            ]
          },
          "metadata": {
            "tags": []
          },
          "execution_count": 9
        }
      ]
    },
    {
      "cell_type": "code",
      "metadata": {
        "id": "h_U0DdRpK0ms",
        "colab_type": "code",
        "colab": {
          "base_uri": "https://localhost:8080/",
          "height": 84
        },
        "outputId": "16c86b78-5583-4c5d-f143-f1c0197e4fe9"
      },
      "source": [
        "hair.columns"
      ],
      "execution_count": 10,
      "outputs": [
        {
          "output_type": "execute_result",
          "data": {
            "text/plain": [
              "Index(['yy', 'mm', 'dd', 'customer_id', 'review_id', 'product_id',\n",
              "       'product_parent', 'product_title', 'star_rating', 'helpful_votes',\n",
              "       'total_votes', 'review_headline', 'review_body'],\n",
              "      dtype='object')"
            ]
          },
          "metadata": {
            "tags": []
          },
          "execution_count": 10
        }
      ]
    },
    {
      "cell_type": "code",
      "metadata": {
        "id": "GBzwC8q6LEW6",
        "colab_type": "code",
        "colab": {
          "base_uri": "https://localhost:8080/",
          "height": 296
        },
        "outputId": "6b89aee0-41fa-440d-9588-fc840c008f0a"
      },
      "source": [
        "plt.figure(figsize=(16,4))\n",
        "plt.subplot(131)\n",
        "sns.countplot(hair['star_rating']).set_title('hair_dryer')\n",
        "plt.subplot(132)\n",
        "sns.countplot(micro['star_rating']).set_title('microwave')\n",
        "plt.subplot(133)\n",
        "sns.countplot(baby['star_rating']).set_title('baby_pacifier')\n",
        "plt.savefig('count_rating')"
      ],
      "execution_count": 18,
      "outputs": [
        {
          "output_type": "display_data",
          "data": {
            "image/png": "[encoded data removed]",
            "text/plain": [
              "<Figure size 1152x288 with 3 Axes>"
            ]
          },
          "metadata": {
            "tags": []
          }
        }
      ]
    },
    {
      "cell_type": "code",
      "metadata": {
        "id": "jOa-KiM8LRyf",
        "colab_type": "code",
        "colab": {
          "base_uri": "https://localhost:8080/",
          "height": 689
        },
        "outputId": "2c4568ca-fe14-4f47-fd5a-6a92710d01b0"
      },
      "source": [
        "print(hair['yy'].value_counts())\n",
        "print()\n",
        "print(micro['yy'].value_counts())\n",
        "print()\n",
        "print(baby['yy'].value_counts())"
      ],
      "execution_count": 20,
      "outputs": [
        {
          "output_type": "stream",
          "text": [
            "2015    2920\n",
            "2014    2903\n",
            "2013    1980\n",
            "2012     749\n",
            "2011     445\n",
            "2010     440\n",
            "2009     155\n",
            "2008     109\n",
            "2007      76\n",
            "2006      25\n",
            "2005       6\n",
            "2002       2\n",
            "2004       1\n",
            "Name: yy, dtype: int64\n",
            "\n",
            "2015    460\n",
            "2014    342\n",
            "2013    162\n",
            "2012     66\n",
            "2011     27\n",
            "2010     12\n",
            "2007      9\n",
            "2008      8\n",
            "2004      4\n",
            "2009      3\n",
            "2005      2\n",
            "Name: yy, dtype: int64\n",
            "\n",
            "2015    5320\n",
            "2014    5275\n",
            "2013    3343\n",
            "2012    1141\n",
            "2011     763\n",
            "2010     221\n",
            "2009      98\n",
            "2008      69\n",
            "2007      27\n",
            "2006       2\n",
            "2005       2\n",
            "Name: yy, dtype: int64\n"
          ],
          "name": "stdout"
        }
      ]
    },
    {
      "cell_type": "code",
      "metadata": {
        "id": "C3M2HQg7OdUa",
        "colab_type": "code",
        "colab": {}
      },
      "source": [
        "# Analyze 2008-2015\n",
        "hair = hair[(hair['yy']>2007) & (hair['yy']<2016)]\n",
        "micro = micro[(micro['yy']>2007) & (micro['yy']<2016)]\n",
        "baby = baby[(baby['yy']>2007) & (baby['yy']<2016)]"
      ],
      "execution_count": 0,
      "outputs": []
    },
    {
      "cell_type": "code",
      "metadata": {
        "id": "1po5DoCfQFqt",
        "colab_type": "code",
        "colab": {
          "base_uri": "https://localhost:8080/",
          "height": 296
        },
        "outputId": "7b3156f6-e86a-48b2-cbc8-3da3280225a0"
      },
      "source": [
        "sns.set_style(\"darkgrid\")\n",
        "plt.figure(figsize=(20,4))\n",
        "plt.subplot(131)\n",
        "sns.countplot(hair['star_rating'], hue=hair['yy']).set_title('hair_dryer')\n",
        "plt.subplot(132)\n",
        "sns.countplot(micro['star_rating'], hue=micro['yy']).set_title('microwave')\n",
        "plt.subplot(133)\n",
        "sns.countplot(baby['star_rating'], hue=baby['yy']).set_title('baby_pacifier')\n",
        "plt.savefig('count_rating_8year')"
      ],
      "execution_count": 31,
      "outputs": [
        {
          "output_type": "display_data",
          "data": {
            "image/png": "[encoded data removed]",
            "text/plain": [
              "<Figure size 1440x288 with 3 Axes>"
            ]
          },
          "metadata": {
            "tags": []
          }
        }
      ]
    },
    {
      "cell_type": "code",
      "metadata": {
        "id": "F6kFUeLfTl3y",
        "colab_type": "code",
        "colab": {}
      },
      "source": [
        "hair.reset_index(drop=True, inplace=True)\n",
        "micro.reset_index(drop=True, inplace=True)\n",
        "baby.reset_index(drop=True, inplace=True)\n",
        "hair.to_csv(r'hair.csv', index = False)\n",
        "baby.to_csv(r'baby.csv', index = False)\n",
        "micro.to_csv(r'micro.csv', index = False)"
      ],
      "execution_count": 0,
      "outputs": []
    },
    {
      "cell_type": "code",
      "metadata": {
        "id": "xwA83awYVD1d",
        "colab_type": "code",
        "colab": {
          "base_uri": "https://localhost:8080/",
          "height": 34
        },
        "outputId": "9f8f544b-61cb-4500-f999-78089f876e1a"
      },
      "source": [
        "print(hair.shape, micro.shape, baby.shape)"
      ],
      "execution_count": 38,
      "outputs": [
        {
          "output_type": "stream",
          "text": [
            "(9701, 13) (1080, 13) (16230, 13)\n"
          ],
          "name": "stdout"
        }
      ]
    },
    {
      "cell_type": "code",
      "metadata": {
        "id": "MwMJfuk8V4nn",
        "colab_type": "code",
        "colab": {
          "base_uri": "https://localhost:8080/",
          "height": 252
        },
        "outputId": "cfbf98f6-12e0-4d2c-e1b5-66720963ce37"
      },
      "source": [
        "hair.nunique()"
      ],
      "execution_count": 39,
      "outputs": [
        {
          "output_type": "execute_result",
          "data": {
            "text/plain": [
              "yy                    8\n",
              "mm                   12\n",
              "dd                   31\n",
              "customer_id        9639\n",
              "review_id          9701\n",
              "product_id          416\n",
              "product_parent      357\n",
              "product_title       380\n",
              "star_rating           5\n",
              "helpful_votes        80\n",
              "total_votes          80\n",
              "review_headline    6344\n",
              "review_body        9447\n",
              "dtype: int64"
            ]
          },
          "metadata": {
            "tags": []
          },
          "execution_count": 39
        }
      ]
    },
    {
      "cell_type": "code",
      "metadata": {
        "id": "p4r4NnlQV94T",
        "colab_type": "code",
        "colab": {
          "base_uri": "https://localhost:8080/",
          "height": 252
        },
        "outputId": "f804f0cd-166b-4566-c8e1-d9c5daddf75b"
      },
      "source": [
        "hair.isnull().sum()"
      ],
      "execution_count": 41,
      "outputs": [
        {
          "output_type": "execute_result",
          "data": {
            "text/plain": [
              "yy                 0\n",
              "mm                 0\n",
              "dd                 0\n",
              "customer_id        0\n",
              "review_id          0\n",
              "product_id         0\n",
              "product_parent     0\n",
              "product_title      0\n",
              "star_rating        0\n",
              "helpful_votes      0\n",
              "total_votes        0\n",
              "review_headline    2\n",
              "review_body        0\n",
              "dtype: int64"
            ]
          },
          "metadata": {
            "tags": []
          },
          "execution_count": 41
        }
      ]
    },
    {
      "cell_type": "code",
      "metadata": {
        "id": "zuQ9-xOIWXfu",
        "colab_type": "code",
        "colab": {}
      },
      "source": [
        "hair = hair.drop(['review_id'], axis=1)\n",
        "micro = micro.drop(['review_id'], axis=1)\n",
        "baby = baby.drop(['review_id'], axis=1)"
      ],
      "execution_count": 0,
      "outputs": []
    },
    {
      "cell_type": "code",
      "metadata": {
        "id": "e0Rv_y1yYvtj",
        "colab_type": "code",
        "colab": {}
      },
      "source": [
        "hair = hair.drop(['customer_id', 'product_id'], axis=1)\n",
        "micro = micro.drop(['customer_id', 'product_id'], axis=1)\n",
        "baby = baby.drop(['customer_id', 'product_id'], axis=1)"
      ],
      "execution_count": 0,
      "outputs": []
    },
    {
      "cell_type": "code",
      "metadata": {
        "id": "p2DB0p2WZihl",
        "colab_type": "code",
        "colab": {}
      },
      "source": [
        "hair = hair.drop(['product_title'], axis=1)\n",
        "micro = micro.drop(['product_title'], axis=1)\n",
        "baby = baby.drop(['product_title'], axis=1)"
      ],
      "execution_count": 0,
      "outputs": []
    },
    {
      "cell_type": "code",
      "metadata": {
        "id": "rimvZpzxaDgR",
        "colab_type": "code",
        "colab": {
          "base_uri": "https://localhost:8080/",
          "height": 284
        },
        "outputId": "3c9cbaa4-15a4-42ba-8fce-ebe0d5f6ad1b"
      },
      "source": [
        "hair.head(8)"
      ],
      "execution_count": 49,
      "outputs": [
        {
          "output_type": "execute_result",
          "data": {
            "text/html": [
              "<div>\n",
              "<style scoped>\n",
              "    .dataframe tbody tr th:only-of-type {\n",
              "        vertical-align: middle;\n",
              "    }\n",
              "\n",
              "    .dataframe tbody tr th {\n",
              "        vertical-align: top;\n",
              "    }\n",
              "\n",
              "    .dataframe thead th {\n",
              "        text-align: right;\n",
              "    }\n",
              "</style>\n",
              "<table border=\"1\" class=\"dataframe\">\n",
              "  <thead>\n",
              "    <tr style=\"text-align: right;\">\n",
              "      <th></th>\n",
              "      <th>yy</th>\n",
              "      <th>mm</th>\n",
              "      <th>dd</th>\n",
              "      <th>product_parent</th>\n",
              "      <th>star_rating</th>\n",
              "      <th>helpful_votes</th>\n",
              "      <th>total_votes</th>\n",
              "      <th>review_headline</th>\n",
              "      <th>review_body</th>\n",
              "    </tr>\n",
              "  </thead>\n",
              "  <tbody>\n",
              "    <tr>\n",
              "      <th>0</th>\n",
              "      <td>2008</td>\n",
              "      <td>1</td>\n",
              "      <td>1</td>\n",
              "      <td>560455235</td>\n",
              "      <td>5</td>\n",
              "      <td>7</td>\n",
              "      <td>8</td>\n",
              "      <td>Simply The Best Blow Dryer on The Market</td>\n",
              "      <td>This is the best standard blow dryer on the ma...</td>\n",
              "    </tr>\n",
              "    <tr>\n",
              "      <th>1</th>\n",
              "      <td>2008</td>\n",
              "      <td>1</td>\n",
              "      <td>7</td>\n",
              "      <td>442401590</td>\n",
              "      <td>5</td>\n",
              "      <td>4</td>\n",
              "      <td>6</td>\n",
              "      <td>My new best friend!</td>\n",
              "      <td>With a four year warranty I had to try it and ...</td>\n",
              "    </tr>\n",
              "    <tr>\n",
              "      <th>2</th>\n",
              "      <td>2008</td>\n",
              "      <td>1</td>\n",
              "      <td>8</td>\n",
              "      <td>199558933</td>\n",
              "      <td>5</td>\n",
              "      <td>16</td>\n",
              "      <td>17</td>\n",
              "      <td>Terrific hair dryer, with caveat</td>\n",
              "      <td>Works great; same dryer used by my hair stylis...</td>\n",
              "    </tr>\n",
              "    <tr>\n",
              "      <th>3</th>\n",
              "      <td>2008</td>\n",
              "      <td>1</td>\n",
              "      <td>10</td>\n",
              "      <td>199558933</td>\n",
              "      <td>5</td>\n",
              "      <td>2</td>\n",
              "      <td>2</td>\n",
              "      <td>GREAT DRYER</td>\n",
              "      <td>This has cut down on my drying time and is ver...</td>\n",
              "    </tr>\n",
              "    <tr>\n",
              "      <th>4</th>\n",
              "      <td>2008</td>\n",
              "      <td>1</td>\n",
              "      <td>11</td>\n",
              "      <td>676407800</td>\n",
              "      <td>5</td>\n",
              "      <td>40</td>\n",
              "      <td>42</td>\n",
              "      <td>Conair 209R Ion Shine(s) for Under $20.00!</td>\n",
              "      <td>You can't get much for $20 these days.  Howeve...</td>\n",
              "    </tr>\n",
              "    <tr>\n",
              "      <th>5</th>\n",
              "      <td>2008</td>\n",
              "      <td>1</td>\n",
              "      <td>12</td>\n",
              "      <td>676407800</td>\n",
              "      <td>1</td>\n",
              "      <td>11</td>\n",
              "      <td>14</td>\n",
              "      <td>Cord Keeper Breaks!</td>\n",
              "      <td>I researched all the hairdryers on amazon, and...</td>\n",
              "    </tr>\n",
              "    <tr>\n",
              "      <th>6</th>\n",
              "      <td>2008</td>\n",
              "      <td>1</td>\n",
              "      <td>13</td>\n",
              "      <td>486589264</td>\n",
              "      <td>4</td>\n",
              "      <td>5</td>\n",
              "      <td>6</td>\n",
              "      <td>Hard to believe it could be so good</td>\n",
              "      <td>I bought this dryer based on the user reviews ...</td>\n",
              "    </tr>\n",
              "    <tr>\n",
              "      <th>7</th>\n",
              "      <td>2008</td>\n",
              "      <td>1</td>\n",
              "      <td>28</td>\n",
              "      <td>694290590</td>\n",
              "      <td>4</td>\n",
              "      <td>0</td>\n",
              "      <td>0</td>\n",
              "      <td>conair hairdryer</td>\n",
              "      <td>It is okay. It doesn't get hot enough and the ...</td>\n",
              "    </tr>\n",
              "  </tbody>\n",
              "</table>\n",
              "</div>"
            ],
            "text/plain": [
              "     yy  ...                                        review_body\n",
              "0  2008  ...  This is the best standard blow dryer on the ma...\n",
              "1  2008  ...  With a four year warranty I had to try it and ...\n",
              "2  2008  ...  Works great; same dryer used by my hair stylis...\n",
              "3  2008  ...  This has cut down on my drying time and is ver...\n",
              "4  2008  ...  You can't get much for $20 these days.  Howeve...\n",
              "5  2008  ...  I researched all the hairdryers on amazon, and...\n",
              "6  2008  ...  I bought this dryer based on the user reviews ...\n",
              "7  2008  ...  It is okay. It doesn't get hot enough and the ...\n",
              "\n",
              "[8 rows x 9 columns]"
            ]
          },
          "metadata": {
            "tags": []
          },
          "execution_count": 49
        }
      ]
    },
    {
      "cell_type": "code",
      "metadata": {
        "id": "URZj2QnPaUhU",
        "colab_type": "code",
        "colab": {}
      },
      "source": [
        "hair['product_parent'] = hair['product_parent'].astype('category').cat.codes\n",
        "micro['product_parent'] = micro['product_parent'].astype('category').cat.codes\n",
        "baby['product_parent'] = baby['product_parent'].astype('category').cat.codes"
      ],
      "execution_count": 0,
      "outputs": []
    },
    {
      "cell_type": "code",
      "metadata": {
        "id": "qjw2rolLcpRQ",
        "colab_type": "code",
        "colab": {
          "base_uri": "https://localhost:8080/",
          "height": 343
        },
        "outputId": "e8a7e22d-7708-44e7-ded7-67e623bf8d94"
      },
      "source": [
        "hair.head(10)"
      ],
      "execution_count": 52,
      "outputs": [
        {
          "output_type": "execute_result",
          "data": {
            "text/html": [
              "<div>\n",
              "<style scoped>\n",
              "    .dataframe tbody tr th:only-of-type {\n",
              "        vertical-align: middle;\n",
              "    }\n",
              "\n",
              "    .dataframe tbody tr th {\n",
              "        vertical-align: top;\n",
              "    }\n",
              "\n",
              "    .dataframe thead th {\n",
              "        text-align: right;\n",
              "    }\n",
              "</style>\n",
              "<table border=\"1\" class=\"dataframe\">\n",
              "  <thead>\n",
              "    <tr style=\"text-align: right;\">\n",
              "      <th></th>\n",
              "      <th>yy</th>\n",
              "      <th>mm</th>\n",
              "      <th>dd</th>\n",
              "      <th>product_parent</th>\n",
              "      <th>star_rating</th>\n",
              "      <th>helpful_votes</th>\n",
              "      <th>total_votes</th>\n",
              "      <th>review_headline</th>\n",
              "      <th>review_body</th>\n",
              "    </tr>\n",
              "  </thead>\n",
              "  <tbody>\n",
              "    <tr>\n",
              "      <th>0</th>\n",
              "      <td>2008</td>\n",
              "      <td>1</td>\n",
              "      <td>1</td>\n",
              "      <td>201</td>\n",
              "      <td>5</td>\n",
              "      <td>7</td>\n",
              "      <td>8</td>\n",
              "      <td>Simply The Best Blow Dryer on The Market</td>\n",
              "      <td>This is the best standard blow dryer on the ma...</td>\n",
              "    </tr>\n",
              "    <tr>\n",
              "      <th>1</th>\n",
              "      <td>2008</td>\n",
              "      <td>1</td>\n",
              "      <td>7</td>\n",
              "      <td>165</td>\n",
              "      <td>5</td>\n",
              "      <td>4</td>\n",
              "      <td>6</td>\n",
              "      <td>My new best friend!</td>\n",
              "      <td>With a four year warranty I had to try it and ...</td>\n",
              "    </tr>\n",
              "    <tr>\n",
              "      <th>2</th>\n",
              "      <td>2008</td>\n",
              "      <td>1</td>\n",
              "      <td>8</td>\n",
              "      <td>75</td>\n",
              "      <td>5</td>\n",
              "      <td>16</td>\n",
              "      <td>17</td>\n",
              "      <td>Terrific hair dryer, with caveat</td>\n",
              "      <td>Works great; same dryer used by my hair stylis...</td>\n",
              "    </tr>\n",
              "    <tr>\n",
              "      <th>3</th>\n",
              "      <td>2008</td>\n",
              "      <td>1</td>\n",
              "      <td>10</td>\n",
              "      <td>75</td>\n",
              "      <td>5</td>\n",
              "      <td>2</td>\n",
              "      <td>2</td>\n",
              "      <td>GREAT DRYER</td>\n",
              "      <td>This has cut down on my drying time and is ver...</td>\n",
              "    </tr>\n",
              "    <tr>\n",
              "      <th>4</th>\n",
              "      <td>2008</td>\n",
              "      <td>1</td>\n",
              "      <td>11</td>\n",
              "      <td>241</td>\n",
              "      <td>5</td>\n",
              "      <td>40</td>\n",
              "      <td>42</td>\n",
              "      <td>Conair 209R Ion Shine(s) for Under $20.00!</td>\n",
              "      <td>You can't get much for $20 these days.  Howeve...</td>\n",
              "    </tr>\n",
              "    <tr>\n",
              "      <th>5</th>\n",
              "      <td>2008</td>\n",
              "      <td>1</td>\n",
              "      <td>12</td>\n",
              "      <td>241</td>\n",
              "      <td>1</td>\n",
              "      <td>11</td>\n",
              "      <td>14</td>\n",
              "      <td>Cord Keeper Breaks!</td>\n",
              "      <td>I researched all the hairdryers on amazon, and...</td>\n",
              "    </tr>\n",
              "    <tr>\n",
              "      <th>6</th>\n",
              "      <td>2008</td>\n",
              "      <td>1</td>\n",
              "      <td>13</td>\n",
              "      <td>180</td>\n",
              "      <td>4</td>\n",
              "      <td>5</td>\n",
              "      <td>6</td>\n",
              "      <td>Hard to believe it could be so good</td>\n",
              "      <td>I bought this dryer based on the user reviews ...</td>\n",
              "    </tr>\n",
              "    <tr>\n",
              "      <th>7</th>\n",
              "      <td>2008</td>\n",
              "      <td>1</td>\n",
              "      <td>28</td>\n",
              "      <td>244</td>\n",
              "      <td>4</td>\n",
              "      <td>0</td>\n",
              "      <td>0</td>\n",
              "      <td>conair hairdryer</td>\n",
              "      <td>It is okay. It doesn't get hot enough and the ...</td>\n",
              "    </tr>\n",
              "    <tr>\n",
              "      <th>8</th>\n",
              "      <td>2008</td>\n",
              "      <td>1</td>\n",
              "      <td>29</td>\n",
              "      <td>343</td>\n",
              "      <td>5</td>\n",
              "      <td>2</td>\n",
              "      <td>2</td>\n",
              "      <td>Good and quiet!</td>\n",
              "      <td>This blow dyer is the best and a deal at this ...</td>\n",
              "    </tr>\n",
              "    <tr>\n",
              "      <th>9</th>\n",
              "      <td>2008</td>\n",
              "      <td>1</td>\n",
              "      <td>31</td>\n",
              "      <td>343</td>\n",
              "      <td>5</td>\n",
              "      <td>4</td>\n",
              "      <td>4</td>\n",
              "      <td>WOW! Who knew a hair dryer could make such a d...</td>\n",
              "      <td>LOVED this hair dryer! Didn't even need a new ...</td>\n",
              "    </tr>\n",
              "  </tbody>\n",
              "</table>\n",
              "</div>"
            ],
            "text/plain": [
              "     yy  ...                                        review_body\n",
              "0  2008  ...  This is the best standard blow dryer on the ma...\n",
              "1  2008  ...  With a four year warranty I had to try it and ...\n",
              "2  2008  ...  Works great; same dryer used by my hair stylis...\n",
              "3  2008  ...  This has cut down on my drying time and is ver...\n",
              "4  2008  ...  You can't get much for $20 these days.  Howeve...\n",
              "5  2008  ...  I researched all the hairdryers on amazon, and...\n",
              "6  2008  ...  I bought this dryer based on the user reviews ...\n",
              "7  2008  ...  It is okay. It doesn't get hot enough and the ...\n",
              "8  2008  ...  This blow dyer is the best and a deal at this ...\n",
              "9  2008  ...  LOVED this hair dryer! Didn't even need a new ...\n",
              "\n",
              "[10 rows x 9 columns]"
            ]
          },
          "metadata": {
            "tags": []
          },
          "execution_count": 52
        }
      ]
    },
    {
      "cell_type": "code",
      "metadata": {
        "id": "t-slN_hoc2O3",
        "colab_type": "code",
        "colab": {}
      },
      "source": [
        "hair.to_csv(r'hair.csv', index = False)\n",
        "baby.to_csv(r'baby.csv', index = False)\n",
        "micro.to_csv(r'micro.csv', index = False)"
      ],
      "execution_count": 0,
      "outputs": []
    },
    {
      "cell_type": "code",
      "metadata": {
        "id": "y8482Q6Kdrox",
        "colab_type": "code",
        "colab": {}
      },
      "source": [
        ""
      ],
      "execution_count": 0,
      "outputs": []
    }
  ]
}
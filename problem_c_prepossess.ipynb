{
  "nbformat": 4,
  "nbformat_minor": 0,
  "metadata": {
    "language_info": {
      "name": "python",
      "codemirror_mode": {
        "name": "ipython",
        "version": 3
      },
      "version": "3.7.6-final"
    },
    "orig_nbformat": 2,
    "file_extension": ".py",
    "mimetype": "text/x-python",
    "name": "python",
    "npconvert_exporter": "python",
    "pygments_lexer": "ipython3",
    "version": 3,
    "kernelspec": {
      "name": "python36764bit041d7cde41394c5dbfcab2a1ffa675bc",
      "display_name": "Python 3.6.7 64-bit"
    },
    "colab": {
      "name": "problem_c_prepossess.ipynb",
      "provenance": [],
      "collapsed_sections": [],
      "include_colab_link": true
    }
  },
  "cells": [
    {
      "cell_type": "markdown",
      "metadata": {
        "id": "view-in-github",
        "colab_type": "text"
      },
      "source": [
        "<a href=\"https://colab.research.google.com/github/kdwang1808/2020-MCM/blob/master/problem_c_prepossess.ipynb\" target=\"_parent\"><img src=\"https://colab.research.google.com/assets/colab-badge.svg\" alt=\"Open In Colab\"/></a>"
      ]
    },
    {
      "cell_type": "code",
      "metadata": {
        "id": "S_FTbrp9qy9Q",
        "colab_type": "code",
        "colab": {}
      },
      "source": [
        "import numpy as np\n",
        "import pandas as pd\n",
        "import matplotlib.pyplot as plt\n",
        "%matplotlib inline\n",
        "import torch\n",
        "import torchsummary"
      ],
      "execution_count": 0,
      "outputs": []
    },
    {
      "cell_type": "code",
      "metadata": {
        "id": "OVxLVHU7q3-p",
        "colab_type": "code",
        "colab": {
          "base_uri": "https://localhost:8080/",
          "height": 50
        },
        "outputId": "280a4820-4dc5-40ee-a3f8-466e6658b027"
      },
      "source": [
        "!apt-get install -y -qq software-properties-common python-software-properties module-init-tools\n",
        "!add-apt-repository -y ppa:alessandro-strada/ppa 2>&1 > /dev/null\n",
        "!apt-get update -qq 2>&1 > /dev/null\n",
        "!apt-get -y install -qq google-drive-ocamlfuse fuse\n",
        "from google.colab import auth\n",
        "auth.authenticate_user()\n",
        "from oauth2client.client import GoogleCredentials\n",
        "creds = GoogleCredentials.get_application_default()\n",
        "import getpass\n",
        "!google-drive-ocamlfuse -headless -id={creds.client_id} -secret={creds.client_secret} < /dev/null 2>&1 | grep URL\n",
        "vcode = getpass.getpass()\n",
        "!echo {vcode} | google-drive-ocamlfuse -headless -id={creds.client_id} -secret={creds.client_secret}"
      ],
      "execution_count": 21,
      "outputs": [
        {
          "output_type": "stream",
          "text": [
            "E: Package 'python-software-properties' has no installation candidate\n",
            "··········\n"
          ],
          "name": "stdout"
        }
      ]
    },
    {
      "cell_type": "code",
      "metadata": {
        "id": "8n6peWOtrqNJ",
        "colab_type": "code",
        "colab": {}
      },
      "source": [
        "!mkdir -p drive\n",
        "!google-drive-ocamlfuse drive\n",
        "import os\n",
        "import sys\n",
        "os.chdir('drive/Colab Notebooks/2020MCM_PC')"
      ],
      "execution_count": 0,
      "outputs": []
    },
    {
      "cell_type": "code",
      "metadata": {
        "id": "rGnEO_t5qy9U",
        "colab_type": "code",
        "colab": {}
      },
      "source": [
        "hair = pd.read_csv(\"hair_dryer.tsv\", sep='\\t', header=0)\n",
        "micro = pd.read_csv(\"microwave.tsv\", sep='\\t', header=0)\n",
        "baby = pd.read_csv(\"pacifier.tsv\", sep='\\t', header=0)"
      ],
      "execution_count": 0,
      "outputs": []
    },
    {
      "cell_type": "code",
      "metadata": {
        "id": "rffi01UTqy9X",
        "colab_type": "code",
        "colab": {
          "base_uri": "https://localhost:8080/",
          "height": 34
        },
        "outputId": "30f5ba49-1c48-43a0-cb4a-58bd01097b4f"
      },
      "source": [
        "print(hair.shape, micro.shape, baby.shape)"
      ],
      "execution_count": 24,
      "outputs": [
        {
          "output_type": "stream",
          "text": [
            "(11470, 15) (1615, 15) (18939, 15)\n"
          ],
          "name": "stdout"
        }
      ]
    },
    {
      "cell_type": "code",
      "metadata": {
        "id": "V-cfd0Diqy9a",
        "colab_type": "code",
        "colab": {
          "base_uri": "https://localhost:8080/",
          "height": 690
        },
        "outputId": "2e386ad4-2af0-40dd-c201-c25b4d1b0145"
      },
      "source": [
        "hair.head(8)"
      ],
      "execution_count": 25,
      "outputs": [
        {
          "output_type": "execute_result",
          "data": {
            "text/html": [
              "<div>\n",
              "<style scoped>\n",
              "    .dataframe tbody tr th:only-of-type {\n",
              "        vertical-align: middle;\n",
              "    }\n",
              "\n",
              "    .dataframe tbody tr th {\n",
              "        vertical-align: top;\n",
              "    }\n",
              "\n",
              "    .dataframe thead th {\n",
              "        text-align: right;\n",
              "    }\n",
              "</style>\n",
              "<table border=\"1\" class=\"dataframe\">\n",
              "  <thead>\n",
              "    <tr style=\"text-align: right;\">\n",
              "      <th></th>\n",
              "      <th>marketplace</th>\n",
              "      <th>customer_id</th>\n",
              "      <th>review_id</th>\n",
              "      <th>product_id</th>\n",
              "      <th>product_parent</th>\n",
              "      <th>product_title</th>\n",
              "      <th>product_category</th>\n",
              "      <th>star_rating</th>\n",
              "      <th>helpful_votes</th>\n",
              "      <th>total_votes</th>\n",
              "      <th>vine</th>\n",
              "      <th>verified_purchase</th>\n",
              "      <th>review_headline</th>\n",
              "      <th>review_body</th>\n",
              "      <th>review_date</th>\n",
              "    </tr>\n",
              "  </thead>\n",
              "  <tbody>\n",
              "    <tr>\n",
              "      <th>0</th>\n",
              "      <td>US</td>\n",
              "      <td>34678741</td>\n",
              "      <td>R9T1FE2ZX2X04</td>\n",
              "      <td>B003V264WW</td>\n",
              "      <td>732252283</td>\n",
              "      <td>remington ac2015 t|studio salon collection pea...</td>\n",
              "      <td>Beauty</td>\n",
              "      <td>5</td>\n",
              "      <td>0</td>\n",
              "      <td>0</td>\n",
              "      <td>N</td>\n",
              "      <td>Y</td>\n",
              "      <td>Works great</td>\n",
              "      <td>Works great!</td>\n",
              "      <td>8/31/2015</td>\n",
              "    </tr>\n",
              "    <tr>\n",
              "      <th>1</th>\n",
              "      <td>US</td>\n",
              "      <td>11599505</td>\n",
              "      <td>RE36JAD5V53PO</td>\n",
              "      <td>B0009XH6V4</td>\n",
              "      <td>670161917</td>\n",
              "      <td>andis micro turbo hair dryer</td>\n",
              "      <td>Beauty</td>\n",
              "      <td>4</td>\n",
              "      <td>0</td>\n",
              "      <td>0</td>\n",
              "      <td>N</td>\n",
              "      <td>Y</td>\n",
              "      <td>I love travel blow dryers because they are eas...</td>\n",
              "      <td>This dries my hair faster that bigger, more po...</td>\n",
              "      <td>8/31/2015</td>\n",
              "    </tr>\n",
              "    <tr>\n",
              "      <th>2</th>\n",
              "      <td>US</td>\n",
              "      <td>2282190</td>\n",
              "      <td>RIDHM8B7SCCV3</td>\n",
              "      <td>B0007NZPY6</td>\n",
              "      <td>16483457</td>\n",
              "      <td>conair pro hair dryer</td>\n",
              "      <td>Beauty</td>\n",
              "      <td>5</td>\n",
              "      <td>0</td>\n",
              "      <td>1</td>\n",
              "      <td>N</td>\n",
              "      <td>Y</td>\n",
              "      <td>Five Stars</td>\n",
              "      <td>Love this dryer!</td>\n",
              "      <td>8/31/2015</td>\n",
              "    </tr>\n",
              "    <tr>\n",
              "      <th>3</th>\n",
              "      <td>US</td>\n",
              "      <td>43669858</td>\n",
              "      <td>R14QGWPCHU9LSE</td>\n",
              "      <td>B00BB8ZIW0</td>\n",
              "      <td>253917972</td>\n",
              "      <td>remington silk ceramic professional hair dryer</td>\n",
              "      <td>Beauty</td>\n",
              "      <td>5</td>\n",
              "      <td>0</td>\n",
              "      <td>0</td>\n",
              "      <td>N</td>\n",
              "      <td>Y</td>\n",
              "      <td>Five Stars</td>\n",
              "      <td>styling hair in style</td>\n",
              "      <td>8/31/2015</td>\n",
              "    </tr>\n",
              "    <tr>\n",
              "      <th>4</th>\n",
              "      <td>US</td>\n",
              "      <td>107098</td>\n",
              "      <td>R35BHQJHXXJD59</td>\n",
              "      <td>B003V264WW</td>\n",
              "      <td>732252283</td>\n",
              "      <td>remington ac2015 t|studio salon collection pea...</td>\n",
              "      <td>Beauty</td>\n",
              "      <td>4</td>\n",
              "      <td>0</td>\n",
              "      <td>0</td>\n",
              "      <td>N</td>\n",
              "      <td>N</td>\n",
              "      <td>I think's great. The cord length is perfect</td>\n",
              "      <td>I just got this last week. I think's great. Th...</td>\n",
              "      <td>8/31/2015</td>\n",
              "    </tr>\n",
              "    <tr>\n",
              "      <th>5</th>\n",
              "      <td>US</td>\n",
              "      <td>51995766</td>\n",
              "      <td>R230LCPQDOFJJZ</td>\n",
              "      <td>B000065DJY</td>\n",
              "      <td>919751065</td>\n",
              "      <td>revlon 1875w volumizing hair dryer</td>\n",
              "      <td>Beauty</td>\n",
              "      <td>5</td>\n",
              "      <td>0</td>\n",
              "      <td>0</td>\n",
              "      <td>N</td>\n",
              "      <td>Y</td>\n",
              "      <td>Five Stars</td>\n",
              "      <td>Excellent dryer.</td>\n",
              "      <td>8/31/2015</td>\n",
              "    </tr>\n",
              "    <tr>\n",
              "      <th>6</th>\n",
              "      <td>US</td>\n",
              "      <td>39431051</td>\n",
              "      <td>R21NN9ONVZITI0</td>\n",
              "      <td>B000FS1W4U</td>\n",
              "      <td>235105995</td>\n",
              "      <td>revlon essentials 1875w fast dry hair dryer, r...</td>\n",
              "      <td>Beauty</td>\n",
              "      <td>1</td>\n",
              "      <td>0</td>\n",
              "      <td>0</td>\n",
              "      <td>N</td>\n",
              "      <td>N</td>\n",
              "      <td>Gets extremely hot - I have burned my hand on ...</td>\n",
              "      <td>Gets extremely hot - I have burned my hand on ...</td>\n",
              "      <td>8/31/2015</td>\n",
              "    </tr>\n",
              "    <tr>\n",
              "      <th>7</th>\n",
              "      <td>US</td>\n",
              "      <td>180659</td>\n",
              "      <td>RYOOYLVIAHU2A</td>\n",
              "      <td>B003FBG88E</td>\n",
              "      <td>195677102</td>\n",
              "      <td>conair pro styler ionic conditioning hair dryer</td>\n",
              "      <td>Beauty</td>\n",
              "      <td>3</td>\n",
              "      <td>1</td>\n",
              "      <td>1</td>\n",
              "      <td>N</td>\n",
              "      <td>Y</td>\n",
              "      <td>Everything okay but.....!!</td>\n",
              "      <td>I found everything goes well except the plug. ...</td>\n",
              "      <td>8/31/2015</td>\n",
              "    </tr>\n",
              "  </tbody>\n",
              "</table>\n",
              "</div>"
            ],
            "text/plain": [
              "  marketplace  ...  review_date\n",
              "0          US  ...    8/31/2015\n",
              "1          US  ...    8/31/2015\n",
              "2          US  ...    8/31/2015\n",
              "3          US  ...    8/31/2015\n",
              "4          US  ...    8/31/2015\n",
              "5          US  ...    8/31/2015\n",
              "6          US  ...    8/31/2015\n",
              "7          US  ...    8/31/2015\n",
              "\n",
              "[8 rows x 15 columns]"
            ]
          },
          "metadata": {
            "tags": []
          },
          "execution_count": 25
        }
      ]
    },
    {
      "cell_type": "code",
      "metadata": {
        "id": "l8QNakXNqy9e",
        "colab_type": "code",
        "colab": {
          "base_uri": "https://localhost:8080/",
          "height": 284
        },
        "outputId": "132737a9-54f4-4c34-83e7-bcf9e05a7474"
      },
      "source": [
        "hair.describe()"
      ],
      "execution_count": 26,
      "outputs": [
        {
          "output_type": "execute_result",
          "data": {
            "text/html": [
              "<div>\n",
              "<style scoped>\n",
              "    .dataframe tbody tr th:only-of-type {\n",
              "        vertical-align: middle;\n",
              "    }\n",
              "\n",
              "    .dataframe tbody tr th {\n",
              "        vertical-align: top;\n",
              "    }\n",
              "\n",
              "    .dataframe thead th {\n",
              "        text-align: right;\n",
              "    }\n",
              "</style>\n",
              "<table border=\"1\" class=\"dataframe\">\n",
              "  <thead>\n",
              "    <tr style=\"text-align: right;\">\n",
              "      <th></th>\n",
              "      <th>customer_id</th>\n",
              "      <th>product_parent</th>\n",
              "      <th>star_rating</th>\n",
              "      <th>helpful_votes</th>\n",
              "      <th>total_votes</th>\n",
              "    </tr>\n",
              "  </thead>\n",
              "  <tbody>\n",
              "    <tr>\n",
              "      <th>count</th>\n",
              "      <td>1.147000e+04</td>\n",
              "      <td>1.147000e+04</td>\n",
              "      <td>11470.000000</td>\n",
              "      <td>11470.000000</td>\n",
              "      <td>11470.000000</td>\n",
              "    </tr>\n",
              "    <tr>\n",
              "      <th>mean</th>\n",
              "      <td>2.815122e+07</td>\n",
              "      <td>4.846338e+08</td>\n",
              "      <td>4.116042</td>\n",
              "      <td>2.179076</td>\n",
              "      <td>2.563296</td>\n",
              "    </tr>\n",
              "    <tr>\n",
              "      <th>std</th>\n",
              "      <td>1.523877e+07</td>\n",
              "      <td>2.873240e+08</td>\n",
              "      <td>1.300333</td>\n",
              "      <td>14.241304</td>\n",
              "      <td>15.382528</td>\n",
              "    </tr>\n",
              "    <tr>\n",
              "      <th>min</th>\n",
              "      <td>1.246400e+04</td>\n",
              "      <td>4.239600e+05</td>\n",
              "      <td>1.000000</td>\n",
              "      <td>0.000000</td>\n",
              "      <td>0.000000</td>\n",
              "    </tr>\n",
              "    <tr>\n",
              "      <th>25%</th>\n",
              "      <td>1.491441e+07</td>\n",
              "      <td>2.351060e+08</td>\n",
              "      <td>4.000000</td>\n",
              "      <td>0.000000</td>\n",
              "      <td>0.000000</td>\n",
              "    </tr>\n",
              "    <tr>\n",
              "      <th>50%</th>\n",
              "      <td>2.707123e+07</td>\n",
              "      <td>4.867740e+08</td>\n",
              "      <td>5.000000</td>\n",
              "      <td>0.000000</td>\n",
              "      <td>0.000000</td>\n",
              "    </tr>\n",
              "    <tr>\n",
              "      <th>75%</th>\n",
              "      <td>4.233644e+07</td>\n",
              "      <td>7.322523e+08</td>\n",
              "      <td>5.000000</td>\n",
              "      <td>1.000000</td>\n",
              "      <td>1.000000</td>\n",
              "    </tr>\n",
              "    <tr>\n",
              "      <th>max</th>\n",
              "      <td>5.309637e+07</td>\n",
              "      <td>9.994366e+08</td>\n",
              "      <td>5.000000</td>\n",
              "      <td>499.000000</td>\n",
              "      <td>575.000000</td>\n",
              "    </tr>\n",
              "  </tbody>\n",
              "</table>\n",
              "</div>"
            ],
            "text/plain": [
              "        customer_id  product_parent   star_rating  helpful_votes   total_votes\n",
              "count  1.147000e+04    1.147000e+04  11470.000000   11470.000000  11470.000000\n",
              "mean   2.815122e+07    4.846338e+08      4.116042       2.179076      2.563296\n",
              "std    1.523877e+07    2.873240e+08      1.300333      14.241304     15.382528\n",
              "min    1.246400e+04    4.239600e+05      1.000000       0.000000      0.000000\n",
              "25%    1.491441e+07    2.351060e+08      4.000000       0.000000      0.000000\n",
              "50%    2.707123e+07    4.867740e+08      5.000000       0.000000      0.000000\n",
              "75%    4.233644e+07    7.322523e+08      5.000000       1.000000      1.000000\n",
              "max    5.309637e+07    9.994366e+08      5.000000     499.000000    575.000000"
            ]
          },
          "metadata": {
            "tags": []
          },
          "execution_count": 26
        }
      ]
    },
    {
      "cell_type": "code",
      "metadata": {
        "id": "0NxUaHs0qy9i",
        "colab_type": "code",
        "colab": {
          "base_uri": "https://localhost:8080/",
          "height": 353
        },
        "outputId": "9bb87cb9-2f73-460f-fcd0-dfed567ac59c"
      },
      "source": [
        "hair.info()"
      ],
      "execution_count": 27,
      "outputs": [
        {
          "output_type": "stream",
          "text": [
            "<class 'pandas.core.frame.DataFrame'>\n",
            "RangeIndex: 11470 entries, 0 to 11469\n",
            "Data columns (total 15 columns):\n",
            "marketplace          11470 non-null object\n",
            "customer_id          11470 non-null int64\n",
            "review_id            11470 non-null object\n",
            "product_id           11470 non-null object\n",
            "product_parent       11470 non-null int64\n",
            "product_title        11470 non-null object\n",
            "product_category     11470 non-null object\n",
            "star_rating          11470 non-null int64\n",
            "helpful_votes        11470 non-null int64\n",
            "total_votes          11470 non-null int64\n",
            "vine                 11470 non-null object\n",
            "verified_purchase    11470 non-null object\n",
            "review_headline      11468 non-null object\n",
            "review_body          11470 non-null object\n",
            "review_date          11470 non-null object\n",
            "dtypes: int64(5), object(10)\n",
            "memory usage: 1.3+ MB\n"
          ],
          "name": "stdout"
        }
      ]
    },
    {
      "cell_type": "code",
      "metadata": {
        "id": "CDwKZEw6qy9l",
        "colab_type": "code",
        "colab": {
          "base_uri": "https://localhost:8080/",
          "height": 791
        },
        "outputId": "bec2ee4d-17c9-4f0c-c93b-ac858e011679"
      },
      "source": [
        "micro.head(8)"
      ],
      "execution_count": 28,
      "outputs": [
        {
          "output_type": "execute_result",
          "data": {
            "text/html": [
              "<div>\n",
              "<style scoped>\n",
              "    .dataframe tbody tr th:only-of-type {\n",
              "        vertical-align: middle;\n",
              "    }\n",
              "\n",
              "    .dataframe tbody tr th {\n",
              "        vertical-align: top;\n",
              "    }\n",
              "\n",
              "    .dataframe thead th {\n",
              "        text-align: right;\n",
              "    }\n",
              "</style>\n",
              "<table border=\"1\" class=\"dataframe\">\n",
              "  <thead>\n",
              "    <tr style=\"text-align: right;\">\n",
              "      <th></th>\n",
              "      <th>marketplace</th>\n",
              "      <th>customer_id</th>\n",
              "      <th>review_id</th>\n",
              "      <th>product_id</th>\n",
              "      <th>product_parent</th>\n",
              "      <th>product_title</th>\n",
              "      <th>product_category</th>\n",
              "      <th>star_rating</th>\n",
              "      <th>helpful_votes</th>\n",
              "      <th>total_votes</th>\n",
              "      <th>vine</th>\n",
              "      <th>verified_purchase</th>\n",
              "      <th>review_headline</th>\n",
              "      <th>review_body</th>\n",
              "      <th>review_date</th>\n",
              "    </tr>\n",
              "  </thead>\n",
              "  <tbody>\n",
              "    <tr>\n",
              "      <th>0</th>\n",
              "      <td>US</td>\n",
              "      <td>21879631</td>\n",
              "      <td>RY52KZABZK8QF</td>\n",
              "      <td>B0052G14E8</td>\n",
              "      <td>423421857</td>\n",
              "      <td>danby 0.7 cu.ft. countertop microwave</td>\n",
              "      <td>Major Appliances</td>\n",
              "      <td>1</td>\n",
              "      <td>0</td>\n",
              "      <td>0</td>\n",
              "      <td>N</td>\n",
              "      <td>Y</td>\n",
              "      <td>Do not recommend it. go use your money for som...</td>\n",
              "      <td>3 of the buttons stopped working after a month...</td>\n",
              "      <td>8/31/2015</td>\n",
              "    </tr>\n",
              "    <tr>\n",
              "      <th>1</th>\n",
              "      <td>US</td>\n",
              "      <td>14964566</td>\n",
              "      <td>R3GCOEV4HYZG2I</td>\n",
              "      <td>B0055UBB4O</td>\n",
              "      <td>423421857</td>\n",
              "      <td>danby 0.7 cu.ft. countertop microwave</td>\n",
              "      <td>Major Appliances</td>\n",
              "      <td>5</td>\n",
              "      <td>0</td>\n",
              "      <td>0</td>\n",
              "      <td>N</td>\n",
              "      <td>Y</td>\n",
              "      <td>Looks as good as the picture</td>\n",
              "      <td>Didn't use it long so I can't attest to that b...</td>\n",
              "      <td>8/31/2015</td>\n",
              "    </tr>\n",
              "    <tr>\n",
              "      <th>2</th>\n",
              "      <td>US</td>\n",
              "      <td>13230389</td>\n",
              "      <td>R1V2OPPNL0QGCE</td>\n",
              "      <td>B0052G14E8</td>\n",
              "      <td>423421857</td>\n",
              "      <td>danby 0.7 cu.ft. countertop microwave</td>\n",
              "      <td>Major Appliances</td>\n",
              "      <td>4</td>\n",
              "      <td>0</td>\n",
              "      <td>0</td>\n",
              "      <td>N</td>\n",
              "      <td>Y</td>\n",
              "      <td>Four Stars</td>\n",
              "      <td>Very nice microwave, great price</td>\n",
              "      <td>8/31/2015</td>\n",
              "    </tr>\n",
              "    <tr>\n",
              "      <th>3</th>\n",
              "      <td>US</td>\n",
              "      <td>43655888</td>\n",
              "      <td>R9Q0QDTLKV567</td>\n",
              "      <td>B004ZU09QQ</td>\n",
              "      <td>423421857</td>\n",
              "      <td>danby 0.7 cu.ft. countertop microwave</td>\n",
              "      <td>Major Appliances</td>\n",
              "      <td>3</td>\n",
              "      <td>0</td>\n",
              "      <td>1</td>\n",
              "      <td>N</td>\n",
              "      <td>Y</td>\n",
              "      <td>quiet</td>\n",
              "      <td>Quiet, but does not seem like 1000 watt power.</td>\n",
              "      <td>8/31/2015</td>\n",
              "    </tr>\n",
              "    <tr>\n",
              "      <th>4</th>\n",
              "      <td>US</td>\n",
              "      <td>117794</td>\n",
              "      <td>R3DL7HYC3QTWNI</td>\n",
              "      <td>B005GSZB7I</td>\n",
              "      <td>827502283</td>\n",
              "      <td>whirlpool stainless look countertop microwave,...</td>\n",
              "      <td>Major Appliances</td>\n",
              "      <td>4</td>\n",
              "      <td>0</td>\n",
              "      <td>0</td>\n",
              "      <td>N</td>\n",
              "      <td>Y</td>\n",
              "      <td>Four Stars</td>\n",
              "      <td>It's bigger than I thought.</td>\n",
              "      <td>8/31/2015</td>\n",
              "    </tr>\n",
              "    <tr>\n",
              "      <th>5</th>\n",
              "      <td>US</td>\n",
              "      <td>16018452</td>\n",
              "      <td>R3M88678ZYC6WI</td>\n",
              "      <td>B004ZU09QQ</td>\n",
              "      <td>423421857</td>\n",
              "      <td>danby 0.7 cu.ft. countertop microwave</td>\n",
              "      <td>Major Appliances</td>\n",
              "      <td>5</td>\n",
              "      <td>0</td>\n",
              "      <td>0</td>\n",
              "      <td>N</td>\n",
              "      <td>Y</td>\n",
              "      <td>Great Microwave</td>\n",
              "      <td>Really love this microwave. Has the one touch ...</td>\n",
              "      <td>8/31/2015</td>\n",
              "    </tr>\n",
              "    <tr>\n",
              "      <th>6</th>\n",
              "      <td>US</td>\n",
              "      <td>50761053</td>\n",
              "      <td>R2G20T7N6L3HO1</td>\n",
              "      <td>B001QFYDSI</td>\n",
              "      <td>295520151</td>\n",
              "      <td>sharp microwave drawer oven</td>\n",
              "      <td>Major Appliances</td>\n",
              "      <td>1</td>\n",
              "      <td>0</td>\n",
              "      <td>0</td>\n",
              "      <td>N</td>\n",
              "      <td>N</td>\n",
              "      <td>Stopped working after 2 years</td>\n",
              "      <td>We bought this microwave 2 years ago as part o...</td>\n",
              "      <td>8/30/2015</td>\n",
              "    </tr>\n",
              "    <tr>\n",
              "      <th>7</th>\n",
              "      <td>US</td>\n",
              "      <td>21924164</td>\n",
              "      <td>R29F0E6EJJCEEM</td>\n",
              "      <td>B004ZUWBVW</td>\n",
              "      <td>423421857</td>\n",
              "      <td>danby 0.7 cu.ft. countertop microwave</td>\n",
              "      <td>Major Appliances</td>\n",
              "      <td>4</td>\n",
              "      <td>0</td>\n",
              "      <td>0</td>\n",
              "      <td>N</td>\n",
              "      <td>Y</td>\n",
              "      <td>Was pleased with the packaging and easy instru...</td>\n",
              "      <td>Was pleased with the packaging and easy instru...</td>\n",
              "      <td>8/29/2015</td>\n",
              "    </tr>\n",
              "  </tbody>\n",
              "</table>\n",
              "</div>"
            ],
            "text/plain": [
              "  marketplace  ...  review_date\n",
              "0          US  ...    8/31/2015\n",
              "1          US  ...    8/31/2015\n",
              "2          US  ...    8/31/2015\n",
              "3          US  ...    8/31/2015\n",
              "4          US  ...    8/31/2015\n",
              "5          US  ...    8/31/2015\n",
              "6          US  ...    8/30/2015\n",
              "7          US  ...    8/29/2015\n",
              "\n",
              "[8 rows x 15 columns]"
            ]
          },
          "metadata": {
            "tags": []
          },
          "execution_count": 28
        }
      ]
    },
    {
      "cell_type": "code",
      "metadata": {
        "id": "xM12wMR4qy9o",
        "colab_type": "code",
        "colab": {
          "base_uri": "https://localhost:8080/",
          "height": 286
        },
        "outputId": "1de4b1fb-00ad-4a68-db99-2d7b52d332d0"
      },
      "source": [
        "micro.dtypes"
      ],
      "execution_count": 29,
      "outputs": [
        {
          "output_type": "execute_result",
          "data": {
            "text/plain": [
              "marketplace          object\n",
              "customer_id           int64\n",
              "review_id            object\n",
              "product_id           object\n",
              "product_parent        int64\n",
              "product_title        object\n",
              "product_category     object\n",
              "star_rating           int64\n",
              "helpful_votes         int64\n",
              "total_votes           int64\n",
              "vine                 object\n",
              "verified_purchase    object\n",
              "review_headline      object\n",
              "review_body          object\n",
              "review_date          object\n",
              "dtype: object"
            ]
          },
          "metadata": {
            "tags": []
          },
          "execution_count": 29
        }
      ]
    },
    {
      "cell_type": "code",
      "metadata": {
        "id": "cf4OdYsnqy9r",
        "colab_type": "code",
        "colab": {
          "base_uri": "https://localhost:8080/",
          "height": 857
        },
        "outputId": "e22092ca-e132-4287-991b-382051295664"
      },
      "source": [
        "print(hair[:].nunique())\n",
        "print()\n",
        "print(micro.nunique())\n",
        "print()\n",
        "print(baby[:].nunique())"
      ],
      "execution_count": 30,
      "outputs": [
        {
          "output_type": "stream",
          "text": [
            "marketplace              1\n",
            "customer_id          11348\n",
            "review_id            11470\n",
            "product_id             538\n",
            "product_parent         473\n",
            "product_title          503\n",
            "product_category         1\n",
            "star_rating              5\n",
            "helpful_votes          111\n",
            "total_votes            119\n",
            "vine                     2\n",
            "verified_purchase        2\n",
            "review_headline       7696\n",
            "review_body          11197\n",
            "review_date           2307\n",
            "dtype: int64\n",
            "\n",
            "marketplace             2\n",
            "customer_id          1612\n",
            "review_id            1615\n",
            "product_id             80\n",
            "product_parent         55\n",
            "product_title          58\n",
            "product_category        2\n",
            "star_rating             5\n",
            "helpful_votes          67\n",
            "total_votes            75\n",
            "vine                    3\n",
            "verified_purchase       4\n",
            "review_headline      1346\n",
            "review_body          1601\n",
            "review_date           906\n",
            "dtype: int64\n",
            "\n",
            "marketplace              2\n",
            "customer_id          17661\n",
            "review_id            18939\n",
            "product_id            6482\n",
            "product_parent        5432\n",
            "product_title         5533\n",
            "product_category         2\n",
            "star_rating              5\n",
            "helpful_votes           76\n",
            "total_votes             79\n",
            "vine                     4\n",
            "verified_purchase        4\n",
            "review_headline      12611\n",
            "review_body          18085\n",
            "review_date           1908\n",
            "dtype: int64\n"
          ],
          "name": "stdout"
        }
      ]
    },
    {
      "cell_type": "code",
      "metadata": {
        "id": "y7nzCUclqy9u",
        "colab_type": "code",
        "colab": {
          "base_uri": "https://localhost:8080/",
          "height": 34
        },
        "outputId": "235d97e1-1a68-47ac-a36a-64ad36f73a04"
      },
      "source": [
        "baby[\"marketplace\"].unique()"
      ],
      "execution_count": 31,
      "outputs": [
        {
          "output_type": "execute_result",
          "data": {
            "text/plain": [
              "array(['US', 'us'], dtype=object)"
            ]
          },
          "metadata": {
            "tags": []
          },
          "execution_count": 31
        }
      ]
    },
    {
      "cell_type": "code",
      "metadata": {
        "id": "phr9NvKgqy9x",
        "colab_type": "code",
        "colab": {}
      },
      "source": [
        "hair = hair.drop([\"marketplace\", \"product_category\"], axis=1)\n",
        "micro = micro.drop([\"marketplace\", \"product_category\"], axis=1)\n",
        "baby = baby.drop([\"marketplace\", \"product_category\"], axis=1)"
      ],
      "execution_count": 0,
      "outputs": []
    },
    {
      "cell_type": "code",
      "metadata": {
        "id": "QxbU5kYXqy90",
        "colab_type": "code",
        "colab": {
          "base_uri": "https://localhost:8080/",
          "height": 34
        },
        "outputId": "fa1c0941-41ba-4959-a475-dd0871b2e8dd"
      },
      "source": [
        "baby[\"review_date\"].nunique()"
      ],
      "execution_count": 33,
      "outputs": [
        {
          "output_type": "execute_result",
          "data": {
            "text/plain": [
              "1908"
            ]
          },
          "metadata": {
            "tags": []
          },
          "execution_count": 33
        }
      ]
    },
    {
      "cell_type": "code",
      "metadata": {
        "id": "BLxCPu1sqy92",
        "colab_type": "code",
        "colab": {
          "base_uri": "https://localhost:8080/",
          "height": 252
        },
        "outputId": "0d81644e-c7a5-40b6-fbc0-3fda6a74e77f"
      },
      "source": [
        "hair.isnull().sum()"
      ],
      "execution_count": 34,
      "outputs": [
        {
          "output_type": "execute_result",
          "data": {
            "text/plain": [
              "customer_id          0\n",
              "review_id            0\n",
              "product_id           0\n",
              "product_parent       0\n",
              "product_title        0\n",
              "star_rating          0\n",
              "helpful_votes        0\n",
              "total_votes          0\n",
              "vine                 0\n",
              "verified_purchase    0\n",
              "review_headline      2\n",
              "review_body          0\n",
              "review_date          0\n",
              "dtype: int64"
            ]
          },
          "metadata": {
            "tags": []
          },
          "execution_count": 34
        }
      ]
    },
    {
      "cell_type": "code",
      "metadata": {
        "id": "ozt3iXs6qy94",
        "colab_type": "code",
        "colab": {
          "base_uri": "https://localhost:8080/",
          "height": 225
        },
        "outputId": "bec64f03-0285-40c5-b155-eb7d6cf0f35d"
      },
      "source": [
        "micro.loc[micro['verified_purchase']=='Y', ['review_date', 'star_rating']].plot(x='review_date', y='star_rating', title='Micro', figsize=(30, 2))"
      ],
      "execution_count": 35,
      "outputs": [
        {
          "output_type": "execute_result",
          "data": {
            "text/plain": [
              "<matplotlib.axes._subplots.AxesSubplot at 0x7f11886a8710>"
            ]
          },
          "metadata": {
            "tags": []
          },
          "execution_count": 35
        },
        {
          "output_type": "display_data",
          "data": {
            "image/png": "[encoded data removed]",
            "text/plain": [
              "<Figure size 2160x144 with 1 Axes>"
            ]
          },
          "metadata": {
            "tags": []
          }
        }
      ]
    },
    {
      "cell_type": "code",
      "metadata": {
        "id": "mk2-2--Sqy-C",
        "colab_type": "code",
        "colab": {
          "base_uri": "https://localhost:8080/",
          "height": 282
        },
        "outputId": "72148f54-3d9f-42a6-f804-7b3f3e7b2308"
      },
      "source": [
        "plt.figure(figsize=(20, 4))\n",
        "plt.scatter(micro['review_date'], micro['star_rating'])"
      ],
      "execution_count": 37,
      "outputs": [
        {
          "output_type": "execute_result",
          "data": {
            "text/plain": [
              "<matplotlib.collections.PathCollection at 0x7f118e162b70>"
            ]
          },
          "metadata": {
            "tags": []
          },
          "execution_count": 37
        },
        {
          "output_type": "display_data",
          "data": {
            "image/png": "[encoded data removed]",
            "text/plain": [
              "<Figure size 1440x288 with 1 Axes>"
            ]
          },
          "metadata": {
            "tags": []
          }
        }
      ]
    },
    {
      "cell_type": "code",
      "metadata": {
        "id": "3v4T61JQqy-L",
        "colab_type": "code",
        "colab": {
          "base_uri": "https://localhost:8080/",
          "height": 690
        },
        "outputId": "1bfa38cc-cdda-4849-9601-f852bf944ffb"
      },
      "source": [
        "baby.head(8)"
      ],
      "execution_count": 39,
      "outputs": [
        {
          "output_type": "execute_result",
          "data": {
            "text/html": [
              "<div>\n",
              "<style scoped>\n",
              "    .dataframe tbody tr th:only-of-type {\n",
              "        vertical-align: middle;\n",
              "    }\n",
              "\n",
              "    .dataframe tbody tr th {\n",
              "        vertical-align: top;\n",
              "    }\n",
              "\n",
              "    .dataframe thead th {\n",
              "        text-align: right;\n",
              "    }\n",
              "</style>\n",
              "<table border=\"1\" class=\"dataframe\">\n",
              "  <thead>\n",
              "    <tr style=\"text-align: right;\">\n",
              "      <th></th>\n",
              "      <th>customer_id</th>\n",
              "      <th>review_id</th>\n",
              "      <th>product_id</th>\n",
              "      <th>product_parent</th>\n",
              "      <th>product_title</th>\n",
              "      <th>star_rating</th>\n",
              "      <th>helpful_votes</th>\n",
              "      <th>total_votes</th>\n",
              "      <th>vine</th>\n",
              "      <th>verified_purchase</th>\n",
              "      <th>review_headline</th>\n",
              "      <th>review_body</th>\n",
              "      <th>review_date</th>\n",
              "    </tr>\n",
              "  </thead>\n",
              "  <tbody>\n",
              "    <tr>\n",
              "      <th>0</th>\n",
              "      <td>40626522</td>\n",
              "      <td>R1A3ZUBR8TSAKY</td>\n",
              "      <td>B00793CZAE</td>\n",
              "      <td>572944212</td>\n",
              "      <td>mary meyer wubbanub plush pacifier, lamb</td>\n",
              "      <td>5</td>\n",
              "      <td>0</td>\n",
              "      <td>0</td>\n",
              "      <td>N</td>\n",
              "      <td>Y</td>\n",
              "      <td>Love this!</td>\n",
              "      <td>Perfect match for the Gund Huggybuddy I bought...</td>\n",
              "      <td>8/31/2015</td>\n",
              "    </tr>\n",
              "    <tr>\n",
              "      <th>1</th>\n",
              "      <td>16290022</td>\n",
              "      <td>RLJNYBK4FGBYX</td>\n",
              "      <td>B003PCYMP4</td>\n",
              "      <td>911821018</td>\n",
              "      <td>wubbanub lamb infant pacifier</td>\n",
              "      <td>5</td>\n",
              "      <td>0</td>\n",
              "      <td>0</td>\n",
              "      <td>N</td>\n",
              "      <td>Y</td>\n",
              "      <td>Love 💕</td>\n",
              "      <td>My little girl love this paci contraption!</td>\n",
              "      <td>8/31/2015</td>\n",
              "    </tr>\n",
              "    <tr>\n",
              "      <th>2</th>\n",
              "      <td>10216509</td>\n",
              "      <td>R26QCW75C4JDOK</td>\n",
              "      <td>B003CK3LDI</td>\n",
              "      <td>392768822</td>\n",
              "      <td>wubbanub infant pacifier - giraffe</td>\n",
              "      <td>5</td>\n",
              "      <td>0</td>\n",
              "      <td>0</td>\n",
              "      <td>N</td>\n",
              "      <td>Y</td>\n",
              "      <td>Five Stars</td>\n",
              "      <td>My son loves this one and will only sleep if h...</td>\n",
              "      <td>8/31/2015</td>\n",
              "    </tr>\n",
              "    <tr>\n",
              "      <th>3</th>\n",
              "      <td>114040</td>\n",
              "      <td>R2E7N0TVLUHUDR</td>\n",
              "      <td>B003CK3LDI</td>\n",
              "      <td>392768822</td>\n",
              "      <td>wubbanub infant pacifier - giraffe</td>\n",
              "      <td>5</td>\n",
              "      <td>0</td>\n",
              "      <td>0</td>\n",
              "      <td>N</td>\n",
              "      <td>Y</td>\n",
              "      <td>Five Stars</td>\n",
              "      <td>Perfect</td>\n",
              "      <td>8/31/2015</td>\n",
              "    </tr>\n",
              "    <tr>\n",
              "      <th>4</th>\n",
              "      <td>27971579</td>\n",
              "      <td>R1SO9VMCIGZX3U</td>\n",
              "      <td>B003PCYMP4</td>\n",
              "      <td>911821018</td>\n",
              "      <td>wubbanub lamb infant pacifier</td>\n",
              "      <td>5</td>\n",
              "      <td>0</td>\n",
              "      <td>0</td>\n",
              "      <td>N</td>\n",
              "      <td>Y</td>\n",
              "      <td>Five Stars</td>\n",
              "      <td>Amazing addition to the nursery!</td>\n",
              "      <td>8/31/2015</td>\n",
              "    </tr>\n",
              "    <tr>\n",
              "      <th>5</th>\n",
              "      <td>36369192</td>\n",
              "      <td>R2EUVAGKYPV8Z3</td>\n",
              "      <td>B00PF841HA</td>\n",
              "      <td>449026476</td>\n",
              "      <td>philips avent freeflow pacifier bpa, free blue...</td>\n",
              "      <td>5</td>\n",
              "      <td>0</td>\n",
              "      <td>0</td>\n",
              "      <td>N</td>\n",
              "      <td>Y</td>\n",
              "      <td>Five Stars</td>\n",
              "      <td>Great, breathable, and basic pacifier.</td>\n",
              "      <td>8/31/2015</td>\n",
              "    </tr>\n",
              "    <tr>\n",
              "      <th>6</th>\n",
              "      <td>18742061</td>\n",
              "      <td>R2EC65V4U7R8FZ</td>\n",
              "      <td>B0082I1IA8</td>\n",
              "      <td>218693378</td>\n",
              "      <td>mam glow in the dark night orthodontic pacifie...</td>\n",
              "      <td>5</td>\n",
              "      <td>0</td>\n",
              "      <td>0</td>\n",
              "      <td>N</td>\n",
              "      <td>Y</td>\n",
              "      <td>Five Stars</td>\n",
              "      <td>Great pacifiers</td>\n",
              "      <td>8/31/2015</td>\n",
              "    </tr>\n",
              "    <tr>\n",
              "      <th>7</th>\n",
              "      <td>15312194</td>\n",
              "      <td>RG9XY3EKPUCL1</td>\n",
              "      <td>B00067AUNY</td>\n",
              "      <td>957640647</td>\n",
              "      <td>dexbaby womb sounds bear audio pacifier, brown...</td>\n",
              "      <td>3</td>\n",
              "      <td>0</td>\n",
              "      <td>0</td>\n",
              "      <td>N</td>\n",
              "      <td>Y</td>\n",
              "      <td>Does the job</td>\n",
              "      <td>The bear does exactly what we ordered it to do...</td>\n",
              "      <td>8/31/2015</td>\n",
              "    </tr>\n",
              "  </tbody>\n",
              "</table>\n",
              "</div>"
            ],
            "text/plain": [
              "   customer_id  ... review_date\n",
              "0     40626522  ...   8/31/2015\n",
              "1     16290022  ...   8/31/2015\n",
              "2     10216509  ...   8/31/2015\n",
              "3       114040  ...   8/31/2015\n",
              "4     27971579  ...   8/31/2015\n",
              "5     36369192  ...   8/31/2015\n",
              "6     18742061  ...   8/31/2015\n",
              "7     15312194  ...   8/31/2015\n",
              "\n",
              "[8 rows x 13 columns]"
            ]
          },
          "metadata": {
            "tags": []
          },
          "execution_count": 39
        }
      ]
    },
    {
      "cell_type": "code",
      "metadata": {
        "id": "4D_5Y_51uY33",
        "colab_type": "code",
        "colab": {
          "base_uri": "https://localhost:8080/",
          "height": 101
        },
        "outputId": "a2d0e8c1-52f0-4924-e616-3e6299fcbd17"
      },
      "source": [
        "baby[\"verified_purchase\"].value_counts()"
      ],
      "execution_count": 40,
      "outputs": [
        {
          "output_type": "execute_result",
          "data": {
            "text/plain": [
              "Y    9791\n",
              "y    6470\n",
              "N    1407\n",
              "n    1271\n",
              "Name: verified_purchase, dtype: int64"
            ]
          },
          "metadata": {
            "tags": []
          },
          "execution_count": 40
        }
      ]
    },
    {
      "cell_type": "code",
      "metadata": {
        "id": "q0EVt7uVvqcc",
        "colab_type": "code",
        "colab": {}
      },
      "source": [
        "hair[\"verified_purchase\"] = hair[\"verified_purchase\"].str.upper()\n",
        "micro[\"verified_purchase\"] = micro[\"verified_purchase\"].str.upper()\n",
        "baby[\"verified_purchase\"] = baby[\"verified_purchase\"].str.upper()"
      ],
      "execution_count": 0,
      "outputs": []
    },
    {
      "cell_type": "code",
      "metadata": {
        "id": "x-pnoO9NwP5a",
        "colab_type": "code",
        "colab": {}
      },
      "source": [
        "baby = baby[baby[\"verified_purchase\"]=='Y']\n",
        "micro = micro[micro[\"verified_purchase\"]=='Y']\n",
        "hair = hair[hair[\"verified_purchase\"]=='Y']"
      ],
      "execution_count": 0,
      "outputs": []
    },
    {
      "cell_type": "code",
      "metadata": {
        "id": "a7EXmYUSyROj",
        "colab_type": "code",
        "colab": {}
      },
      "source": [
        "for data in [baby, micro, hair]:\n",
        "  data['yy'] = data['review_date'].apply(lambda x:x.split('/')[2])\n",
        "  data['dd'] = data['review_date'].apply(lambda x:x.split('/')[1])\n",
        "  data['mm'] = data['review_date'].apply(lambda x:x.split('/')[0])\n",
        "  data['yy'] = data['yy'].astype(int)\n",
        "  data['dd'] = data['dd'].astype(int)\n",
        "  data['mm'] = data['mm'].astype(int)"
      ],
      "execution_count": 0,
      "outputs": []
    },
    {
      "cell_type": "code",
      "metadata": {
        "id": "82Tv68wozwIT",
        "colab_type": "code",
        "colab": {}
      },
      "source": [
        "baby = baby.drop([\"verified_purchase\"], axis=1)\n",
        "micro = micro.drop([\"verified_purchase\"], axis=1)\n",
        "hair = hair.drop([\"verified_purchase\"], axis=1)"
      ],
      "execution_count": 0,
      "outputs": []
    },
    {
      "cell_type": "code",
      "metadata": {
        "id": "RoLjBXyGz3F2",
        "colab_type": "code",
        "colab": {
          "base_uri": "https://localhost:8080/",
          "height": 363
        },
        "outputId": "8083cc0c-22a9-49e3-83a8-f507e7d5c0fd"
      },
      "source": [
        "baby.head()"
      ],
      "execution_count": 63,
      "outputs": [
        {
          "output_type": "execute_result",
          "data": {
            "text/html": [
              "<div>\n",
              "<style scoped>\n",
              "    .dataframe tbody tr th:only-of-type {\n",
              "        vertical-align: middle;\n",
              "    }\n",
              "\n",
              "    .dataframe tbody tr th {\n",
              "        vertical-align: top;\n",
              "    }\n",
              "\n",
              "    .dataframe thead th {\n",
              "        text-align: right;\n",
              "    }\n",
              "</style>\n",
              "<table border=\"1\" class=\"dataframe\">\n",
              "  <thead>\n",
              "    <tr style=\"text-align: right;\">\n",
              "      <th></th>\n",
              "      <th>customer_id</th>\n",
              "      <th>review_id</th>\n",
              "      <th>product_id</th>\n",
              "      <th>product_parent</th>\n",
              "      <th>product_title</th>\n",
              "      <th>star_rating</th>\n",
              "      <th>helpful_votes</th>\n",
              "      <th>total_votes</th>\n",
              "      <th>vine</th>\n",
              "      <th>review_headline</th>\n",
              "      <th>review_body</th>\n",
              "      <th>yy</th>\n",
              "      <th>dd</th>\n",
              "      <th>mm</th>\n",
              "    </tr>\n",
              "  </thead>\n",
              "  <tbody>\n",
              "    <tr>\n",
              "      <th>0</th>\n",
              "      <td>40626522</td>\n",
              "      <td>R1A3ZUBR8TSAKY</td>\n",
              "      <td>B00793CZAE</td>\n",
              "      <td>572944212</td>\n",
              "      <td>mary meyer wubbanub plush pacifier, lamb</td>\n",
              "      <td>5</td>\n",
              "      <td>0</td>\n",
              "      <td>0</td>\n",
              "      <td>N</td>\n",
              "      <td>Love this!</td>\n",
              "      <td>Perfect match for the Gund Huggybuddy I bought...</td>\n",
              "      <td>2015</td>\n",
              "      <td>31</td>\n",
              "      <td>8</td>\n",
              "    </tr>\n",
              "    <tr>\n",
              "      <th>1</th>\n",
              "      <td>16290022</td>\n",
              "      <td>RLJNYBK4FGBYX</td>\n",
              "      <td>B003PCYMP4</td>\n",
              "      <td>911821018</td>\n",
              "      <td>wubbanub lamb infant pacifier</td>\n",
              "      <td>5</td>\n",
              "      <td>0</td>\n",
              "      <td>0</td>\n",
              "      <td>N</td>\n",
              "      <td>Love 💕</td>\n",
              "      <td>My little girl love this paci contraption!</td>\n",
              "      <td>2015</td>\n",
              "      <td>31</td>\n",
              "      <td>8</td>\n",
              "    </tr>\n",
              "    <tr>\n",
              "      <th>2</th>\n",
              "      <td>10216509</td>\n",
              "      <td>R26QCW75C4JDOK</td>\n",
              "      <td>B003CK3LDI</td>\n",
              "      <td>392768822</td>\n",
              "      <td>wubbanub infant pacifier - giraffe</td>\n",
              "      <td>5</td>\n",
              "      <td>0</td>\n",
              "      <td>0</td>\n",
              "      <td>N</td>\n",
              "      <td>Five Stars</td>\n",
              "      <td>My son loves this one and will only sleep if h...</td>\n",
              "      <td>2015</td>\n",
              "      <td>31</td>\n",
              "      <td>8</td>\n",
              "    </tr>\n",
              "    <tr>\n",
              "      <th>3</th>\n",
              "      <td>114040</td>\n",
              "      <td>R2E7N0TVLUHUDR</td>\n",
              "      <td>B003CK3LDI</td>\n",
              "      <td>392768822</td>\n",
              "      <td>wubbanub infant pacifier - giraffe</td>\n",
              "      <td>5</td>\n",
              "      <td>0</td>\n",
              "      <td>0</td>\n",
              "      <td>N</td>\n",
              "      <td>Five Stars</td>\n",
              "      <td>Perfect</td>\n",
              "      <td>2015</td>\n",
              "      <td>31</td>\n",
              "      <td>8</td>\n",
              "    </tr>\n",
              "    <tr>\n",
              "      <th>4</th>\n",
              "      <td>27971579</td>\n",
              "      <td>R1SO9VMCIGZX3U</td>\n",
              "      <td>B003PCYMP4</td>\n",
              "      <td>911821018</td>\n",
              "      <td>wubbanub lamb infant pacifier</td>\n",
              "      <td>5</td>\n",
              "      <td>0</td>\n",
              "      <td>0</td>\n",
              "      <td>N</td>\n",
              "      <td>Five Stars</td>\n",
              "      <td>Amazing addition to the nursery!</td>\n",
              "      <td>2015</td>\n",
              "      <td>31</td>\n",
              "      <td>8</td>\n",
              "    </tr>\n",
              "  </tbody>\n",
              "</table>\n",
              "</div>"
            ],
            "text/plain": [
              "   customer_id       review_id  product_id  ...    yy  dd  mm\n",
              "0     40626522  R1A3ZUBR8TSAKY  B00793CZAE  ...  2015  31   8\n",
              "1     16290022   RLJNYBK4FGBYX  B003PCYMP4  ...  2015  31   8\n",
              "2     10216509  R26QCW75C4JDOK  B003CK3LDI  ...  2015  31   8\n",
              "3       114040  R2E7N0TVLUHUDR  B003CK3LDI  ...  2015  31   8\n",
              "4     27971579  R1SO9VMCIGZX3U  B003PCYMP4  ...  2015  31   8\n",
              "\n",
              "[5 rows x 14 columns]"
            ]
          },
          "metadata": {
            "tags": []
          },
          "execution_count": 63
        }
      ]
    },
    {
      "cell_type": "code",
      "metadata": {
        "id": "yZ0ikx_b1g9T",
        "colab_type": "code",
        "colab": {}
      },
      "source": [
        "baby = baby.drop([\"vine\"], axis=1)\n",
        "micro = micro.drop([\"vine\"], axis=1)\n",
        "hair = hair.drop([\"vine\"], axis=1)"
      ],
      "execution_count": 0,
      "outputs": []
    },
    {
      "cell_type": "code",
      "metadata": {
        "id": "gXhyiziS1pxe",
        "colab_type": "code",
        "colab": {
          "base_uri": "https://localhost:8080/",
          "height": 346
        },
        "outputId": "cbead1d5-817a-41d9-d9d5-472584e564e9"
      },
      "source": [
        "baby.head()"
      ],
      "execution_count": 69,
      "outputs": [
        {
          "output_type": "execute_result",
          "data": {
            "text/html": [
              "<div>\n",
              "<style scoped>\n",
              "    .dataframe tbody tr th:only-of-type {\n",
              "        vertical-align: middle;\n",
              "    }\n",
              "\n",
              "    .dataframe tbody tr th {\n",
              "        vertical-align: top;\n",
              "    }\n",
              "\n",
              "    .dataframe thead th {\n",
              "        text-align: right;\n",
              "    }\n",
              "</style>\n",
              "<table border=\"1\" class=\"dataframe\">\n",
              "  <thead>\n",
              "    <tr style=\"text-align: right;\">\n",
              "      <th></th>\n",
              "      <th>customer_id</th>\n",
              "      <th>review_id</th>\n",
              "      <th>product_id</th>\n",
              "      <th>product_parent</th>\n",
              "      <th>product_title</th>\n",
              "      <th>star_rating</th>\n",
              "      <th>helpful_votes</th>\n",
              "      <th>total_votes</th>\n",
              "      <th>review_headline</th>\n",
              "      <th>review_body</th>\n",
              "      <th>yy</th>\n",
              "      <th>dd</th>\n",
              "      <th>mm</th>\n",
              "    </tr>\n",
              "  </thead>\n",
              "  <tbody>\n",
              "    <tr>\n",
              "      <th>0</th>\n",
              "      <td>40626522</td>\n",
              "      <td>R1A3ZUBR8TSAKY</td>\n",
              "      <td>B00793CZAE</td>\n",
              "      <td>572944212</td>\n",
              "      <td>mary meyer wubbanub plush pacifier, lamb</td>\n",
              "      <td>5</td>\n",
              "      <td>0</td>\n",
              "      <td>0</td>\n",
              "      <td>Love this!</td>\n",
              "      <td>Perfect match for the Gund Huggybuddy I bought...</td>\n",
              "      <td>2015</td>\n",
              "      <td>31</td>\n",
              "      <td>8</td>\n",
              "    </tr>\n",
              "    <tr>\n",
              "      <th>1</th>\n",
              "      <td>16290022</td>\n",
              "      <td>RLJNYBK4FGBYX</td>\n",
              "      <td>B003PCYMP4</td>\n",
              "      <td>911821018</td>\n",
              "      <td>wubbanub lamb infant pacifier</td>\n",
              "      <td>5</td>\n",
              "      <td>0</td>\n",
              "      <td>0</td>\n",
              "      <td>Love 💕</td>\n",
              "      <td>My little girl love this paci contraption!</td>\n",
              "      <td>2015</td>\n",
              "      <td>31</td>\n",
              "      <td>8</td>\n",
              "    </tr>\n",
              "    <tr>\n",
              "      <th>2</th>\n",
              "      <td>10216509</td>\n",
              "      <td>R26QCW75C4JDOK</td>\n",
              "      <td>B003CK3LDI</td>\n",
              "      <td>392768822</td>\n",
              "      <td>wubbanub infant pacifier - giraffe</td>\n",
              "      <td>5</td>\n",
              "      <td>0</td>\n",
              "      <td>0</td>\n",
              "      <td>Five Stars</td>\n",
              "      <td>My son loves this one and will only sleep if h...</td>\n",
              "      <td>2015</td>\n",
              "      <td>31</td>\n",
              "      <td>8</td>\n",
              "    </tr>\n",
              "    <tr>\n",
              "      <th>3</th>\n",
              "      <td>114040</td>\n",
              "      <td>R2E7N0TVLUHUDR</td>\n",
              "      <td>B003CK3LDI</td>\n",
              "      <td>392768822</td>\n",
              "      <td>wubbanub infant pacifier - giraffe</td>\n",
              "      <td>5</td>\n",
              "      <td>0</td>\n",
              "      <td>0</td>\n",
              "      <td>Five Stars</td>\n",
              "      <td>Perfect</td>\n",
              "      <td>2015</td>\n",
              "      <td>31</td>\n",
              "      <td>8</td>\n",
              "    </tr>\n",
              "    <tr>\n",
              "      <th>4</th>\n",
              "      <td>27971579</td>\n",
              "      <td>R1SO9VMCIGZX3U</td>\n",
              "      <td>B003PCYMP4</td>\n",
              "      <td>911821018</td>\n",
              "      <td>wubbanub lamb infant pacifier</td>\n",
              "      <td>5</td>\n",
              "      <td>0</td>\n",
              "      <td>0</td>\n",
              "      <td>Five Stars</td>\n",
              "      <td>Amazing addition to the nursery!</td>\n",
              "      <td>2015</td>\n",
              "      <td>31</td>\n",
              "      <td>8</td>\n",
              "    </tr>\n",
              "  </tbody>\n",
              "</table>\n",
              "</div>"
            ],
            "text/plain": [
              "   customer_id       review_id  product_id  ...    yy  dd  mm\n",
              "0     40626522  R1A3ZUBR8TSAKY  B00793CZAE  ...  2015  31   8\n",
              "1     16290022   RLJNYBK4FGBYX  B003PCYMP4  ...  2015  31   8\n",
              "2     10216509  R26QCW75C4JDOK  B003CK3LDI  ...  2015  31   8\n",
              "3       114040  R2E7N0TVLUHUDR  B003CK3LDI  ...  2015  31   8\n",
              "4     27971579  R1SO9VMCIGZX3U  B003PCYMP4  ...  2015  31   8\n",
              "\n",
              "[5 rows x 13 columns]"
            ]
          },
          "metadata": {
            "tags": []
          },
          "execution_count": 69
        }
      ]
    },
    {
      "cell_type": "code",
      "metadata": {
        "id": "sSGtenTr1u1q",
        "colab_type": "code",
        "colab": {}
      },
      "source": [
        "hair = hair.drop([\"review_date\"], axis=1)\n",
        "micro = micro.drop([\"review_date\"], axis=1)"
      ],
      "execution_count": 0,
      "outputs": []
    },
    {
      "cell_type": "code",
      "metadata": {
        "id": "VyDwHK3I1yeR",
        "colab_type": "code",
        "colab": {
          "base_uri": "https://localhost:8080/",
          "height": 296
        },
        "outputId": "1dd027a2-7cf9-4aa1-bcde-a4f00fe18c85"
      },
      "source": [
        "hair.head()"
      ],
      "execution_count": 73,
      "outputs": [
        {
          "output_type": "execute_result",
          "data": {
            "text/html": [
              "<div>\n",
              "<style scoped>\n",
              "    .dataframe tbody tr th:only-of-type {\n",
              "        vertical-align: middle;\n",
              "    }\n",
              "\n",
              "    .dataframe tbody tr th {\n",
              "        vertical-align: top;\n",
              "    }\n",
              "\n",
              "    .dataframe thead th {\n",
              "        text-align: right;\n",
              "    }\n",
              "</style>\n",
              "<table border=\"1\" class=\"dataframe\">\n",
              "  <thead>\n",
              "    <tr style=\"text-align: right;\">\n",
              "      <th></th>\n",
              "      <th>customer_id</th>\n",
              "      <th>review_id</th>\n",
              "      <th>product_id</th>\n",
              "      <th>product_parent</th>\n",
              "      <th>product_title</th>\n",
              "      <th>star_rating</th>\n",
              "      <th>helpful_votes</th>\n",
              "      <th>total_votes</th>\n",
              "      <th>review_headline</th>\n",
              "      <th>review_body</th>\n",
              "      <th>yy</th>\n",
              "      <th>dd</th>\n",
              "      <th>mm</th>\n",
              "    </tr>\n",
              "  </thead>\n",
              "  <tbody>\n",
              "    <tr>\n",
              "      <th>0</th>\n",
              "      <td>34678741</td>\n",
              "      <td>R9T1FE2ZX2X04</td>\n",
              "      <td>B003V264WW</td>\n",
              "      <td>732252283</td>\n",
              "      <td>remington ac2015 t|studio salon collection pea...</td>\n",
              "      <td>5</td>\n",
              "      <td>0</td>\n",
              "      <td>0</td>\n",
              "      <td>Works great</td>\n",
              "      <td>Works great!</td>\n",
              "      <td>2015</td>\n",
              "      <td>31</td>\n",
              "      <td>8</td>\n",
              "    </tr>\n",
              "    <tr>\n",
              "      <th>1</th>\n",
              "      <td>11599505</td>\n",
              "      <td>RE36JAD5V53PO</td>\n",
              "      <td>B0009XH6V4</td>\n",
              "      <td>670161917</td>\n",
              "      <td>andis micro turbo hair dryer</td>\n",
              "      <td>4</td>\n",
              "      <td>0</td>\n",
              "      <td>0</td>\n",
              "      <td>I love travel blow dryers because they are eas...</td>\n",
              "      <td>This dries my hair faster that bigger, more po...</td>\n",
              "      <td>2015</td>\n",
              "      <td>31</td>\n",
              "      <td>8</td>\n",
              "    </tr>\n",
              "    <tr>\n",
              "      <th>2</th>\n",
              "      <td>2282190</td>\n",
              "      <td>RIDHM8B7SCCV3</td>\n",
              "      <td>B0007NZPY6</td>\n",
              "      <td>16483457</td>\n",
              "      <td>conair pro hair dryer</td>\n",
              "      <td>5</td>\n",
              "      <td>0</td>\n",
              "      <td>1</td>\n",
              "      <td>Five Stars</td>\n",
              "      <td>Love this dryer!</td>\n",
              "      <td>2015</td>\n",
              "      <td>31</td>\n",
              "      <td>8</td>\n",
              "    </tr>\n",
              "    <tr>\n",
              "      <th>3</th>\n",
              "      <td>43669858</td>\n",
              "      <td>R14QGWPCHU9LSE</td>\n",
              "      <td>B00BB8ZIW0</td>\n",
              "      <td>253917972</td>\n",
              "      <td>remington silk ceramic professional hair dryer</td>\n",
              "      <td>5</td>\n",
              "      <td>0</td>\n",
              "      <td>0</td>\n",
              "      <td>Five Stars</td>\n",
              "      <td>styling hair in style</td>\n",
              "      <td>2015</td>\n",
              "      <td>31</td>\n",
              "      <td>8</td>\n",
              "    </tr>\n",
              "    <tr>\n",
              "      <th>5</th>\n",
              "      <td>51995766</td>\n",
              "      <td>R230LCPQDOFJJZ</td>\n",
              "      <td>B000065DJY</td>\n",
              "      <td>919751065</td>\n",
              "      <td>revlon 1875w volumizing hair dryer</td>\n",
              "      <td>5</td>\n",
              "      <td>0</td>\n",
              "      <td>0</td>\n",
              "      <td>Five Stars</td>\n",
              "      <td>Excellent dryer.</td>\n",
              "      <td>2015</td>\n",
              "      <td>31</td>\n",
              "      <td>8</td>\n",
              "    </tr>\n",
              "  </tbody>\n",
              "</table>\n",
              "</div>"
            ],
            "text/plain": [
              "   customer_id       review_id  product_id  ...    yy  dd  mm\n",
              "0     34678741   R9T1FE2ZX2X04  B003V264WW  ...  2015  31   8\n",
              "1     11599505   RE36JAD5V53PO  B0009XH6V4  ...  2015  31   8\n",
              "2      2282190   RIDHM8B7SCCV3  B0007NZPY6  ...  2015  31   8\n",
              "3     43669858  R14QGWPCHU9LSE  B00BB8ZIW0  ...  2015  31   8\n",
              "5     51995766  R230LCPQDOFJJZ  B000065DJY  ...  2015  31   8\n",
              "\n",
              "[5 rows x 13 columns]"
            ]
          },
          "metadata": {
            "tags": []
          },
          "execution_count": 73
        }
      ]
    },
    {
      "cell_type": "code",
      "metadata": {
        "id": "46RN-0Rj2Jb_",
        "colab_type": "code",
        "colab": {
          "base_uri": "https://localhost:8080/",
          "height": 218
        },
        "outputId": "7cf0cc2b-5cd1-400b-9b04-4a2b1e99b106"
      },
      "source": [
        "hair['product_title'].value_counts()"
      ],
      "execution_count": 75,
      "outputs": [
        {
          "output_type": "execute_result",
          "data": {
            "text/plain": [
              "remington ac2015 t|studio salon collection pearl ceramic hair dryer, deep purple    515\n",
              "andis 1875-watt fold-n-go ionic hair dryer , silver/black (80020)                   510\n",
              "conair 1875 watt tourmaline ceramic hair dryer                                      506\n",
              "revlon essentials 1875w fast dry hair dryer, rv408                                  377\n",
              "conair corp pers care 146np conair ionic conditioning 1875-watt hair dryer          360\n",
              "                                                                                   ... \n",
              "t3 evolution hair dryer professional ceramic bespoke labs, 83888                      1\n",
              "Mac Hello Kitty Eyeliner Liquid Expert Waterproof                                     1\n",
              "Hairbrush - Acrylic 1/2 Round                                                         1\n",
              "5 Pairs Set of 10 Toe Separators Divider                                              1\n",
              "Homedics Therapist Select Shiatsu Massaging Cushion SBM-300                           1\n",
              "Name: product_title, Length: 388, dtype: int64"
            ]
          },
          "metadata": {
            "tags": []
          },
          "execution_count": 75
        }
      ]
    },
    {
      "cell_type": "code",
      "metadata": {
        "id": "8P_pmSRL2TGD",
        "colab_type": "code",
        "colab": {}
      },
      "source": [
        "hair.to_csv(r'hair.csv', index = False)\n",
        "baby.to_csv(r'baby.csv', index = False)\n",
        "micro.to_csv(r'micro.csv', index = False)"
      ],
      "execution_count": 0,
      "outputs": []
    },
    {
      "cell_type": "code",
      "metadata": {
        "id": "O7_fTCyE3aEq",
        "colab_type": "code",
        "colab": {
          "base_uri": "https://localhost:8080/",
          "height": 296
        },
        "outputId": "87a747c4-756c-4661-fbf1-29ee16fa8de7"
      },
      "source": [
        "hair.head()"
      ],
      "execution_count": 78,
      "outputs": [
        {
          "output_type": "execute_result",
          "data": {
            "text/html": [
              "<div>\n",
              "<style scoped>\n",
              "    .dataframe tbody tr th:only-of-type {\n",
              "        vertical-align: middle;\n",
              "    }\n",
              "\n",
              "    .dataframe tbody tr th {\n",
              "        vertical-align: top;\n",
              "    }\n",
              "\n",
              "    .dataframe thead th {\n",
              "        text-align: right;\n",
              "    }\n",
              "</style>\n",
              "<table border=\"1\" class=\"dataframe\">\n",
              "  <thead>\n",
              "    <tr style=\"text-align: right;\">\n",
              "      <th></th>\n",
              "      <th>customer_id</th>\n",
              "      <th>review_id</th>\n",
              "      <th>product_id</th>\n",
              "      <th>product_parent</th>\n",
              "      <th>product_title</th>\n",
              "      <th>star_rating</th>\n",
              "      <th>helpful_votes</th>\n",
              "      <th>total_votes</th>\n",
              "      <th>review_headline</th>\n",
              "      <th>review_body</th>\n",
              "      <th>yy</th>\n",
              "      <th>dd</th>\n",
              "      <th>mm</th>\n",
              "    </tr>\n",
              "  </thead>\n",
              "  <tbody>\n",
              "    <tr>\n",
              "      <th>0</th>\n",
              "      <td>34678741</td>\n",
              "      <td>R9T1FE2ZX2X04</td>\n",
              "      <td>B003V264WW</td>\n",
              "      <td>732252283</td>\n",
              "      <td>remington ac2015 t|studio salon collection pea...</td>\n",
              "      <td>5</td>\n",
              "      <td>0</td>\n",
              "      <td>0</td>\n",
              "      <td>Works great</td>\n",
              "      <td>Works great!</td>\n",
              "      <td>2015</td>\n",
              "      <td>31</td>\n",
              "      <td>8</td>\n",
              "    </tr>\n",
              "    <tr>\n",
              "      <th>1</th>\n",
              "      <td>11599505</td>\n",
              "      <td>RE36JAD5V53PO</td>\n",
              "      <td>B0009XH6V4</td>\n",
              "      <td>670161917</td>\n",
              "      <td>andis micro turbo hair dryer</td>\n",
              "      <td>4</td>\n",
              "      <td>0</td>\n",
              "      <td>0</td>\n",
              "      <td>I love travel blow dryers because they are eas...</td>\n",
              "      <td>This dries my hair faster that bigger, more po...</td>\n",
              "      <td>2015</td>\n",
              "      <td>31</td>\n",
              "      <td>8</td>\n",
              "    </tr>\n",
              "    <tr>\n",
              "      <th>2</th>\n",
              "      <td>2282190</td>\n",
              "      <td>RIDHM8B7SCCV3</td>\n",
              "      <td>B0007NZPY6</td>\n",
              "      <td>16483457</td>\n",
              "      <td>conair pro hair dryer</td>\n",
              "      <td>5</td>\n",
              "      <td>0</td>\n",
              "      <td>1</td>\n",
              "      <td>Five Stars</td>\n",
              "      <td>Love this dryer!</td>\n",
              "      <td>2015</td>\n",
              "      <td>31</td>\n",
              "      <td>8</td>\n",
              "    </tr>\n",
              "    <tr>\n",
              "      <th>3</th>\n",
              "      <td>43669858</td>\n",
              "      <td>R14QGWPCHU9LSE</td>\n",
              "      <td>B00BB8ZIW0</td>\n",
              "      <td>253917972</td>\n",
              "      <td>remington silk ceramic professional hair dryer</td>\n",
              "      <td>5</td>\n",
              "      <td>0</td>\n",
              "      <td>0</td>\n",
              "      <td>Five Stars</td>\n",
              "      <td>styling hair in style</td>\n",
              "      <td>2015</td>\n",
              "      <td>31</td>\n",
              "      <td>8</td>\n",
              "    </tr>\n",
              "    <tr>\n",
              "      <th>5</th>\n",
              "      <td>51995766</td>\n",
              "      <td>R230LCPQDOFJJZ</td>\n",
              "      <td>B000065DJY</td>\n",
              "      <td>919751065</td>\n",
              "      <td>revlon 1875w volumizing hair dryer</td>\n",
              "      <td>5</td>\n",
              "      <td>0</td>\n",
              "      <td>0</td>\n",
              "      <td>Five Stars</td>\n",
              "      <td>Excellent dryer.</td>\n",
              "      <td>2015</td>\n",
              "      <td>31</td>\n",
              "      <td>8</td>\n",
              "    </tr>\n",
              "  </tbody>\n",
              "</table>\n",
              "</div>"
            ],
            "text/plain": [
              "   customer_id       review_id  product_id  ...    yy  dd  mm\n",
              "0     34678741   R9T1FE2ZX2X04  B003V264WW  ...  2015  31   8\n",
              "1     11599505   RE36JAD5V53PO  B0009XH6V4  ...  2015  31   8\n",
              "2      2282190   RIDHM8B7SCCV3  B0007NZPY6  ...  2015  31   8\n",
              "3     43669858  R14QGWPCHU9LSE  B00BB8ZIW0  ...  2015  31   8\n",
              "5     51995766  R230LCPQDOFJJZ  B000065DJY  ...  2015  31   8\n",
              "\n",
              "[5 rows x 13 columns]"
            ]
          },
          "metadata": {
            "tags": []
          },
          "execution_count": 78
        }
      ]
    },
    {
      "cell_type": "code",
      "metadata": {
        "id": "SJy0uxIm4owM",
        "colab_type": "code",
        "colab": {}
      },
      "source": [
        "hair = hair.sort_values(by=['yy', 'mm', 'dd'], ascending=(True, True, True))\n",
        "micro = micro.sort_values(by=['yy', 'mm', 'dd'], ascending=(True, True, True))\n",
        "baby = baby.sort_values(by=['yy', 'mm', 'dd'], ascending=(True, True, True))"
      ],
      "execution_count": 0,
      "outputs": []
    },
    {
      "cell_type": "code",
      "metadata": {
        "id": "bPZcInw-59op",
        "colab_type": "code",
        "colab": {
          "base_uri": "https://localhost:8080/",
          "height": 397
        },
        "outputId": "f904b4f8-d023-4e8c-fc2b-7a0dc414f923"
      },
      "source": [
        "hair.head()"
      ],
      "execution_count": 85,
      "outputs": [
        {
          "output_type": "execute_result",
          "data": {
            "text/html": [
              "<div>\n",
              "<style scoped>\n",
              "    .dataframe tbody tr th:only-of-type {\n",
              "        vertical-align: middle;\n",
              "    }\n",
              "\n",
              "    .dataframe tbody tr th {\n",
              "        vertical-align: top;\n",
              "    }\n",
              "\n",
              "    .dataframe thead th {\n",
              "        text-align: right;\n",
              "    }\n",
              "</style>\n",
              "<table border=\"1\" class=\"dataframe\">\n",
              "  <thead>\n",
              "    <tr style=\"text-align: right;\">\n",
              "      <th></th>\n",
              "      <th>customer_id</th>\n",
              "      <th>review_id</th>\n",
              "      <th>product_id</th>\n",
              "      <th>product_parent</th>\n",
              "      <th>product_title</th>\n",
              "      <th>star_rating</th>\n",
              "      <th>helpful_votes</th>\n",
              "      <th>total_votes</th>\n",
              "      <th>review_headline</th>\n",
              "      <th>review_body</th>\n",
              "      <th>yy</th>\n",
              "      <th>dd</th>\n",
              "      <th>mm</th>\n",
              "    </tr>\n",
              "  </thead>\n",
              "  <tbody>\n",
              "    <tr>\n",
              "      <th>11469</th>\n",
              "      <td>43740490</td>\n",
              "      <td>R2XM83JYE2KDE2</td>\n",
              "      <td>B00005O0MZ</td>\n",
              "      <td>694290590</td>\n",
              "      <td>conair corp pers care 146np conair ionic condi...</td>\n",
              "      <td>3</td>\n",
              "      <td>320</td>\n",
              "      <td>332</td>\n",
              "      <td>Some pluses, some minuses</td>\n",
              "      <td>This is my only experience with an ionic hair ...</td>\n",
              "      <td>2002</td>\n",
              "      <td>2</td>\n",
              "      <td>3</td>\n",
              "    </tr>\n",
              "    <tr>\n",
              "      <th>11467</th>\n",
              "      <td>37733836</td>\n",
              "      <td>R3GO6L5PWBS0IW</td>\n",
              "      <td>B00005O0MZ</td>\n",
              "      <td>694290590</td>\n",
              "      <td>conair corp pers care 146np conair ionic condi...</td>\n",
              "      <td>5</td>\n",
              "      <td>4</td>\n",
              "      <td>4</td>\n",
              "      <td>The best dryer!!!</td>\n",
              "      <td>I love this dryer not only is it QUIET, it rea...</td>\n",
              "      <td>2002</td>\n",
              "      <td>13</td>\n",
              "      <td>7</td>\n",
              "    </tr>\n",
              "    <tr>\n",
              "      <th>11446</th>\n",
              "      <td>50473837</td>\n",
              "      <td>R12APPEFY714W7</td>\n",
              "      <td>B00005O0MZ</td>\n",
              "      <td>694290590</td>\n",
              "      <td>conair corp pers care 146np conair ionic condi...</td>\n",
              "      <td>2</td>\n",
              "      <td>5</td>\n",
              "      <td>6</td>\n",
              "      <td>a Bit Disappointed</td>\n",
              "      <td>The on/off switch on this dryer needs improvem...</td>\n",
              "      <td>2004</td>\n",
              "      <td>15</td>\n",
              "      <td>8</td>\n",
              "    </tr>\n",
              "    <tr>\n",
              "      <th>11442</th>\n",
              "      <td>51785663</td>\n",
              "      <td>R3NZ6I1EKJ9FQL</td>\n",
              "      <td>B0002G214U</td>\n",
              "      <td>685652978</td>\n",
              "      <td>conair soft bonnet hair dryer 1 ea</td>\n",
              "      <td>1</td>\n",
              "      <td>165</td>\n",
              "      <td>168</td>\n",
              "      <td>Very Poor Product</td>\n",
              "      <td>I wish I could have read reviews on this produ...</td>\n",
              "      <td>2005</td>\n",
              "      <td>25</td>\n",
              "      <td>5</td>\n",
              "    </tr>\n",
              "    <tr>\n",
              "      <th>11436</th>\n",
              "      <td>38641465</td>\n",
              "      <td>R37KYGDKHQ87NK</td>\n",
              "      <td>B0009XH6TG</td>\n",
              "      <td>47684938</td>\n",
              "      <td>andis 1875-watt fold-n-go ionic hair dryer , s...</td>\n",
              "      <td>4</td>\n",
              "      <td>263</td>\n",
              "      <td>270</td>\n",
              "      <td>Great product and the only ceramic, ionic blow...</td>\n",
              "      <td>This is the only ceramic, ionic blow dryer wit...</td>\n",
              "      <td>2005</td>\n",
              "      <td>15</td>\n",
              "      <td>9</td>\n",
              "    </tr>\n",
              "  </tbody>\n",
              "</table>\n",
              "</div>"
            ],
            "text/plain": [
              "       customer_id       review_id  product_id  ...    yy  dd  mm\n",
              "11469     43740490  R2XM83JYE2KDE2  B00005O0MZ  ...  2002   2   3\n",
              "11467     37733836  R3GO6L5PWBS0IW  B00005O0MZ  ...  2002  13   7\n",
              "11446     50473837  R12APPEFY714W7  B00005O0MZ  ...  2004  15   8\n",
              "11442     51785663  R3NZ6I1EKJ9FQL  B0002G214U  ...  2005  25   5\n",
              "11436     38641465  R37KYGDKHQ87NK  B0009XH6TG  ...  2005  15   9\n",
              "\n",
              "[5 rows x 13 columns]"
            ]
          },
          "metadata": {
            "tags": []
          },
          "execution_count": 85
        }
      ]
    },
    {
      "cell_type": "code",
      "metadata": {
        "id": "W9PDLqL26Iy9",
        "colab_type": "code",
        "colab": {}
      },
      "source": [
        "order = ['yy','mm','dd','customer_id','review_id','product_id','product_parent','product_title','star_rating','helpful_votes','total_votes','review_headline','review_body']\n",
        "hair = hair[order]\n",
        "micro = micro[order]\n",
        "baby = baby[order]"
      ],
      "execution_count": 0,
      "outputs": []
    },
    {
      "cell_type": "code",
      "metadata": {
        "id": "gNKd17xg7HaZ",
        "colab_type": "code",
        "colab": {
          "base_uri": "https://localhost:8080/",
          "height": 430
        },
        "outputId": "2cd551c2-d340-42bc-8692-1357dfd0bd74"
      },
      "source": [
        "hair.head()"
      ],
      "execution_count": 87,
      "outputs": [
        {
          "output_type": "execute_result",
          "data": {
            "text/html": [
              "<div>\n",
              "<style scoped>\n",
              "    .dataframe tbody tr th:only-of-type {\n",
              "        vertical-align: middle;\n",
              "    }\n",
              "\n",
              "    .dataframe tbody tr th {\n",
              "        vertical-align: top;\n",
              "    }\n",
              "\n",
              "    .dataframe thead th {\n",
              "        text-align: right;\n",
              "    }\n",
              "</style>\n",
              "<table border=\"1\" class=\"dataframe\">\n",
              "  <thead>\n",
              "    <tr style=\"text-align: right;\">\n",
              "      <th></th>\n",
              "      <th>yy</th>\n",
              "      <th>mm</th>\n",
              "      <th>dd</th>\n",
              "      <th>customer_id</th>\n",
              "      <th>review_id</th>\n",
              "      <th>product_id</th>\n",
              "      <th>product_parent</th>\n",
              "      <th>product_title</th>\n",
              "      <th>star_rating</th>\n",
              "      <th>helpful_votes</th>\n",
              "      <th>total_votes</th>\n",
              "      <th>review_headline</th>\n",
              "      <th>review_body</th>\n",
              "    </tr>\n",
              "  </thead>\n",
              "  <tbody>\n",
              "    <tr>\n",
              "      <th>11469</th>\n",
              "      <td>2002</td>\n",
              "      <td>3</td>\n",
              "      <td>2</td>\n",
              "      <td>43740490</td>\n",
              "      <td>R2XM83JYE2KDE2</td>\n",
              "      <td>B00005O0MZ</td>\n",
              "      <td>694290590</td>\n",
              "      <td>conair corp pers care 146np conair ionic condi...</td>\n",
              "      <td>3</td>\n",
              "      <td>320</td>\n",
              "      <td>332</td>\n",
              "      <td>Some pluses, some minuses</td>\n",
              "      <td>This is my only experience with an ionic hair ...</td>\n",
              "    </tr>\n",
              "    <tr>\n",
              "      <th>11467</th>\n",
              "      <td>2002</td>\n",
              "      <td>7</td>\n",
              "      <td>13</td>\n",
              "      <td>37733836</td>\n",
              "      <td>R3GO6L5PWBS0IW</td>\n",
              "      <td>B00005O0MZ</td>\n",
              "      <td>694290590</td>\n",
              "      <td>conair corp pers care 146np conair ionic condi...</td>\n",
              "      <td>5</td>\n",
              "      <td>4</td>\n",
              "      <td>4</td>\n",
              "      <td>The best dryer!!!</td>\n",
              "      <td>I love this dryer not only is it QUIET, it rea...</td>\n",
              "    </tr>\n",
              "    <tr>\n",
              "      <th>11446</th>\n",
              "      <td>2004</td>\n",
              "      <td>8</td>\n",
              "      <td>15</td>\n",
              "      <td>50473837</td>\n",
              "      <td>R12APPEFY714W7</td>\n",
              "      <td>B00005O0MZ</td>\n",
              "      <td>694290590</td>\n",
              "      <td>conair corp pers care 146np conair ionic condi...</td>\n",
              "      <td>2</td>\n",
              "      <td>5</td>\n",
              "      <td>6</td>\n",
              "      <td>a Bit Disappointed</td>\n",
              "      <td>The on/off switch on this dryer needs improvem...</td>\n",
              "    </tr>\n",
              "    <tr>\n",
              "      <th>11442</th>\n",
              "      <td>2005</td>\n",
              "      <td>5</td>\n",
              "      <td>25</td>\n",
              "      <td>51785663</td>\n",
              "      <td>R3NZ6I1EKJ9FQL</td>\n",
              "      <td>B0002G214U</td>\n",
              "      <td>685652978</td>\n",
              "      <td>conair soft bonnet hair dryer 1 ea</td>\n",
              "      <td>1</td>\n",
              "      <td>165</td>\n",
              "      <td>168</td>\n",
              "      <td>Very Poor Product</td>\n",
              "      <td>I wish I could have read reviews on this produ...</td>\n",
              "    </tr>\n",
              "    <tr>\n",
              "      <th>11436</th>\n",
              "      <td>2005</td>\n",
              "      <td>9</td>\n",
              "      <td>15</td>\n",
              "      <td>38641465</td>\n",
              "      <td>R37KYGDKHQ87NK</td>\n",
              "      <td>B0009XH6TG</td>\n",
              "      <td>47684938</td>\n",
              "      <td>andis 1875-watt fold-n-go ionic hair dryer , s...</td>\n",
              "      <td>4</td>\n",
              "      <td>263</td>\n",
              "      <td>270</td>\n",
              "      <td>Great product and the only ceramic, ionic blow...</td>\n",
              "      <td>This is the only ceramic, ionic blow dryer wit...</td>\n",
              "    </tr>\n",
              "  </tbody>\n",
              "</table>\n",
              "</div>"
            ],
            "text/plain": [
              "         yy  ...                                        review_body\n",
              "11469  2002  ...  This is my only experience with an ionic hair ...\n",
              "11467  2002  ...  I love this dryer not only is it QUIET, it rea...\n",
              "11446  2004  ...  The on/off switch on this dryer needs improvem...\n",
              "11442  2005  ...  I wish I could have read reviews on this produ...\n",
              "11436  2005  ...  This is the only ceramic, ionic blow dryer wit...\n",
              "\n",
              "[5 rows x 13 columns]"
            ]
          },
          "metadata": {
            "tags": []
          },
          "execution_count": 87
        }
      ]
    },
    {
      "cell_type": "code",
      "metadata": {
        "id": "I7QX-arz7JC4",
        "colab_type": "code",
        "colab": {}
      },
      "source": [
        "hair.reset_index(drop=True, inplace=True)\n",
        "micro.reset_index(drop=True, inplace=True)\n",
        "baby.reset_index(drop=True, inplace=True)"
      ],
      "execution_count": 0,
      "outputs": []
    },
    {
      "cell_type": "code",
      "metadata": {
        "id": "HVz9CZZ87ipj",
        "colab_type": "code",
        "colab": {
          "base_uri": "https://localhost:8080/",
          "height": 380
        },
        "outputId": "fa98cab1-f4ee-4b3d-dfda-32f78ad8b559"
      },
      "source": [
        "hair.head()"
      ],
      "execution_count": 89,
      "outputs": [
        {
          "output_type": "execute_result",
          "data": {
            "text/html": [
              "<div>\n",
              "<style scoped>\n",
              "    .dataframe tbody tr th:only-of-type {\n",
              "        vertical-align: middle;\n",
              "    }\n",
              "\n",
              "    .dataframe tbody tr th {\n",
              "        vertical-align: top;\n",
              "    }\n",
              "\n",
              "    .dataframe thead th {\n",
              "        text-align: right;\n",
              "    }\n",
              "</style>\n",
              "<table border=\"1\" class=\"dataframe\">\n",
              "  <thead>\n",
              "    <tr style=\"text-align: right;\">\n",
              "      <th></th>\n",
              "      <th>yy</th>\n",
              "      <th>mm</th>\n",
              "      <th>dd</th>\n",
              "      <th>customer_id</th>\n",
              "      <th>review_id</th>\n",
              "      <th>product_id</th>\n",
              "      <th>product_parent</th>\n",
              "      <th>product_title</th>\n",
              "      <th>star_rating</th>\n",
              "      <th>helpful_votes</th>\n",
              "      <th>total_votes</th>\n",
              "      <th>review_headline</th>\n",
              "      <th>review_body</th>\n",
              "    </tr>\n",
              "  </thead>\n",
              "  <tbody>\n",
              "    <tr>\n",
              "      <th>0</th>\n",
              "      <td>2002</td>\n",
              "      <td>3</td>\n",
              "      <td>2</td>\n",
              "      <td>43740490</td>\n",
              "      <td>R2XM83JYE2KDE2</td>\n",
              "      <td>B00005O0MZ</td>\n",
              "      <td>694290590</td>\n",
              "      <td>conair corp pers care 146np conair ionic condi...</td>\n",
              "      <td>3</td>\n",
              "      <td>320</td>\n",
              "      <td>332</td>\n",
              "      <td>Some pluses, some minuses</td>\n",
              "      <td>This is my only experience with an ionic hair ...</td>\n",
              "    </tr>\n",
              "    <tr>\n",
              "      <th>1</th>\n",
              "      <td>2002</td>\n",
              "      <td>7</td>\n",
              "      <td>13</td>\n",
              "      <td>37733836</td>\n",
              "      <td>R3GO6L5PWBS0IW</td>\n",
              "      <td>B00005O0MZ</td>\n",
              "      <td>694290590</td>\n",
              "      <td>conair corp pers care 146np conair ionic condi...</td>\n",
              "      <td>5</td>\n",
              "      <td>4</td>\n",
              "      <td>4</td>\n",
              "      <td>The best dryer!!!</td>\n",
              "      <td>I love this dryer not only is it QUIET, it rea...</td>\n",
              "    </tr>\n",
              "    <tr>\n",
              "      <th>2</th>\n",
              "      <td>2004</td>\n",
              "      <td>8</td>\n",
              "      <td>15</td>\n",
              "      <td>50473837</td>\n",
              "      <td>R12APPEFY714W7</td>\n",
              "      <td>B00005O0MZ</td>\n",
              "      <td>694290590</td>\n",
              "      <td>conair corp pers care 146np conair ionic condi...</td>\n",
              "      <td>2</td>\n",
              "      <td>5</td>\n",
              "      <td>6</td>\n",
              "      <td>a Bit Disappointed</td>\n",
              "      <td>The on/off switch on this dryer needs improvem...</td>\n",
              "    </tr>\n",
              "    <tr>\n",
              "      <th>3</th>\n",
              "      <td>2005</td>\n",
              "      <td>5</td>\n",
              "      <td>25</td>\n",
              "      <td>51785663</td>\n",
              "      <td>R3NZ6I1EKJ9FQL</td>\n",
              "      <td>B0002G214U</td>\n",
              "      <td>685652978</td>\n",
              "      <td>conair soft bonnet hair dryer 1 ea</td>\n",
              "      <td>1</td>\n",
              "      <td>165</td>\n",
              "      <td>168</td>\n",
              "      <td>Very Poor Product</td>\n",
              "      <td>I wish I could have read reviews on this produ...</td>\n",
              "    </tr>\n",
              "    <tr>\n",
              "      <th>4</th>\n",
              "      <td>2005</td>\n",
              "      <td>9</td>\n",
              "      <td>15</td>\n",
              "      <td>38641465</td>\n",
              "      <td>R37KYGDKHQ87NK</td>\n",
              "      <td>B0009XH6TG</td>\n",
              "      <td>47684938</td>\n",
              "      <td>andis 1875-watt fold-n-go ionic hair dryer , s...</td>\n",
              "      <td>4</td>\n",
              "      <td>263</td>\n",
              "      <td>270</td>\n",
              "      <td>Great product and the only ceramic, ionic blow...</td>\n",
              "      <td>This is the only ceramic, ionic blow dryer wit...</td>\n",
              "    </tr>\n",
              "  </tbody>\n",
              "</table>\n",
              "</div>"
            ],
            "text/plain": [
              "     yy  ...                                        review_body\n",
              "0  2002  ...  This is my only experience with an ionic hair ...\n",
              "1  2002  ...  I love this dryer not only is it QUIET, it rea...\n",
              "2  2004  ...  The on/off switch on this dryer needs improvem...\n",
              "3  2005  ...  I wish I could have read reviews on this produ...\n",
              "4  2005  ...  This is the only ceramic, ionic blow dryer wit...\n",
              "\n",
              "[5 rows x 13 columns]"
            ]
          },
          "metadata": {
            "tags": []
          },
          "execution_count": 89
        }
      ]
    },
    {
      "cell_type": "code",
      "metadata": {
        "id": "x1isHVN_7k_8",
        "colab_type": "code",
        "colab": {
          "base_uri": "https://localhost:8080/",
          "height": 34
        },
        "outputId": "e6554c3a-617a-42ff-f7b1-b5b9ecd9517b"
      },
      "source": [
        "hair.shape"
      ],
      "execution_count": 90,
      "outputs": [
        {
          "output_type": "execute_result",
          "data": {
            "text/plain": [
              "(9811, 13)"
            ]
          },
          "metadata": {
            "tags": []
          },
          "execution_count": 90
        }
      ]
    },
    {
      "cell_type": "code",
      "metadata": {
        "id": "5G2D0lqs7nOh",
        "colab_type": "code",
        "colab": {}
      },
      "source": [
        "hair.to_csv(r'hair.csv', index = False)\n",
        "baby.to_csv(r'baby.csv', index = False)\n",
        "micro.to_csv(r'micro.csv', index = False)"
      ],
      "execution_count": 0,
      "outputs": []
    },
    {
      "cell_type": "code",
      "metadata": {
        "id": "QAJN9Ryf7zry",
        "colab_type": "code",
        "colab": {}
      },
      "source": [
        ""
      ],
      "execution_count": 0,
      "outputs": []
    }
  ]
}